{
 "cells": [
  {
   "cell_type": "markdown",
   "id": "827d9ae0-6897-494f-b168-2d24f11bfa28",
   "metadata": {},
   "source": [
    "### This is test heading."
   ]
  },
  {
   "cell_type": "markdown",
   "id": "5d058380-48cd-4e1c-9adc-a05189925d50",
   "metadata": {},
   "source": [
    "## Shortcuts\n",
    "a- add cell above\n",
    "b- add cell below\n",
    "m- change cell to markdown\n",
    "y- change cell to code\n",
    "esc- goes outer of the cell\n",
    "enter- goes to edit interface of the cell\n",
    "dd- delete the cell\n",
    "shift + enter - run cell and add new cell below\n",
    "control + enter - run cell"
   ]
  },
  {
   "cell_type": "code",
   "execution_count": 1,
   "id": "787c2673-9ad3-435f-aa9e-b5ea062f65d4",
   "metadata": {},
   "outputs": [
    {
     "name": "stdout",
     "output_type": "stream",
     "text": [
      "Hello, World!\n"
     ]
    }
   ],
   "source": [
    "# First python program\n",
    "print('Hello, World!')"
   ]
  },
  {
   "cell_type": "code",
   "execution_count": 2,
   "id": "018d7d9d-bff6-4a00-8575-de8fd70b098a",
   "metadata": {},
   "outputs": [
    {
     "data": {
      "text/plain": [
       "' Is this also multiline comment\\nnot actually a comment, is a string but treated as comment '"
      ]
     },
     "execution_count": 2,
     "metadata": {},
     "output_type": "execute_result"
    }
   ],
   "source": [
    "# This is single line comment. (#)\n",
    "# This is multi line comment.\n",
    "# I can write many lines of comment here.\n",
    "''' Is this also multiline comment\n",
    "not actually a comment, is a string but treated as comment '''"
   ]
  },
  {
   "cell_type": "markdown",
   "id": "11265ec9-062f-4151-b3d1-644b893f7505",
   "metadata": {},
   "source": [
    "## python variables and literals"
   ]
  },
  {
   "cell_type": "markdown",
   "id": "894302da-6a46-4cf7-95ea-92b41bf54aa9",
   "metadata": {},
   "source": [
    "### python variables"
   ]
  },
  {
   "cell_type": "code",
   "execution_count": 3,
   "id": "8ef87460-610a-477e-86f5-deab455ee414",
   "metadata": {},
   "outputs": [],
   "source": [
    "a = 1\n",
    "b = 2\n",
    "c = 3"
   ]
  },
  {
   "cell_type": "code",
   "execution_count": 4,
   "id": "5b426160-fc8a-4d5d-a943-b10dd3b80b75",
   "metadata": {},
   "outputs": [],
   "source": [
    "# changing the value of variable c to 10\n",
    "c = 10"
   ]
  },
  {
   "cell_type": "code",
   "execution_count": 5,
   "id": "79b56c95-b871-4c85-9e76-727d4f5df912",
   "metadata": {},
   "outputs": [],
   "source": [
    "# assigning string value to variable str1\n",
    "str1 = 'This is string.'"
   ]
  },
  {
   "cell_type": "code",
   "execution_count": 6,
   "id": "57866b26-b895-4c55-bd3e-78cd40ff25cc",
   "metadata": {},
   "outputs": [],
   "source": [
    "name, semester, roll = 'Harry', 7, 10"
   ]
  },
  {
   "cell_type": "code",
   "execution_count": 7,
   "id": "3305cfa4-9162-496c-b1d0-b4bb64e83e48",
   "metadata": {},
   "outputs": [
    {
     "name": "stdout",
     "output_type": "stream",
     "text": [
      "Harry\n"
     ]
    }
   ],
   "source": [
    "print(name)"
   ]
  },
  {
   "cell_type": "markdown",
   "id": "5d9df928-3d29-44c8-8936-68dbbd9875c8",
   "metadata": {},
   "source": [
    "### Literals"
   ]
  },
  {
   "cell_type": "code",
   "execution_count": 8,
   "id": "c0062625-c08c-4c01-902d-8f9da5b8b770",
   "metadata": {},
   "outputs": [],
   "source": [
    "# numeric literals\n",
    "# integer\n",
    "# floating point\n",
    "# complex\n",
    "# string\n",
    "# boolean\n",
    "# characters"
   ]
  },
  {
   "cell_type": "markdown",
   "id": "08a3c501-43d3-42d5-b962-81bd018c3ad2",
   "metadata": {},
   "source": [
    "## Type Conversion"
   ]
  },
  {
   "cell_type": "code",
   "execution_count": 9,
   "id": "60338456-8599-4c44-81e1-6e468a1b736f",
   "metadata": {},
   "outputs": [],
   "source": [
    "# There are two types of type conversions. They are:\n",
    "# implict - does automatically by python\n",
    "# explicit - user defined"
   ]
  },
  {
   "cell_type": "code",
   "execution_count": 10,
   "id": "999d81ba-7947-49f2-9426-40159f2aafb5",
   "metadata": {},
   "outputs": [
    {
     "name": "stdout",
     "output_type": "stream",
     "text": [
      "6.3\n"
     ]
    }
   ],
   "source": [
    "int1 = 3\n",
    "float1 = 3.3\n",
    "result = int1 + float1\n",
    "print(result)"
   ]
  },
  {
   "cell_type": "code",
   "execution_count": 11,
   "id": "458f7aa7-0ad3-46a0-b9f4-d2a3926347f6",
   "metadata": {},
   "outputs": [
    {
     "data": {
      "text/plain": [
       "int"
      ]
     },
     "execution_count": 11,
     "metadata": {},
     "output_type": "execute_result"
    }
   ],
   "source": [
    "# type() function\n",
    "type(int1)"
   ]
  },
  {
   "cell_type": "code",
   "execution_count": 12,
   "id": "8d440d1f-9d49-4a20-8577-441d52e91382",
   "metadata": {},
   "outputs": [],
   "source": [
    "# explict int(), float()\n",
    "result = int(result)"
   ]
  },
  {
   "cell_type": "code",
   "execution_count": 13,
   "id": "bce6f024-2a27-4b7f-b518-9c748a6650c1",
   "metadata": {},
   "outputs": [
    {
     "data": {
      "text/plain": [
       "6"
      ]
     },
     "execution_count": 13,
     "metadata": {},
     "output_type": "execute_result"
    }
   ],
   "source": [
    "result"
   ]
  },
  {
   "cell_type": "code",
   "execution_count": 14,
   "id": "849380a5-616a-4d0d-b209-1c82724ba18b",
   "metadata": {},
   "outputs": [],
   "source": [
    "# Task: Create a variable for string value (abc) and convert ot int\n",
    "# stirngValue = 'abc'\n",
    "# intValue = int(stringValue)\n",
    "# This above code gives error because letters can't be converted to integer."
   ]
  },
  {
   "cell_type": "code",
   "execution_count": 15,
   "id": "2cc128c8-2e08-44db-ab90-7b5681135403",
   "metadata": {},
   "outputs": [
    {
     "name": "stdout",
     "output_type": "stream",
     "text": [
      "<class 'str'>\n",
      "123\n"
     ]
    }
   ],
   "source": [
    "# This will be the valid way to convert stirng to integer\n",
    "validString = '123'\n",
    "print(type(validString))\n",
    "validString = int(validString)\n",
    "print(validString)"
   ]
  },
  {
   "cell_type": "markdown",
   "id": "68759e95-7808-4759-be0a-7ee732d6470f",
   "metadata": {},
   "source": [
    "## Input and Output"
   ]
  },
  {
   "cell_type": "code",
   "execution_count": 16,
   "id": "a024e6a3-4982-41c2-885e-e4f61f742000",
   "metadata": {},
   "outputs": [
    {
     "name": "stdout",
     "output_type": "stream",
     "text": [
      "This is out first python class.\n"
     ]
    }
   ],
   "source": [
    "# Output by print()\n",
    "print('This is out first python class.')"
   ]
  },
  {
   "cell_type": "code",
   "execution_count": 17,
   "id": "4d3dae6e-f823-47d6-8301-9dd054c08c87",
   "metadata": {},
   "outputs": [
    {
     "name": "stdout",
     "output_type": "stream",
     "text": [
      "My name is  Kiran Shrestha\n"
     ]
    }
   ],
   "source": [
    "# output with message and variable.\n",
    "myName = 'Kiran Shrestha'\n",
    "print(\"My name is \", myName)"
   ]
  },
  {
   "cell_type": "code",
   "execution_count": 18,
   "id": "ac602017-b691-44b2-99fe-054286d8cbac",
   "metadata": {},
   "outputs": [
    {
     "name": "stdout",
     "output_type": "stream",
     "text": [
      "My name is Kiran Shrestha . I currently live in  Chabahil, Kathmandu .\n"
     ]
    }
   ],
   "source": [
    "# output with many many variables\n",
    "myAddress = 'Chabahil, Kathmandu'\n",
    "print(\"My name is\", myName, \". I currently live in \", myAddress, \".\")"
   ]
  },
  {
   "cell_type": "code",
   "execution_count": 19,
   "id": "f854d8ec-1ae5-401f-be45-ff52bcea97ac",
   "metadata": {},
   "outputs": [
    {
     "name": "stdout",
     "output_type": "stream",
     "text": [
      "My name is Kiran Shrestha. I currently live in Chabahil, Kathmandu\n"
     ]
    }
   ],
   "source": [
    "# output using format\n",
    "# first of all, we need to know about 'Placeholder'\n",
    "print('My name is {}. I currently live in {}'.format(myName, myAddress))"
   ]
  },
  {
   "cell_type": "markdown",
   "id": "2edb043a-5b4f-4bca-b099-db0301c84cee",
   "metadata": {},
   "source": [
    "### Inputs"
   ]
  },
  {
   "cell_type": "code",
   "execution_count": 20,
   "id": "e20d5e87-c704-4ebd-9afd-c983939b8cbb",
   "metadata": {},
   "outputs": [],
   "source": [
    "# input by sing input()\n",
    "a = input()"
   ]
  },
  {
   "cell_type": "code",
   "execution_count": 21,
   "id": "aa60650b-51fd-4417-ac48-e57b5620e0db",
   "metadata": {},
   "outputs": [
    {
     "data": {
      "text/plain": [
       "''"
      ]
     },
     "execution_count": 21,
     "metadata": {},
     "output_type": "execute_result"
    }
   ],
   "source": [
    "a"
   ]
  },
  {
   "cell_type": "code",
   "execution_count": 22,
   "id": "a0d6b401-bf34-4e16-b918-7cbc303a3787",
   "metadata": {},
   "outputs": [
    {
     "data": {
      "text/plain": [
       "str"
      ]
     },
     "execution_count": 22,
     "metadata": {},
     "output_type": "execute_result"
    }
   ],
   "source": [
    "type(a)"
   ]
  },
  {
   "cell_type": "code",
   "execution_count": 23,
   "id": "8816bfb2-e719-4f0b-9feb-c42564f423f2",
   "metadata": {},
   "outputs": [],
   "source": [
    "# input with message\n",
    "b = input('Enter your age here: ')"
   ]
  },
  {
   "cell_type": "code",
   "execution_count": 24,
   "id": "822bf123-1e9b-4014-bb0e-6c77e113e4af",
   "metadata": {},
   "outputs": [
    {
     "data": {
      "text/plain": [
       "'23'"
      ]
     },
     "execution_count": 24,
     "metadata": {},
     "output_type": "execute_result"
    }
   ],
   "source": [
    "b"
   ]
  },
  {
   "cell_type": "code",
   "execution_count": 25,
   "id": "a37f265b-a312-4541-9e67-3c90ec4d6c7c",
   "metadata": {},
   "outputs": [],
   "source": [
    "# input with message and type conversion\n",
    "age = int(input('Enter your age here: '))"
   ]
  },
  {
   "cell_type": "code",
   "execution_count": 26,
   "id": "09f09f52-0ba3-464d-af5d-dec73b4329bb",
   "metadata": {},
   "outputs": [
    {
     "data": {
      "text/plain": [
       "24"
      ]
     },
     "execution_count": 26,
     "metadata": {},
     "output_type": "execute_result"
    }
   ],
   "source": [
    "age"
   ]
  },
  {
   "cell_type": "code",
   "execution_count": 27,
   "id": "03aa4e99-14f1-4f6a-84f7-554113d0eafe",
   "metadata": {},
   "outputs": [
    {
     "name": "stdout",
     "output_type": "stream",
     "text": [
      "<class 'int'>\n"
     ]
    }
   ],
   "source": [
    "print(type(age))"
   ]
  },
  {
   "cell_type": "code",
   "execution_count": 28,
   "id": "b34d8086-8014-4729-b5f4-2a1c5b092a10",
   "metadata": {},
   "outputs": [
    {
     "name": "stdout",
     "output_type": "stream",
     "text": [
      "\n",
      "Name:  dff \n",
      "Semester:  7 \n",
      "Roll no:  12 \n",
      "Height:  12.0\n"
     ]
    }
   ],
   "source": [
    "# task\n",
    "name = input('Enter your name: ')\n",
    "semester = input('Enter your semester: ')\n",
    "roll = int(input('Enter your roll no: '))\n",
    "height = float(input(\"What's your height?\"))\n",
    "print('\\nName: ', name, '\\nSemester: ', semester, '\\nRoll no: ', roll, '\\nHeight: ', height)"
   ]
  },
  {
   "cell_type": "markdown",
   "id": "f1aedf7f-6c36-4af8-bc35-27573b078fb1",
   "metadata": {},
   "source": [
    "## python operators"
   ]
  },
  {
   "cell_type": "code",
   "execution_count": 29,
   "id": "8041a158-8382-4a68-ad12-9197285fa814",
   "metadata": {},
   "outputs": [],
   "source": [
    "# Types of operators in python\n",
    "# Arithmetic Operators ( +, -, *, /, %, //, **)\n",
    "# // -> double slash (floor division)\n",
    "# ** -> double astrik (to the power)\n",
    "\n",
    "a = 123\n",
    "b = 4.5\n",
    "c = 2\n",
    "d = 3"
   ]
  },
  {
   "cell_type": "code",
   "execution_count": 30,
   "id": "0d6acdd8-61ee-428f-8477-65dd8dbebae6",
   "metadata": {},
   "outputs": [
    {
     "data": {
      "text/plain": [
       "27.333333333333332"
      ]
     },
     "execution_count": 30,
     "metadata": {},
     "output_type": "execute_result"
    }
   ],
   "source": [
    "a/b"
   ]
  },
  {
   "cell_type": "code",
   "execution_count": 31,
   "id": "b71a29dd-f3e6-480a-9fed-d579b82827e4",
   "metadata": {},
   "outputs": [
    {
     "data": {
      "text/plain": [
       "27.0"
      ]
     },
     "execution_count": 31,
     "metadata": {},
     "output_type": "execute_result"
    }
   ],
   "source": [
    "a//b"
   ]
  },
  {
   "cell_type": "code",
   "execution_count": 32,
   "id": "1e94b712-c274-481c-a707-3fd9fa935e21",
   "metadata": {},
   "outputs": [
    {
     "data": {
      "text/plain": [
       "1.5"
      ]
     },
     "execution_count": 32,
     "metadata": {},
     "output_type": "execute_result"
    }
   ],
   "source": [
    "a%b"
   ]
  },
  {
   "cell_type": "code",
   "execution_count": 33,
   "id": "db00b917-9e47-43d2-8692-67e7abe4592d",
   "metadata": {},
   "outputs": [
    {
     "data": {
      "text/plain": [
       "8"
      ]
     },
     "execution_count": 33,
     "metadata": {},
     "output_type": "execute_result"
    }
   ],
   "source": [
    "c**d"
   ]
  },
  {
   "cell_type": "code",
   "execution_count": 34,
   "id": "17fb0863-e074-4eaa-b0e2-c28cdd2e00b7",
   "metadata": {},
   "outputs": [],
   "source": [
    "# assignment operator (=, +=, -=, *=, /=, %=, **=)\n",
    "x = 50\n"
   ]
  },
  {
   "cell_type": "code",
   "execution_count": 35,
   "id": "3c4f857b-4a1b-4632-a87f-c6eba74522ce",
   "metadata": {},
   "outputs": [],
   "source": [
    "x += 5"
   ]
  },
  {
   "cell_type": "code",
   "execution_count": 36,
   "id": "cdf10f67-ff11-4c03-bc40-4f597160b8d5",
   "metadata": {},
   "outputs": [
    {
     "name": "stdout",
     "output_type": "stream",
     "text": [
      "55\n"
     ]
    }
   ],
   "source": [
    "print(x)"
   ]
  },
  {
   "cell_type": "code",
   "execution_count": 37,
   "id": "f992c35a-b42f-40da-b495-f441f3c2d432",
   "metadata": {},
   "outputs": [],
   "source": [
    "x -= 5"
   ]
  },
  {
   "cell_type": "code",
   "execution_count": 38,
   "id": "5401eaa0-5cfe-4c0b-af1b-78aebdb696b8",
   "metadata": {},
   "outputs": [
    {
     "name": "stdout",
     "output_type": "stream",
     "text": [
      "50\n"
     ]
    }
   ],
   "source": [
    "print(x)"
   ]
  },
  {
   "cell_type": "code",
   "execution_count": 39,
   "id": "9e08f80b-3218-41e0-afc1-1e71e4f0008d",
   "metadata": {},
   "outputs": [],
   "source": [
    "x **= 2"
   ]
  },
  {
   "cell_type": "code",
   "execution_count": 40,
   "id": "2c7dbf2e-5c33-437d-bf81-7121c69ceeb5",
   "metadata": {},
   "outputs": [
    {
     "name": "stdout",
     "output_type": "stream",
     "text": [
      "2500\n"
     ]
    }
   ],
   "source": [
    "print(x)"
   ]
  },
  {
   "cell_type": "code",
   "execution_count": 41,
   "id": "c15fdb3b-ec12-4e0b-a400-00d5ebce59c5",
   "metadata": {},
   "outputs": [],
   "source": [
    "# Comparison operators\n",
    "a = 10\n",
    "b = 20\n"
   ]
  },
  {
   "cell_type": "code",
   "execution_count": 42,
   "id": "073c272b-c66d-4e34-9ed9-a030b45d2e40",
   "metadata": {},
   "outputs": [
    {
     "data": {
      "text/plain": [
       "False"
      ]
     },
     "execution_count": 42,
     "metadata": {},
     "output_type": "execute_result"
    }
   ],
   "source": [
    "a > b"
   ]
  },
  {
   "cell_type": "code",
   "execution_count": 43,
   "id": "b0425ce1-728e-4e05-a170-71a9a5f4c288",
   "metadata": {},
   "outputs": [
    {
     "name": "stdout",
     "output_type": "stream",
     "text": [
      "<class 'bool'>\n"
     ]
    }
   ],
   "source": [
    "print(type(a > b))"
   ]
  },
  {
   "cell_type": "code",
   "execution_count": 44,
   "id": "a82031a1-32d7-4a03-8a81-064e6350baea",
   "metadata": {},
   "outputs": [
    {
     "data": {
      "text/plain": [
       "True"
      ]
     },
     "execution_count": 44,
     "metadata": {},
     "output_type": "execute_result"
    }
   ],
   "source": [
    "a != b"
   ]
  },
  {
   "cell_type": "code",
   "execution_count": 45,
   "id": "5ef8d63a-398a-4e8f-8ea1-edf66de45704",
   "metadata": {},
   "outputs": [],
   "source": [
    "# Logical Operators (and, or, not) returns boolean\n",
    "a = 1\n",
    "b = 2\n",
    "c = 3\n",
    "d = 4"
   ]
  },
  {
   "cell_type": "code",
   "execution_count": 46,
   "id": "d7ef33ce-5c05-4645-8754-b4fb2b9668fa",
   "metadata": {},
   "outputs": [
    {
     "data": {
      "text/plain": [
       "False"
      ]
     },
     "execution_count": 46,
     "metadata": {},
     "output_type": "execute_result"
    }
   ],
   "source": [
    "(a > b) and (c < d)"
   ]
  },
  {
   "cell_type": "markdown",
   "id": "53e6bb35-a2ef-449b-bbe4-83568848b7d5",
   "metadata": {},
   "source": [
    "### Identity Operator and Membership operator"
   ]
  },
  {
   "cell_type": "code",
   "execution_count": 47,
   "id": "2c833d49-e5e3-4ef3-b2d0-f13e7f6344b5",
   "metadata": {},
   "outputs": [
    {
     "data": {
      "text/plain": [
       "False"
      ]
     },
     "execution_count": 47,
     "metadata": {},
     "output_type": "execute_result"
    }
   ],
   "source": [
    "# Indentity Operator ( is, is not)\n",
    "m = 12\n",
    "n = 13\n",
    "m is n "
   ]
  },
  {
   "cell_type": "code",
   "execution_count": 48,
   "id": "3ba8eeea-936e-4d6e-ad44-74930fe2c6b7",
   "metadata": {},
   "outputs": [
    {
     "data": {
      "text/plain": [
       "True"
      ]
     },
     "execution_count": 48,
     "metadata": {},
     "output_type": "execute_result"
    }
   ],
   "source": [
    "m is not n"
   ]
  },
  {
   "cell_type": "code",
   "execution_count": 49,
   "id": "1848e8fc-438b-4506-ac38-20d5b8eac9ce",
   "metadata": {},
   "outputs": [],
   "source": [
    "# membeship operator (in, not in)\n",
    "list1 = [1, 2, 3, 4, 5]\n"
   ]
  },
  {
   "cell_type": "code",
   "execution_count": 50,
   "id": "e432dac8-5662-42c9-960c-7c17172aa811",
   "metadata": {},
   "outputs": [
    {
     "data": {
      "text/plain": [
       "True"
      ]
     },
     "execution_count": 50,
     "metadata": {},
     "output_type": "execute_result"
    }
   ],
   "source": [
    "1 in list1"
   ]
  },
  {
   "cell_type": "code",
   "execution_count": 51,
   "id": "1d54c215-23f4-4d90-85fd-d8c507a2024b",
   "metadata": {},
   "outputs": [
    {
     "data": {
      "text/plain": [
       "False"
      ]
     },
     "execution_count": 51,
     "metadata": {},
     "output_type": "execute_result"
    }
   ],
   "source": [
    "6 in list1"
   ]
  },
  {
   "cell_type": "code",
   "execution_count": 52,
   "id": "5430c5d7-359a-4717-908c-2311624efdb9",
   "metadata": {},
   "outputs": [
    {
     "data": {
      "text/plain": [
       "True"
      ]
     },
     "execution_count": 52,
     "metadata": {},
     "output_type": "execute_result"
    }
   ],
   "source": [
    "10 not in list1"
   ]
  },
  {
   "cell_type": "markdown",
   "id": "1ce0207a-e626-423e-b869-67afc1add4ec",
   "metadata": {},
   "source": [
    "## Flow Controls"
   ]
  },
  {
   "cell_type": "markdown",
   "id": "c1a99173-bef5-4f16-8505-84d02b830f1f",
   "metadata": {},
   "source": [
    "### If Else"
   ]
  },
  {
   "cell_type": "code",
   "execution_count": 53,
   "id": "64ed1e16-8a82-4bb6-9872-3f05f297e55b",
   "metadata": {},
   "outputs": [
    {
     "name": "stdout",
     "output_type": "stream",
     "text": [
      "Hey Hobbs, I know you.\n"
     ]
    }
   ],
   "source": [
    "# if else\n",
    "name = 'Hobbs'\n",
    "if name == 'Bob':\n",
    "    print('Hey Bob.')\n",
    "elif name == 'Hobbs':\n",
    "    print(\"Hey Hobbs, I know you.\")\n",
    "else:\n",
    "    print(\"You're not Bob!\")"
   ]
  },
  {
   "cell_type": "code",
   "execution_count": 54,
   "id": "f25b91cc-27c1-460b-9178-96cbd4a3343e",
   "metadata": {},
   "outputs": [
    {
     "name": "stdout",
     "output_type": "stream",
     "text": [
      "The number is positive.\n"
     ]
    }
   ],
   "source": [
    "# Practice question\n",
    "number = int(input(\"Enter a number: \"))\n",
    "if number > 0:\n",
    "    print(\"The number is positive.\")\n",
    "elif number < 0:\n",
    "    print(\"The number is negative.\")\n",
    "else:\n",
    "    print(\"The number is zero.\")"
   ]
  },
  {
   "cell_type": "code",
   "execution_count": 55,
   "id": "1b00649c-2b75-45b0-9b11-317f3265929d",
   "metadata": {},
   "outputs": [
    {
     "name": "stdout",
     "output_type": "stream",
     "text": [
      "Invalid number! Plese enter a valid number.\n"
     ]
    }
   ],
   "source": [
    "# practice question continued...\n",
    "number = input(\"Enter a number: \")\n",
    "\n",
    "if type(number) == int:\n",
    "    if number > 0:\n",
    "        print(\"The number is positive.\")\n",
    "    elif number < 0:\n",
    "        print(\"The number is negative.\")\n",
    "    else:\n",
    "        print(\"The number is zero.\")\n",
    "else:\n",
    "    print(\"Invalid number! Plese enter a valid number.\")"
   ]
  },
  {
   "cell_type": "markdown",
   "id": "402b9094-8143-4332-ad29-165b8e7aa14c",
   "metadata": {},
   "source": [
    "## Control Statements"
   ]
  },
  {
   "cell_type": "markdown",
   "id": "4c6dbd28-9750-4ab0-bf8e-6c683fd35b01",
   "metadata": {},
   "source": [
    "## For Loop"
   ]
  },
  {
   "cell_type": "code",
   "execution_count": 56,
   "id": "fd84059e-42a1-485d-8b47-c53961b12fe7",
   "metadata": {},
   "outputs": [],
   "source": [
    "# for loop\n",
    "content = [1, 2, 3, 'Ram', 'Sita']"
   ]
  },
  {
   "cell_type": "code",
   "execution_count": 57,
   "id": "1d5dc107-32f5-41db-8ec7-70b0b4452c85",
   "metadata": {},
   "outputs": [
    {
     "name": "stdout",
     "output_type": "stream",
     "text": [
      "1\n",
      "2\n",
      "3\n",
      "Ram\n",
      "Sita\n"
     ]
    }
   ],
   "source": [
    "for item in content:\n",
    "    print(item)"
   ]
  },
  {
   "cell_type": "code",
   "execution_count": 58,
   "id": "90d0a97f-b311-45b1-a921-9fffca035cb4",
   "metadata": {},
   "outputs": [
    {
     "name": "stdout",
     "output_type": "stream",
     "text": [
      "Count with me:  1\n",
      "Count with me:  2\n",
      "Count with me:  3\n",
      "Count with me:  4\n",
      "Count with me:  5\n",
      "Count with me:  6\n",
      "Count with me:  7\n",
      "Count with me:  8\n",
      "Count with me:  9\n",
      "Count with me:  10\n"
     ]
    }
   ],
   "source": [
    "# printing something upto some range\n",
    "for i in range(10):\n",
    "    print(\"Count with me: \", i + 1)"
   ]
  },
  {
   "cell_type": "code",
   "execution_count": 59,
   "id": "55981c0b-8c6a-4337-ba06-210ee71ff8ca",
   "metadata": {},
   "outputs": [
    {
     "name": "stdout",
     "output_type": "stream",
     "text": [
      "1\n",
      "3\n",
      "5\n",
      "7\n",
      "9\n",
      "11\n",
      "13\n",
      "15\n",
      "17\n",
      "19\n"
     ]
    }
   ],
   "source": [
    "# using range as range(start, end, step)\n",
    "for i in range(1, 20, 2):\n",
    "    print(i)"
   ]
  },
  {
   "cell_type": "code",
   "execution_count": 60,
   "id": "a0b95ee7-9c30-45b9-b99e-7d350a06623d",
   "metadata": {},
   "outputs": [
    {
     "name": "stdout",
     "output_type": "stream",
     "text": [
      "1\n",
      "2\n",
      "3\n"
     ]
    }
   ],
   "source": [
    "# break\n",
    "for i in range(1, 10):\n",
    "    if i == 4:\n",
    "        break\n",
    "    print(i)"
   ]
  },
  {
   "cell_type": "code",
   "execution_count": 61,
   "id": "532a496d-530c-4b82-b1fc-42840bea2891",
   "metadata": {},
   "outputs": [
    {
     "name": "stdout",
     "output_type": "stream",
     "text": [
      "1\n",
      "2\n",
      "3\n",
      "5\n",
      "6\n",
      "7\n",
      "8\n",
      "9\n"
     ]
    }
   ],
   "source": [
    "# continue\n",
    "for i in range(1, 10):\n",
    "    if i == 4:\n",
    "        continue\n",
    "    print(i)"
   ]
  },
  {
   "cell_type": "markdown",
   "id": "43e578c3-31fb-4aec-ae9f-ec201eb138e7",
   "metadata": {},
   "source": [
    "## While Loop"
   ]
  },
  {
   "cell_type": "code",
   "execution_count": 62,
   "id": "1872fd9a-3371-43cb-a628-8afb4de2a2d3",
   "metadata": {},
   "outputs": [
    {
     "name": "stdout",
     "output_type": "stream",
     "text": [
      "1\n",
      "2\n",
      "3\n",
      "4\n",
      "5\n",
      "6\n",
      "7\n",
      "8\n",
      "9\n",
      "10\n"
     ]
    }
   ],
   "source": [
    "# while loop\n",
    "num = 1\n",
    "while num <= 10:\n",
    "    print(num)\n",
    "    num +=1"
   ]
  },
  {
   "cell_type": "code",
   "execution_count": null,
   "id": "23592387-f315-4dd2-8f14-638f1f588ee4",
   "metadata": {},
   "outputs": [],
   "source": []
  }
 ],
 "metadata": {
  "kernelspec": {
   "display_name": "venv",
   "language": "python",
   "name": "python3"
  },
  "language_info": {
   "codemirror_mode": {
    "name": "ipython",
    "version": 3
   },
   "file_extension": ".py",
   "mimetype": "text/x-python",
   "name": "python",
   "nbconvert_exporter": "python",
   "pygments_lexer": "ipython3",
   "version": "3.13.1"
  }
 },
 "nbformat": 4,
 "nbformat_minor": 5
}
