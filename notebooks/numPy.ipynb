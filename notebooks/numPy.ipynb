{
 "cells": [
  {
   "cell_type": "code",
   "execution_count": 1,
   "id": "c1c09564-2119-4c3a-8bfb-76f8452f1030",
   "metadata": {},
   "outputs": [],
   "source": [
    "import numpy as np"
   ]
  },
  {
   "cell_type": "code",
   "execution_count": 2,
   "id": "edebfe46-1e88-44b2-a0a6-17a348435f31",
   "metadata": {},
   "outputs": [],
   "source": [
    "n1 = np.array([1, 2, 3, 4, 5])"
   ]
  },
  {
   "cell_type": "code",
   "execution_count": 3,
   "id": "6eb41cd0-142d-4607-a61a-885e7526ba64",
   "metadata": {},
   "outputs": [
    {
     "data": {
      "text/plain": [
       "array([1, 2, 3, 4, 5])"
      ]
     },
     "execution_count": 3,
     "metadata": {},
     "output_type": "execute_result"
    }
   ],
   "source": [
    "n1"
   ]
  },
  {
   "cell_type": "code",
   "execution_count": 4,
   "id": "1677dda6-1038-4443-88d7-83000fe96efe",
   "metadata": {},
   "outputs": [
    {
     "data": {
      "text/plain": [
       "numpy.ndarray"
      ]
     },
     "execution_count": 4,
     "metadata": {},
     "output_type": "execute_result"
    }
   ],
   "source": [
    "type(n1)"
   ]
  },
  {
   "cell_type": "code",
   "execution_count": 5,
   "id": "5d89f0bf-40ab-40b3-bd00-5a2b22157344",
   "metadata": {},
   "outputs": [
    {
     "data": {
      "text/plain": [
       "array([0., 0., 0., 0., 0.])"
      ]
     },
     "execution_count": 5,
     "metadata": {},
     "output_type": "execute_result"
    }
   ],
   "source": [
    "# creating array of zeros\n",
    "z1 = np.zeros(5)\n",
    "z1"
   ]
  },
  {
   "cell_type": "code",
   "execution_count": 6,
   "id": "0b8cee2c-b35a-40e3-b41b-8a7ef850dc86",
   "metadata": {},
   "outputs": [
    {
     "data": {
      "text/plain": [
       "array([1., 1., 1., 1., 1.])"
      ]
     },
     "execution_count": 6,
     "metadata": {},
     "output_type": "execute_result"
    }
   ],
   "source": [
    "# array of ones\n",
    "o1 = np.ones(5)\n",
    "o1"
   ]
  },
  {
   "cell_type": "code",
   "execution_count": 7,
   "id": "5129a4d1-8bce-4a20-97e7-da2b6bc27613",
   "metadata": {},
   "outputs": [
    {
     "data": {
      "text/plain": [
       "array([1, 2, 3, 4, 5, 6, 7, 8, 9])"
      ]
     },
     "execution_count": 7,
     "metadata": {},
     "output_type": "execute_result"
    }
   ],
   "source": [
    "# range()\n",
    "b1 = np.arange(1, 10)\n",
    "b1"
   ]
  },
  {
   "cell_type": "code",
   "execution_count": 8,
   "id": "34bd3324-135b-4ead-92d4-a2409355f85b",
   "metadata": {
    "scrolled": true
   },
   "outputs": [
    {
     "data": {
      "text/plain": [
       "array([[1., 0., 0.],\n",
       "       [0., 1., 0.],\n",
       "       [0., 0., 1.]])"
      ]
     },
     "execution_count": 8,
     "metadata": {},
     "output_type": "execute_result"
    }
   ],
   "source": [
    "b2 = np.eye(3)\n",
    "b2"
   ]
  },
  {
   "cell_type": "code",
   "execution_count": 9,
   "id": "e61ecb46-f311-4730-b82e-331557959676",
   "metadata": {},
   "outputs": [
    {
     "data": {
      "text/plain": [
       "array([0.10639263, 0.23962036, 0.22475761, 0.36118211])"
      ]
     },
     "execution_count": 9,
     "metadata": {},
     "output_type": "execute_result"
    }
   ],
   "source": [
    "# random\n",
    "r1 = np.random.rand(4)\n",
    "r1"
   ]
  },
  {
   "cell_type": "code",
   "execution_count": 10,
   "id": "1b3b9301-41f4-4c57-8805-5f0f48fc8a30",
   "metadata": {},
   "outputs": [
    {
     "data": {
      "text/plain": [
       "array([ 0.16508718, -1.95552749,  0.26808035,  2.19622563])"
      ]
     },
     "execution_count": 10,
     "metadata": {},
     "output_type": "execute_result"
    }
   ],
   "source": [
    "# randn\n",
    "r2 = np.random.randn(4)\n",
    "r2"
   ]
  },
  {
   "cell_type": "markdown",
   "id": "aa7ac50a-4949-4bb5-b0fd-fd9ac5f2138a",
   "metadata": {},
   "source": [
    "### To inspect the arrays"
   ]
  },
  {
   "cell_type": "code",
   "execution_count": 11,
   "id": "7f5d4754-3f31-4b8e-9472-6abf92e402a0",
   "metadata": {},
   "outputs": [
    {
     "data": {
      "text/plain": [
       "1"
      ]
     },
     "execution_count": 11,
     "metadata": {},
     "output_type": "execute_result"
    }
   ],
   "source": [
    "# to check the dimension of array (ndim)\n",
    "o1.ndim"
   ]
  },
  {
   "cell_type": "code",
   "execution_count": 12,
   "id": "c4ab17af-a7b1-46de-824d-0690c835cfe7",
   "metadata": {},
   "outputs": [
    {
     "data": {
      "text/plain": [
       "(9,)"
      ]
     },
     "execution_count": 12,
     "metadata": {},
     "output_type": "execute_result"
    }
   ],
   "source": [
    "# shape\n",
    "b1.shape"
   ]
  },
  {
   "cell_type": "code",
   "execution_count": 13,
   "id": "324ad09e-09ae-4752-a211-233323d70a59",
   "metadata": {},
   "outputs": [
    {
     "data": {
      "text/plain": [
       "(3, 3)"
      ]
     },
     "execution_count": 13,
     "metadata": {},
     "output_type": "execute_result"
    }
   ],
   "source": [
    "b2.shape"
   ]
  },
  {
   "cell_type": "code",
   "execution_count": 14,
   "id": "c2920528-0658-4f49-8a88-89852e5e83c5",
   "metadata": {},
   "outputs": [
    {
     "data": {
      "text/plain": [
       "9"
      ]
     },
     "execution_count": 14,
     "metadata": {},
     "output_type": "execute_result"
    }
   ],
   "source": [
    "# size\n",
    "b1.size"
   ]
  },
  {
   "cell_type": "code",
   "execution_count": 15,
   "id": "5991b499-1ec1-4275-aa35-6bc99f9f5ae8",
   "metadata": {},
   "outputs": [
    {
     "data": {
      "text/plain": [
       "dtype('int64')"
      ]
     },
     "execution_count": 15,
     "metadata": {},
     "output_type": "execute_result"
    }
   ],
   "source": [
    "# dtype\n",
    "b1.dtype"
   ]
  },
  {
   "cell_type": "code",
   "execution_count": 16,
   "id": "986a939f-7a39-4474-9786-da6c4f22114f",
   "metadata": {},
   "outputs": [
    {
     "data": {
      "text/plain": [
       "dtype('float64')"
      ]
     },
     "execution_count": 16,
     "metadata": {},
     "output_type": "execute_result"
    }
   ],
   "source": [
    "b2.dtype"
   ]
  },
  {
   "cell_type": "markdown",
   "id": "be406dc6-9d52-4d71-8a90-81031ccdb785",
   "metadata": {},
   "source": [
    "### 2D array"
   ]
  },
  {
   "cell_type": "code",
   "execution_count": 17,
   "id": "b4c8d06f-566e-4f18-8708-9d99aecc0187",
   "metadata": {},
   "outputs": [
    {
     "data": {
      "text/plain": [
       "array([[1, 2, 3],\n",
       "       [4, 5, 6]])"
      ]
     },
     "execution_count": 17,
     "metadata": {},
     "output_type": "execute_result"
    }
   ],
   "source": [
    "a21 = np.array([[1, 2, 3], [4, 5, 6]])\n",
    "a21"
   ]
  },
  {
   "cell_type": "code",
   "execution_count": 18,
   "id": "7a8215ac-20eb-4ecd-9885-6893305b8fd7",
   "metadata": {},
   "outputs": [
    {
     "data": {
      "text/plain": [
       "array([[1., 1., 1.],\n",
       "       [1., 1., 1.]])"
      ]
     },
     "execution_count": 18,
     "metadata": {},
     "output_type": "execute_result"
    }
   ],
   "source": [
    "# 2d array of ones\n",
    "a22 = np.ones([2, 3])\n",
    "a22"
   ]
  },
  {
   "cell_type": "code",
   "execution_count": 19,
   "id": "78570b5b-808d-41d9-8f0c-9d35362a4fc3",
   "metadata": {},
   "outputs": [
    {
     "data": {
      "text/plain": [
       "6"
      ]
     },
     "execution_count": 19,
     "metadata": {},
     "output_type": "execute_result"
    }
   ],
   "source": [
    "# inspection\n",
    "a22.size"
   ]
  },
  {
   "cell_type": "code",
   "execution_count": 20,
   "id": "b949ce5d-4832-450a-986b-e3ded44db4e0",
   "metadata": {},
   "outputs": [
    {
     "data": {
      "text/plain": [
       "2"
      ]
     },
     "execution_count": 20,
     "metadata": {},
     "output_type": "execute_result"
    }
   ],
   "source": [
    "a22.ndim"
   ]
  },
  {
   "cell_type": "code",
   "execution_count": 21,
   "id": "00a05063-9177-419d-8e80-97f7de35bb33",
   "metadata": {},
   "outputs": [
    {
     "data": {
      "text/plain": [
       "(2, 3)"
      ]
     },
     "execution_count": 21,
     "metadata": {},
     "output_type": "execute_result"
    }
   ],
   "source": [
    "a22.shape"
   ]
  },
  {
   "cell_type": "markdown",
   "id": "1d8bb45e-d318-4da8-9625-8b455256ac0a",
   "metadata": {},
   "source": [
    "### 3D Arryas"
   ]
  },
  {
   "cell_type": "code",
   "execution_count": 22,
   "id": "b2bec613-1fc1-4602-bb30-d38aefaecf7d",
   "metadata": {},
   "outputs": [
    {
     "data": {
      "text/plain": [
       "array([[[1, 2],\n",
       "        [3, 4]],\n",
       "\n",
       "       [[5, 6],\n",
       "        [7, 8]]])"
      ]
     },
     "execution_count": 22,
     "metadata": {},
     "output_type": "execute_result"
    }
   ],
   "source": [
    "a3d = np.array([[[1, 2], [3, 4]], [[5, 6], [7, 8]]])\n",
    "a3d"
   ]
  },
  {
   "cell_type": "code",
   "execution_count": 23,
   "id": "28a9eb0f-3999-48cd-bf79-1bc14cc94117",
   "metadata": {},
   "outputs": [
    {
     "data": {
      "text/plain": [
       "3"
      ]
     },
     "execution_count": 23,
     "metadata": {},
     "output_type": "execute_result"
    }
   ],
   "source": [
    "a3d.ndim"
   ]
  },
  {
   "cell_type": "code",
   "execution_count": 24,
   "id": "afca6b42-c8ff-4147-886c-9d0f468c36fc",
   "metadata": {},
   "outputs": [
    {
     "data": {
      "text/plain": [
       "(2, 2, 2)"
      ]
     },
     "execution_count": 24,
     "metadata": {},
     "output_type": "execute_result"
    }
   ],
   "source": [
    "a3d.shape"
   ]
  },
  {
   "cell_type": "code",
   "execution_count": 25,
   "id": "07366c4e-af8e-4bd1-a4ec-d57e959ccd18",
   "metadata": {},
   "outputs": [
    {
     "data": {
      "text/plain": [
       "array([[[1, 2, 3, 4],\n",
       "        [4, 5, 6, 7]],\n",
       "\n",
       "       [[1, 2, 3, 4],\n",
       "        [4, 5, 6, 7]]])"
      ]
     },
     "execution_count": 25,
     "metadata": {},
     "output_type": "execute_result"
    }
   ],
   "source": [
    "# create a 3d array of shape (2,2,4)\n",
    "b3d = np.array([[[1, 2, 3, 4], [4, 5, 6, 7]], [[1, 2, 3, 4], [4, 5, 6, 7]]])\n",
    "b3d"
   ]
  },
  {
   "cell_type": "code",
   "execution_count": 26,
   "id": "0ea77c93-f1cb-48ac-b04d-35cc2a98e4df",
   "metadata": {},
   "outputs": [
    {
     "data": {
      "text/plain": [
       "(2, 2, 4)"
      ]
     },
     "execution_count": 26,
     "metadata": {},
     "output_type": "execute_result"
    }
   ],
   "source": [
    "b3d.shape"
   ]
  },
  {
   "cell_type": "code",
   "execution_count": 27,
   "id": "737ece1a-1a40-435e-a854-e93e6d61be8b",
   "metadata": {},
   "outputs": [
    {
     "data": {
      "text/plain": [
       "array([[[ 1,  2],\n",
       "        [ 3,  4]],\n",
       "\n",
       "       [[ 5,  6],\n",
       "        [ 7,  8]],\n",
       "\n",
       "       [[ 9, 10],\n",
       "        [11, 12]],\n",
       "\n",
       "       [[13, 14],\n",
       "        [15, 16]]])"
      ]
     },
     "execution_count": 27,
     "metadata": {},
     "output_type": "execute_result"
    }
   ],
   "source": [
    "c3d = np.array(\n",
    "    [[[1, 2], [3, 4]], [[5, 6], [7, 8]], [[9, 10], [11, 12]], [[13, 14], [15, 16]]]\n",
    ")\n",
    "\n",
    "c3d"
   ]
  },
  {
   "cell_type": "code",
   "execution_count": 28,
   "id": "3d65fa66-0025-44eb-b7c9-ad834cc2cb37",
   "metadata": {},
   "outputs": [
    {
     "data": {
      "text/plain": [
       "(4, 2, 2)"
      ]
     },
     "execution_count": 28,
     "metadata": {},
     "output_type": "execute_result"
    }
   ],
   "source": [
    "c3d.shape"
   ]
  },
  {
   "cell_type": "code",
   "execution_count": 29,
   "id": "9457bd19-1477-40f4-8819-943e4270c021",
   "metadata": {},
   "outputs": [
    {
     "data": {
      "text/plain": [
       "array([[[1., 1., 1., 1.],\n",
       "        [1., 1., 1., 1.],\n",
       "        [1., 1., 1., 1.]],\n",
       "\n",
       "       [[1., 1., 1., 1.],\n",
       "        [1., 1., 1., 1.],\n",
       "        [1., 1., 1., 1.]]])"
      ]
     },
     "execution_count": 29,
     "metadata": {},
     "output_type": "execute_result"
    }
   ],
   "source": [
    "# 3d array of ones\n",
    "ones3d = np.ones([2, 3, 4])\n",
    "ones3d"
   ]
  },
  {
   "cell_type": "code",
   "execution_count": 30,
   "id": "787f0878-5e4c-4be3-b1b6-c3fcb9485dc3",
   "metadata": {},
   "outputs": [
    {
     "data": {
      "text/plain": [
       "(2, 3, 4)"
      ]
     },
     "execution_count": 30,
     "metadata": {},
     "output_type": "execute_result"
    }
   ],
   "source": [
    "ones3d.shape"
   ]
  },
  {
   "cell_type": "markdown",
   "id": "bcf83319-22d9-468b-b778-07f35a6d383a",
   "metadata": {},
   "source": [
    "### array manipulation"
   ]
  },
  {
   "cell_type": "code",
   "execution_count": 31,
   "id": "0f376c83-0f5f-4181-ab47-7ac100e1cf2a",
   "metadata": {},
   "outputs": [
    {
     "name": "stdout",
     "output_type": "stream",
     "text": [
      "(4,)\n"
     ]
    }
   ],
   "source": [
    "l1 = np.array([1, 2, 3, 4])\n",
    "print(l1.shape)"
   ]
  },
  {
   "cell_type": "code",
   "execution_count": 32,
   "id": "a75a7203-78b0-4ca2-a49c-2df22ae9499a",
   "metadata": {},
   "outputs": [
    {
     "data": {
      "text/plain": [
       "array([[1, 2],\n",
       "       [3, 4]])"
      ]
     },
     "execution_count": 32,
     "metadata": {},
     "output_type": "execute_result"
    }
   ],
   "source": [
    "# reshape to another dimesion\n",
    "l2 = np.reshape(l1, (2, 2))\n",
    "l2"
   ]
  },
  {
   "cell_type": "code",
   "execution_count": 33,
   "id": "1439c7bd-69cd-4804-8c4f-c4f527b8a63e",
   "metadata": {},
   "outputs": [
    {
     "data": {
      "text/plain": [
       "array([1, 2, 3, 4])"
      ]
     },
     "execution_count": 33,
     "metadata": {},
     "output_type": "execute_result"
    }
   ],
   "source": [
    "np.reshape(l2, (4,))"
   ]
  },
  {
   "cell_type": "code",
   "execution_count": 34,
   "id": "5bfee285-298f-4df3-9c22-301045f047b6",
   "metadata": {},
   "outputs": [
    {
     "data": {
      "text/plain": [
       "array([[1, 2],\n",
       "       [3, 4]])"
      ]
     },
     "execution_count": 34,
     "metadata": {},
     "output_type": "execute_result"
    }
   ],
   "source": [
    "l2"
   ]
  },
  {
   "cell_type": "code",
   "execution_count": 35,
   "id": "68ec74af-6d4a-4b62-b4d3-4f334f2d11bf",
   "metadata": {},
   "outputs": [],
   "source": [
    "l3 = np.array([1, 2, 3, 4, 5, 6, 7, 8])"
   ]
  },
  {
   "cell_type": "code",
   "execution_count": 36,
   "id": "2b3adb64-5ab3-44e3-9fd9-611a9acf3797",
   "metadata": {},
   "outputs": [
    {
     "data": {
      "text/plain": [
       "array([[1, 2],\n",
       "       [3, 4],\n",
       "       [5, 6],\n",
       "       [7, 8]])"
      ]
     },
     "execution_count": 36,
     "metadata": {},
     "output_type": "execute_result"
    }
   ],
   "source": [
    "l4 = np.reshape(l3, (4, 2))\n",
    "l4"
   ]
  },
  {
   "cell_type": "code",
   "execution_count": 37,
   "id": "38c55f69-32db-4167-b313-fbb38a01f70a",
   "metadata": {},
   "outputs": [
    {
     "data": {
      "text/plain": [
       "array([[[1, 2],\n",
       "        [3, 4]],\n",
       "\n",
       "       [[5, 6],\n",
       "        [7, 8]]])"
      ]
     },
     "execution_count": 37,
     "metadata": {},
     "output_type": "execute_result"
    }
   ],
   "source": [
    "np.reshape(l3, (2, 2, 2))"
   ]
  },
  {
   "cell_type": "code",
   "execution_count": 38,
   "id": "fdcdddec-eb4e-42a4-bd44-f6ee580e3330",
   "metadata": {},
   "outputs": [
    {
     "data": {
      "text/plain": [
       "array([1, 2, 3, 4, 5, 6, 7, 8])"
      ]
     },
     "execution_count": 38,
     "metadata": {},
     "output_type": "execute_result"
    }
   ],
   "source": [
    "# flatten - multi dimension to 1d\n",
    "flatten_l4 = l4.flatten()\n",
    "flatten_l4"
   ]
  },
  {
   "cell_type": "code",
   "execution_count": 39,
   "id": "c4dd73d1-ec58-4928-905a-03a78660927c",
   "metadata": {},
   "outputs": [
    {
     "data": {
      "text/plain": [
       "array([[1, 3, 5, 7],\n",
       "       [2, 4, 6, 8]])"
      ]
     },
     "execution_count": 39,
     "metadata": {},
     "output_type": "execute_result"
    }
   ],
   "source": [
    "# transpose\n",
    "l4.transpose()"
   ]
  },
  {
   "cell_type": "code",
   "execution_count": 40,
   "id": "b9b3ae02-19c8-4047-ada2-f91ce73ae2ac",
   "metadata": {},
   "outputs": [
    {
     "data": {
      "text/plain": [
       "array([1, 2, 3, 4, 4, 5, 6, 7])"
      ]
     },
     "execution_count": 40,
     "metadata": {},
     "output_type": "execute_result"
    }
   ],
   "source": [
    "# concatenate()\n",
    "array1 = np.array([4, 5, 6, 7])\n",
    "array2 = np.array([1, 2, 3, 4])\n",
    "joint_array = np.concatenate((array2, array1))\n",
    "joint_array"
   ]
  },
  {
   "cell_type": "code",
   "execution_count": 41,
   "id": "f3cb8aa9-6193-4c20-acf8-fd3f2316e29c",
   "metadata": {},
   "outputs": [
    {
     "data": {
      "text/plain": [
       "array([[4, 1],\n",
       "       [5, 2],\n",
       "       [6, 3],\n",
       "       [7, 4]])"
      ]
     },
     "execution_count": 41,
     "metadata": {},
     "output_type": "execute_result"
    }
   ],
   "source": [
    "# stack\n",
    "np.stack((array1, array2), axis=1)"
   ]
  },
  {
   "cell_type": "code",
   "execution_count": 42,
   "id": "e9da65cc-3fdf-473e-b1fa-4a9a702d9007",
   "metadata": {},
   "outputs": [
    {
     "data": {
      "text/plain": [
       "array([[4, 5, 6, 7],\n",
       "       [1, 2, 3, 4]])"
      ]
     },
     "execution_count": 42,
     "metadata": {},
     "output_type": "execute_result"
    }
   ],
   "source": [
    "# vstack\n",
    "np.vstack((array1, array2))"
   ]
  },
  {
   "cell_type": "code",
   "execution_count": 43,
   "id": "be527a0e-934e-48da-92ec-c7680ac8f7a8",
   "metadata": {},
   "outputs": [
    {
     "data": {
      "text/plain": [
       "[array([1]), array([2]), array([3]), array([4])]"
      ]
     },
     "execution_count": 43,
     "metadata": {},
     "output_type": "execute_result"
    }
   ],
   "source": [
    "# split\n",
    "array_a = np.array([1, 2, 3, 4])\n",
    "np.split(array_a, 4)"
   ]
  },
  {
   "cell_type": "code",
   "execution_count": 44,
   "id": "501fb661-80b2-4a0f-9b0e-eda81d546377",
   "metadata": {},
   "outputs": [
    {
     "data": {
      "text/plain": [
       "array([ 1,  2, 10,  3,  4])"
      ]
     },
     "execution_count": 44,
     "metadata": {},
     "output_type": "execute_result"
    }
   ],
   "source": [
    "# insert\n",
    "np.insert(array_a, 2, 10)"
   ]
  },
  {
   "cell_type": "code",
   "execution_count": 45,
   "id": "5aa20b02-a6aa-4aee-bfc9-eea0f9e8635e",
   "metadata": {},
   "outputs": [
    {
     "data": {
      "text/plain": [
       "array([1, 2, 4])"
      ]
     },
     "execution_count": 45,
     "metadata": {},
     "output_type": "execute_result"
    }
   ],
   "source": [
    "# delete\n",
    "np.delete(array_a, 2)"
   ]
  },
  {
   "cell_type": "markdown",
   "id": "ba0f05f3-3408-489e-af5c-38b7e91f0487",
   "metadata": {},
   "source": [
    "### Array operations"
   ]
  },
  {
   "cell_type": "code",
   "execution_count": 46,
   "id": "89faecfc-7be3-4ed4-a24e-bc4459e9cf34",
   "metadata": {},
   "outputs": [],
   "source": [
    "array1 = np.array([1, 2, 3, 4, 5])\n",
    "array2 = np.array([6, 7, 8, 9, 10])"
   ]
  },
  {
   "cell_type": "code",
   "execution_count": 47,
   "id": "73e4eed4-a4f2-45dc-b382-31dba52e5ac8",
   "metadata": {},
   "outputs": [
    {
     "data": {
      "text/plain": [
       "array([ 7,  9, 11, 13, 15])"
      ]
     },
     "execution_count": 47,
     "metadata": {},
     "output_type": "execute_result"
    }
   ],
   "source": [
    "# add\n",
    "np.add(array1, array2)"
   ]
  },
  {
   "cell_type": "code",
   "execution_count": 48,
   "id": "c51f8206-2e2f-4fa3-98ae-162a0f7ea95a",
   "metadata": {},
   "outputs": [],
   "source": [
    "b1 = np.array([[1, 2, 3], [4, 5, 6]])\n",
    "b2 = np.array([[7, 8, 9], [10, 11, 12]])"
   ]
  },
  {
   "cell_type": "code",
   "execution_count": 49,
   "id": "32992283-7a0e-40d0-ae4a-fb6fa2b63fd9",
   "metadata": {},
   "outputs": [
    {
     "data": {
      "text/plain": [
       "array([[ 8, 10, 12],\n",
       "       [14, 16, 18]])"
      ]
     },
     "execution_count": 49,
     "metadata": {},
     "output_type": "execute_result"
    }
   ],
   "source": [
    "# add\n",
    "np.add(b1, b2)"
   ]
  },
  {
   "cell_type": "code",
   "execution_count": 50,
   "id": "7edbb428-017b-4951-b178-2fcc529dc03f",
   "metadata": {},
   "outputs": [],
   "source": [
    "# others also there -> subtract, multiply, divide, power, mod, dot, cross"
   ]
  },
  {
   "cell_type": "code",
   "execution_count": 51,
   "id": "c674a39a-1a88-44ba-a1c6-b1712ef09b57",
   "metadata": {},
   "outputs": [
    {
     "data": {
      "text/plain": [
       "array([      1,     128,    6561,  262144, 9765625])"
      ]
     },
     "execution_count": 51,
     "metadata": {},
     "output_type": "execute_result"
    }
   ],
   "source": [
    "np.power(array1, array2)"
   ]
  },
  {
   "cell_type": "code",
   "execution_count": 52,
   "id": "a5c42698-2422-47bd-9500-d3e816d94437",
   "metadata": {},
   "outputs": [
    {
     "data": {
      "text/plain": [
       "array([3, 4, 5, 6, 7])"
      ]
     },
     "execution_count": 52,
     "metadata": {},
     "output_type": "execute_result"
    }
   ],
   "source": [
    "# also can do :\n",
    "array1 + 2"
   ]
  },
  {
   "cell_type": "code",
   "execution_count": 53,
   "id": "938f522a-82c5-48cb-9caa-3f4e33c26da4",
   "metadata": {},
   "outputs": [
    {
     "data": {
      "text/plain": [
       "array([ 2,  4,  6,  8, 10])"
      ]
     },
     "execution_count": 53,
     "metadata": {},
     "output_type": "execute_result"
    }
   ],
   "source": [
    "array1 * 2"
   ]
  },
  {
   "cell_type": "markdown",
   "id": "a697428f-9b32-4044-9b76-4b335273a764",
   "metadata": {},
   "source": [
    "### indexing and slicing"
   ]
  },
  {
   "cell_type": "code",
   "execution_count": 54,
   "id": "4d335339-ccd9-41c7-8d60-03a2bac61fcc",
   "metadata": {},
   "outputs": [
    {
     "data": {
      "text/plain": [
       "np.int64(4)"
      ]
     },
     "execution_count": 54,
     "metadata": {},
     "output_type": "execute_result"
    }
   ],
   "source": [
    "# indexing\n",
    "array1[3]"
   ]
  },
  {
   "cell_type": "code",
   "execution_count": 55,
   "id": "af23ab1e-0c93-4064-ba75-ddca3bba90d3",
   "metadata": {},
   "outputs": [
    {
     "data": {
      "text/plain": [
       "array([2, 3])"
      ]
     },
     "execution_count": 55,
     "metadata": {},
     "output_type": "execute_result"
    }
   ],
   "source": [
    "# slicing\n",
    "array1[1:3]"
   ]
  },
  {
   "cell_type": "code",
   "execution_count": 56,
   "id": "901c3980-a5ec-40a0-a71e-f9f143b79019",
   "metadata": {},
   "outputs": [
    {
     "data": {
      "text/plain": [
       "array([1, 2, 3, 4, 5])"
      ]
     },
     "execution_count": 56,
     "metadata": {},
     "output_type": "execute_result"
    }
   ],
   "source": [
    "array1"
   ]
  },
  {
   "cell_type": "code",
   "execution_count": 57,
   "id": "803c726d-40dd-4c45-82b8-7bf7369261cb",
   "metadata": {},
   "outputs": [
    {
     "data": {
      "text/plain": [
       "(array([2, 3, 4]),)"
      ]
     },
     "execution_count": 57,
     "metadata": {},
     "output_type": "execute_result"
    }
   ],
   "source": [
    "# where function\n",
    "np.where(array1 > 2)"
   ]
  },
  {
   "cell_type": "code",
   "execution_count": 58,
   "id": "ce88970e-b2ca-46da-bbac-1ff91606ea5e",
   "metadata": {},
   "outputs": [
    {
     "data": {
      "text/plain": [
       "array([9, 9, 3, 4, 5])"
      ]
     },
     "execution_count": 58,
     "metadata": {},
     "output_type": "execute_result"
    }
   ],
   "source": [
    "np.where(array1 >= 3, array1, 9)"
   ]
  },
  {
   "cell_type": "code",
   "execution_count": 59,
   "id": "aa914b69-e750-43d3-9967-72974f7ea718",
   "metadata": {},
   "outputs": [
    {
     "data": {
      "text/plain": [
       "array([1, 5])"
      ]
     },
     "execution_count": 59,
     "metadata": {},
     "output_type": "execute_result"
    }
   ],
   "source": [
    "# take()\n",
    "np.take(array1, [0, 4])"
   ]
  },
  {
   "cell_type": "code",
   "execution_count": 60,
   "id": "111b88fe-99ac-4e10-9b2a-fb887b62fc52",
   "metadata": {},
   "outputs": [
    {
     "data": {
      "text/plain": [
       "np.int64(4)"
      ]
     },
     "execution_count": 60,
     "metadata": {},
     "output_type": "execute_result"
    }
   ],
   "source": [
    "# argmax and argmin\n",
    "\n",
    "np.argmax(array1)"
   ]
  },
  {
   "cell_type": "code",
   "execution_count": 61,
   "id": "37961281-e216-4bea-b146-0ffc4b2a88c8",
   "metadata": {},
   "outputs": [
    {
     "data": {
      "text/plain": [
       "np.int64(0)"
      ]
     },
     "execution_count": 61,
     "metadata": {},
     "output_type": "execute_result"
    }
   ],
   "source": [
    "np.argmin(array1)"
   ]
  },
  {
   "cell_type": "code",
   "execution_count": 62,
   "id": "367426b1-f540-4a67-9b9d-62b5ffb17151",
   "metadata": {},
   "outputs": [
    {
     "data": {
      "text/plain": [
       "(array([0, 1, 2, 3, 4]),)"
      ]
     },
     "execution_count": 62,
     "metadata": {},
     "output_type": "execute_result"
    }
   ],
   "source": [
    "# nonzero\n",
    "np.nonzero(array1)"
   ]
  },
  {
   "cell_type": "code",
   "execution_count": 63,
   "id": "7d618435-8a36-43f1-a6be-08e7aa0a6f94",
   "metadata": {},
   "outputs": [],
   "source": [
    "# stats functions: min, max, median, percentile\n",
    "# math function: sin, cos, tan, exp, log, sqrt, ceil, floor"
   ]
  }
 ],
 "metadata": {
  "kernelspec": {
   "display_name": "venv",
   "language": "python",
   "name": "python3"
  },
  "language_info": {
   "codemirror_mode": {
    "name": "ipython",
    "version": 3
   },
   "file_extension": ".py",
   "mimetype": "text/x-python",
   "name": "python",
   "nbconvert_exporter": "python",
   "pygments_lexer": "ipython3",
   "version": "3.13.1"
  }
 },
 "nbformat": 4,
 "nbformat_minor": 5
}
