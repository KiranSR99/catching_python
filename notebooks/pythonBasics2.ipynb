{
 "cells": [
  {
   "cell_type": "markdown",
   "id": "9c2736fb-99bc-469a-8fc9-aa05c17ed35d",
   "metadata": {},
   "source": [
    "# pass\n",
    "for i in range(1, 10):\n",
    "    pass"
   ]
  },
  {
   "cell_type": "markdown",
   "id": "7f6c5f54-7728-411f-913a-8c4344d1e973",
   "metadata": {},
   "source": [
    "### Data Types"
   ]
  },
  {
   "cell_type": "code",
   "execution_count": 1,
   "id": "dc5e5c37-9fa7-4b13-91bc-e98a2212826e",
   "metadata": {},
   "outputs": [],
   "source": [
    "# data types in python\n",
    "# numeric data types\n",
    "# int\n",
    "# float\n",
    "# complex"
   ]
  },
  {
   "cell_type": "code",
   "execution_count": 2,
   "id": "456d224f-3bad-4ffd-9776-2879b9dad1e0",
   "metadata": {},
   "outputs": [
    {
     "data": {
      "text/plain": [
       "complex"
      ]
     },
     "execution_count": 2,
     "metadata": {},
     "output_type": "execute_result"
    }
   ],
   "source": [
    "k = 3 + 5j  # complex data type\n",
    "type(k)"
   ]
  },
  {
   "cell_type": "code",
   "execution_count": 3,
   "id": "f0a7a2b7-f6ce-4a75-af12-aa67272ecfdc",
   "metadata": {},
   "outputs": [],
   "source": [
    "# other data types are:\n",
    "# binary\n",
    "# octal\n",
    "# hexadecimal"
   ]
  },
  {
   "cell_type": "code",
   "execution_count": 4,
   "id": "f7a5de03-1234-4466-9d37-52c9a06f2750",
   "metadata": {},
   "outputs": [
    {
     "name": "stdout",
     "output_type": "stream",
     "text": [
      "6\n"
     ]
    }
   ],
   "source": [
    "# random\n",
    "import random\n",
    "number = random.randrange(1,7)\n",
    "print(number)"
   ]
  },
  {
   "cell_type": "code",
   "execution_count": 5,
   "id": "511a869a-1c08-4229-820f-55b698febd16",
   "metadata": {},
   "outputs": [],
   "source": [
    "# example\n",
    "students = ['Ram', 'Shyam', 'Hari', 'Sita', 'Krishna']"
   ]
  },
  {
   "cell_type": "code",
   "execution_count": 6,
   "id": "b72abdc0-e2b0-45b8-8376-21662e0debe4",
   "metadata": {},
   "outputs": [
    {
     "data": {
      "text/plain": [
       "'Ram'"
      ]
     },
     "execution_count": 6,
     "metadata": {},
     "output_type": "execute_result"
    }
   ],
   "source": [
    "random.choice(students)"
   ]
  },
  {
   "cell_type": "markdown",
   "id": "707cf048-5308-453b-84de-cfb71da54531",
   "metadata": {},
   "source": [
    "### Math Module"
   ]
  },
  {
   "cell_type": "code",
   "execution_count": 7,
   "id": "784c56b2-3ddd-4017-b034-92115587e92f",
   "metadata": {},
   "outputs": [
    {
     "name": "stdout",
     "output_type": "stream",
     "text": [
      "3.141592653589793\n"
     ]
    }
   ],
   "source": [
    "import math\n",
    "print(math.pi)#"
   ]
  },
  {
   "cell_type": "code",
   "execution_count": 8,
   "id": "1c081f1c-d4b3-4528-9c76-b9b8651c6876",
   "metadata": {},
   "outputs": [
    {
     "name": "stdout",
     "output_type": "stream",
     "text": [
      "-0.9880316240928618\n"
     ]
    }
   ],
   "source": [
    "print(math.sin(30))"
   ]
  },
  {
   "cell_type": "code",
   "execution_count": 9,
   "id": "bd63b44e-3bce-495e-95c9-580c506b926e",
   "metadata": {},
   "outputs": [
    {
     "data": {
      "text/plain": [
       "24"
      ]
     },
     "execution_count": 9,
     "metadata": {},
     "output_type": "execute_result"
    }
   ],
   "source": [
    "math.factorial(4)"
   ]
  },
  {
   "cell_type": "markdown",
   "id": "4df2b37b-1f20-40bd-9e8f-a209c7ef55e0",
   "metadata": {},
   "source": [
    "### List"
   ]
  },
  {
   "cell_type": "code",
   "execution_count": 10,
   "id": "3d735968-f7b3-4fcc-8ad7-6e8927107a7d",
   "metadata": {},
   "outputs": [],
   "source": [
    "# creating a python list\n",
    "# list - []\n",
    "# dictionary/set - {}\n",
    "# tuple - ()\n",
    "# string - \"\" / ''"
   ]
  },
  {
   "cell_type": "code",
   "execution_count": 11,
   "id": "597e48b7-38eb-4905-a51c-256a5acc74f0",
   "metadata": {},
   "outputs": [],
   "source": [
    "# 'list'\n",
    "list1 = [1, 2, 'hello', 2 + 3j]"
   ]
  },
  {
   "cell_type": "code",
   "execution_count": 12,
   "id": "96e6598f-8961-4d87-8251-6083f5e21d86",
   "metadata": {},
   "outputs": [],
   "source": [
    "# creating empty list\n",
    "list2 = []\n",
    "list3 = [1, 2, 3, ['abc', 4.5]]"
   ]
  },
  {
   "cell_type": "code",
   "execution_count": 13,
   "id": "3be5f29d-f504-4be6-b8e9-cee18119feba",
   "metadata": {},
   "outputs": [],
   "source": [
    "# what is mutable nad immutable data types in python?"
   ]
  },
  {
   "cell_type": "code",
   "execution_count": 14,
   "id": "cce905b0-5830-4e95-a31e-df3236265283",
   "metadata": {},
   "outputs": [
    {
     "data": {
      "text/plain": [
       "4.5"
      ]
     },
     "execution_count": 14,
     "metadata": {},
     "output_type": "execute_result"
    }
   ],
   "source": [
    "list3[3][1]"
   ]
  },
  {
   "cell_type": "code",
   "execution_count": 15,
   "id": "540d89f0-26c7-4d27-9bdc-1524ecf92d84",
   "metadata": {},
   "outputs": [],
   "source": [
    "# slicing\n",
    "list4 = ['A', 'a', 'd', 'i', 'm', 'c', 'o', 'l', 'l', 'e', 'g', 'e']"
   ]
  },
  {
   "cell_type": "code",
   "execution_count": 16,
   "id": "65bc670b-8abd-44d8-94c9-636e4c76f88f",
   "metadata": {},
   "outputs": [
    {
     "data": {
      "text/plain": [
       "['A', 'a', 'd', 'i', 'm']"
      ]
     },
     "execution_count": 16,
     "metadata": {},
     "output_type": "execute_result"
    }
   ],
   "source": [
    "list4[0:5]"
   ]
  },
  {
   "cell_type": "code",
   "execution_count": 17,
   "id": "78066b68-a184-42d7-ae8d-19b9b2e6e9a7",
   "metadata": {},
   "outputs": [
    {
     "data": {
      "text/plain": [
       "['c', 'o', 'l', 'l', 'e', 'g']"
      ]
     },
     "execution_count": 17,
     "metadata": {},
     "output_type": "execute_result"
    }
   ],
   "source": [
    "list4[5:-1]"
   ]
  },
  {
   "cell_type": "code",
   "execution_count": 18,
   "id": "759fd974-30f5-4131-86b2-c3ddb7881dcd",
   "metadata": {},
   "outputs": [
    {
     "data": {
      "text/plain": [
       "['c', 'o', 'l', 'l', 'e', 'g', 'e']"
      ]
     },
     "execution_count": 18,
     "metadata": {},
     "output_type": "execute_result"
    }
   ],
   "source": [
    "list4[5:]"
   ]
  },
  {
   "cell_type": "code",
   "execution_count": 19,
   "id": "d7997912-96f5-4c87-bd2e-5884fb79b9c1",
   "metadata": {},
   "outputs": [
    {
     "data": {
      "text/plain": [
       "['A', 'a', 'd', 'i', 'm', 'c', 'o']"
      ]
     },
     "execution_count": 19,
     "metadata": {},
     "output_type": "execute_result"
    }
   ],
   "source": [
    "list4[:7]"
   ]
  },
  {
   "cell_type": "code",
   "execution_count": 20,
   "id": "d013a8a6-f338-4e5a-a7e2-4746b67e64bf",
   "metadata": {},
   "outputs": [],
   "source": [
    "list4.append('Nepal')"
   ]
  },
  {
   "cell_type": "code",
   "execution_count": 21,
   "id": "fa8089f3-dc7c-4682-8966-227dabd1cc63",
   "metadata": {},
   "outputs": [
    {
     "data": {
      "text/plain": [
       "['A', 'a', 'd', 'i', 'm', 'c', 'o', 'l', 'l', 'e', 'g', 'e', 'Nepal']"
      ]
     },
     "execution_count": 21,
     "metadata": {},
     "output_type": "execute_result"
    }
   ],
   "source": [
    "list4"
   ]
  },
  {
   "cell_type": "code",
   "execution_count": 22,
   "id": "718fc49a-9aa2-4cc1-9485-af9a18e70957",
   "metadata": {},
   "outputs": [],
   "source": [
    "# insert\n",
    "list4.insert(2, 'Rainfall')"
   ]
  },
  {
   "cell_type": "code",
   "execution_count": 23,
   "id": "9a28c96e-ddb7-439a-992f-24d603f11487",
   "metadata": {},
   "outputs": [
    {
     "data": {
      "text/plain": [
       "['A',\n",
       " 'a',\n",
       " 'Rainfall',\n",
       " 'd',\n",
       " 'i',\n",
       " 'm',\n",
       " 'c',\n",
       " 'o',\n",
       " 'l',\n",
       " 'l',\n",
       " 'e',\n",
       " 'g',\n",
       " 'e',\n",
       " 'Nepal']"
      ]
     },
     "execution_count": 23,
     "metadata": {},
     "output_type": "execute_result"
    }
   ],
   "source": [
    "list4"
   ]
  },
  {
   "cell_type": "code",
   "execution_count": 24,
   "id": "debc1362-d4ff-4eaa-b0a0-f6745c2971e7",
   "metadata": {},
   "outputs": [],
   "source": [
    "# for list + list use extend\n",
    "list1.extend(list4)"
   ]
  },
  {
   "cell_type": "code",
   "execution_count": 25,
   "id": "df13df36-b59b-44e6-9314-510e79a9f128",
   "metadata": {},
   "outputs": [
    {
     "data": {
      "text/plain": [
       "[1,\n",
       " 2,\n",
       " 'hello',\n",
       " (2+3j),\n",
       " 'A',\n",
       " 'a',\n",
       " 'Rainfall',\n",
       " 'd',\n",
       " 'i',\n",
       " 'm',\n",
       " 'c',\n",
       " 'o',\n",
       " 'l',\n",
       " 'l',\n",
       " 'e',\n",
       " 'g',\n",
       " 'e',\n",
       " 'Nepal']"
      ]
     },
     "execution_count": 25,
     "metadata": {},
     "output_type": "execute_result"
    }
   ],
   "source": [
    "list1"
   ]
  },
  {
   "cell_type": "code",
   "execution_count": 26,
   "id": "3645b3a2-854c-43d5-87d4-d8823aa414a0",
   "metadata": {},
   "outputs": [],
   "source": [
    "# change items in the list\n",
    "list4[2] = 'BANANA'"
   ]
  },
  {
   "cell_type": "code",
   "execution_count": 27,
   "id": "1f28dc8e-6d95-42e9-b1d2-a5ebf5709c5e",
   "metadata": {},
   "outputs": [
    {
     "data": {
      "text/plain": [
       "['A', 'a', 'BANANA', 'd', 'i', 'm', 'c', 'o', 'l', 'l', 'e', 'g', 'e', 'Nepal']"
      ]
     },
     "execution_count": 27,
     "metadata": {},
     "output_type": "execute_result"
    }
   ],
   "source": [
    "list4"
   ]
  },
  {
   "cell_type": "code",
   "execution_count": 28,
   "id": "8840ecc4-be16-4a37-aa65-2deed2e819b1",
   "metadata": {},
   "outputs": [
    {
     "data": {
      "text/plain": [
       "['A', 'a', 'd', 'i', 'm', 'c', 'o', 'l', 'l', 'e', 'g', 'e', 'Nepal']"
      ]
     },
     "execution_count": 28,
     "metadata": {},
     "output_type": "execute_result"
    }
   ],
   "source": [
    "# remove\n",
    "list4.remove('BANANA')\n",
    "list4"
   ]
  },
  {
   "cell_type": "code",
   "execution_count": 29,
   "id": "7f969f15-fe06-44d8-b51d-3fcbeb509b0b",
   "metadata": {},
   "outputs": [],
   "source": [
    "del list4[12]"
   ]
  },
  {
   "cell_type": "code",
   "execution_count": 30,
   "id": "6741c63b-0e9b-439a-8532-e529d8e11544",
   "metadata": {},
   "outputs": [
    {
     "data": {
      "text/plain": [
       "['A', 'a', 'd', 'i', 'm', 'c', 'o', 'l', 'l', 'e', 'g', 'e']"
      ]
     },
     "execution_count": 30,
     "metadata": {},
     "output_type": "execute_result"
    }
   ],
   "source": [
    "list4"
   ]
  },
  {
   "cell_type": "code",
   "execution_count": 31,
   "id": "650b8327-a4e7-4762-8096-bfb01bd363da",
   "metadata": {},
   "outputs": [
    {
     "data": {
      "text/plain": [
       "12"
      ]
     },
     "execution_count": 31,
     "metadata": {},
     "output_type": "execute_result"
    }
   ],
   "source": [
    "# finding length\n",
    "len(list4)"
   ]
  },
  {
   "cell_type": "code",
   "execution_count": 32,
   "id": "6fb86b92-dc3c-4237-8fcd-ee5051e28b64",
   "metadata": {},
   "outputs": [],
   "source": [
    "# task 1: iterate over a list and print the index and value\n",
    "theList = ['Nepal', 'India', 'China', 'Japan', 'Korea']"
   ]
  },
  {
   "cell_type": "code",
   "execution_count": 33,
   "id": "39f9c382-2ac8-4fc6-bfda-92c54dde5cfb",
   "metadata": {},
   "outputs": [
    {
     "name": "stdout",
     "output_type": "stream",
     "text": [
      "1 : Nepal\n",
      "2 : India\n",
      "3 : China\n",
      "4 : Japan\n",
      "5 : Korea\n"
     ]
    }
   ],
   "source": [
    "for index, value in enumerate(theList):\n",
    "    print(index + 1, \":\", value)"
   ]
  },
  {
   "cell_type": "code",
   "execution_count": 34,
   "id": "534d3496-93a4-41f2-ab46-06245b7df936",
   "metadata": {},
   "outputs": [],
   "source": [
    "# tuple\n",
    "# define a tuple\n",
    "t1 = (1, 2, 3, 4, 5, 2, 1)"
   ]
  },
  {
   "cell_type": "code",
   "execution_count": 35,
   "id": "39680033-91b7-494b-b5b4-e78a58b299d3",
   "metadata": {},
   "outputs": [
    {
     "data": {
      "text/plain": [
       "(1, 2, 3, 4, 5, 2, 1)"
      ]
     },
     "execution_count": 35,
     "metadata": {},
     "output_type": "execute_result"
    }
   ],
   "source": [
    "t1"
   ]
  },
  {
   "cell_type": "code",
   "execution_count": 36,
   "id": "a8bc49a8-47e6-4dad-8e2e-8d77172dc097",
   "metadata": {},
   "outputs": [
    {
     "name": "stdout",
     "output_type": "stream",
     "text": [
      "<class 'tuple'>\n"
     ]
    }
   ],
   "source": [
    "print(type(t1))"
   ]
  },
  {
   "cell_type": "code",
   "execution_count": 37,
   "id": "8b3c2a9d-1966-4e09-b371-51a8944aefed",
   "metadata": {},
   "outputs": [],
   "source": [
    "# tuple is ordered, immutable and allows duplicates"
   ]
  },
  {
   "cell_type": "code",
   "execution_count": 38,
   "id": "653eb536-40e1-4aea-ac91-ccb889a126d3",
   "metadata": {},
   "outputs": [
    {
     "data": {
      "text/plain": [
       "4"
      ]
     },
     "execution_count": 38,
     "metadata": {},
     "output_type": "execute_result"
    }
   ],
   "source": [
    "# accessing values in tuple\n",
    "t1[3]"
   ]
  },
  {
   "cell_type": "code",
   "execution_count": 39,
   "id": "0f1c8aa9-5b76-402e-9130-72f8120bf673",
   "metadata": {},
   "outputs": [
    {
     "name": "stdout",
     "output_type": "stream",
     "text": [
      "Hey! Is 2025 going to be the hell of a year?\n"
     ]
    }
   ],
   "source": [
    "# string\n",
    "str1 = \"Hey! Is 2025 going to be the hell of a year?\"\n",
    "print(str1)"
   ]
  },
  {
   "cell_type": "code",
   "execution_count": 40,
   "id": "ffa6ac54-a849-456b-9dd0-2e011b4e9867",
   "metadata": {},
   "outputs": [
    {
     "data": {
      "text/plain": [
       "' going to be'"
      ]
     },
     "execution_count": 40,
     "metadata": {},
     "output_type": "execute_result"
    }
   ],
   "source": [
    "# indexing in string\n",
    "str1[12:24]"
   ]
  },
  {
   "cell_type": "code",
   "execution_count": 41,
   "id": "1fe034ea-ef79-467b-8dbf-a7ef794259ce",
   "metadata": {},
   "outputs": [
    {
     "data": {
      "text/plain": [
       "'?'"
      ]
     },
     "execution_count": 41,
     "metadata": {},
     "output_type": "execute_result"
    }
   ],
   "source": [
    "str1[-1]"
   ]
  },
  {
   "cell_type": "code",
   "execution_count": 42,
   "id": "a1fe2e2c-f59d-4d47-b37c-f0ebbc9bd142",
   "metadata": {},
   "outputs": [],
   "source": [
    "# string is immutable, so cannot assign values to indices"
   ]
  },
  {
   "cell_type": "code",
   "execution_count": 43,
   "id": "86f80ba7-b601-4499-ab66-9b71508108ca",
   "metadata": {},
   "outputs": [],
   "source": [
    "# compare\n",
    "# join\n",
    "# iterate\n",
    "str2 = 'Hello,'\n",
    "str3 = 'World !'\n",
    "str4 = str2 + \" \" + str3"
   ]
  },
  {
   "cell_type": "code",
   "execution_count": 44,
   "id": "c020cceb-1f29-4161-b6c5-841e387bd5a8",
   "metadata": {},
   "outputs": [
    {
     "data": {
      "text/plain": [
       "'Hello, World !'"
      ]
     },
     "execution_count": 44,
     "metadata": {},
     "output_type": "execute_result"
    }
   ],
   "source": [
    "str4"
   ]
  },
  {
   "cell_type": "code",
   "execution_count": 45,
   "id": "748a17c9-ea11-4ac8-87e0-7d8fe413e639",
   "metadata": {},
   "outputs": [],
   "source": [
    "# membership\n",
    "strr = 'This is the new string'"
   ]
  },
  {
   "cell_type": "code",
   "execution_count": 46,
   "id": "c6020554-f259-45cb-80f6-75d080f5d55b",
   "metadata": {},
   "outputs": [
    {
     "data": {
      "text/plain": [
       "True"
      ]
     },
     "execution_count": 46,
     "metadata": {},
     "output_type": "execute_result"
    }
   ],
   "source": [
    "'This' in strr"
   ]
  },
  {
   "cell_type": "code",
   "execution_count": 47,
   "id": "0c088f59-855d-41d5-b5f3-fc8c36e5105c",
   "metadata": {},
   "outputs": [],
   "source": [
    "# escape characters are those which use '\\'"
   ]
  },
  {
   "cell_type": "code",
   "execution_count": 48,
   "id": "3b0b940a-757c-4599-bb88-9b25a1bc84ba",
   "metadata": {},
   "outputs": [
    {
     "name": "stdout",
     "output_type": "stream",
     "text": [
      "Name: Andrea and age: 25\n"
     ]
    }
   ],
   "source": [
    "# fstirng\n",
    "name = 'Andrea'\n",
    "age = 25\n",
    "print('Name: {} and age: {}'.format(name, age))"
   ]
  },
  {
   "cell_type": "code",
   "execution_count": 49,
   "id": "18e8145d-a80c-4951-81b6-942f0f74f208",
   "metadata": {},
   "outputs": [
    {
     "name": "stdout",
     "output_type": "stream",
     "text": [
      "Name is Andrea and age is 25\n"
     ]
    }
   ],
   "source": [
    "print(f'Name is {name} and age is {age}')"
   ]
  },
  {
   "cell_type": "markdown",
   "id": "383a1430-56e1-4c15-afe7-a7e86c5cce04",
   "metadata": {},
   "source": [
    "### sets"
   ]
  },
  {
   "cell_type": "code",
   "execution_count": 50,
   "id": "7a597a08-c8c3-42f2-b036-5db8749ce42d",
   "metadata": {},
   "outputs": [],
   "source": [
    "# sets are: unique (no duplicates), unordered\n",
    "set1 = {4, 5, 6, 2, 3, 4, 1}"
   ]
  },
  {
   "cell_type": "code",
   "execution_count": 51,
   "id": "b623286d-4373-4a40-ab4c-0f4d0b7f7165",
   "metadata": {},
   "outputs": [
    {
     "data": {
      "text/plain": [
       "{1, 2, 3, 4, 5, 6}"
      ]
     },
     "execution_count": 51,
     "metadata": {},
     "output_type": "execute_result"
    }
   ],
   "source": [
    "set1"
   ]
  },
  {
   "cell_type": "code",
   "execution_count": 52,
   "id": "88b9842f-f145-4362-891d-2006ae140a6f",
   "metadata": {},
   "outputs": [],
   "source": [
    "# defining empty set\n",
    "s1 = set()"
   ]
  },
  {
   "cell_type": "code",
   "execution_count": 53,
   "id": "d940e5b7-d857-4beb-b022-43726d06691c",
   "metadata": {},
   "outputs": [
    {
     "data": {
      "text/plain": [
       "set"
      ]
     },
     "execution_count": 53,
     "metadata": {},
     "output_type": "execute_result"
    }
   ],
   "source": [
    "type(s1)"
   ]
  },
  {
   "cell_type": "code",
   "execution_count": 54,
   "id": "01c25271-041c-4910-bd38-6cbf798a433b",
   "metadata": {},
   "outputs": [],
   "source": [
    "# supports set oprations like union, intersetcion, differece"
   ]
  },
  {
   "cell_type": "code",
   "execution_count": 55,
   "id": "fb57324e-4fb8-4856-88ef-7d5b54b53d8b",
   "metadata": {},
   "outputs": [],
   "source": [
    "#add\n",
    "s1.add(\"Kathmandu\")"
   ]
  },
  {
   "cell_type": "code",
   "execution_count": 56,
   "id": "bc71af1f-ff96-478b-aa90-cb8e66d7eb6b",
   "metadata": {},
   "outputs": [
    {
     "data": {
      "text/plain": [
       "{'Kathmandu'}"
      ]
     },
     "execution_count": 56,
     "metadata": {},
     "output_type": "execute_result"
    }
   ],
   "source": [
    "s1"
   ]
  },
  {
   "cell_type": "code",
   "execution_count": 57,
   "id": "02ec5dc2-aae9-4f3a-8a09-7d197baa156a",
   "metadata": {},
   "outputs": [],
   "source": [
    "# create 2 sets and perform union, intersection and differnce"
   ]
  },
  {
   "cell_type": "code",
   "execution_count": 58,
   "id": "47f74e17-c3f2-472f-b672-ce882a86fdcf",
   "metadata": {},
   "outputs": [],
   "source": [
    "set1 = {'Spain', 'England', 'France', 'Germany', 'Turkey'}"
   ]
  },
  {
   "cell_type": "code",
   "execution_count": 59,
   "id": "e3457219-9559-4b84-ae61-008bbd044cef",
   "metadata": {},
   "outputs": [],
   "source": [
    "set2 = {'Korea', 'Japan', 'Turkey', 'Thailand', 'India'}"
   ]
  },
  {
   "cell_type": "code",
   "execution_count": 60,
   "id": "6fd1b5e8-f72b-4f64-871a-b56768ccca37",
   "metadata": {},
   "outputs": [
    {
     "data": {
      "text/plain": [
       "{'India', 'Japan', 'Korea', 'Thailand'}"
      ]
     },
     "execution_count": 60,
     "metadata": {},
     "output_type": "execute_result"
    }
   ],
   "source": [
    "set2 - set1"
   ]
  },
  {
   "cell_type": "code",
   "execution_count": 61,
   "id": "1142152e-58db-430c-ae21-c9a6bfdf8667",
   "metadata": {},
   "outputs": [
    {
     "data": {
      "text/plain": [
       "{'England',\n",
       " 'France',\n",
       " 'Germany',\n",
       " 'India',\n",
       " 'Japan',\n",
       " 'Korea',\n",
       " 'Spain',\n",
       " 'Thailand',\n",
       " 'Turkey'}"
      ]
     },
     "execution_count": 61,
     "metadata": {},
     "output_type": "execute_result"
    }
   ],
   "source": [
    "set1.union(set2)"
   ]
  },
  {
   "cell_type": "code",
   "execution_count": 62,
   "id": "7be4472e-ebd1-42a3-9adb-7fa0b83c199b",
   "metadata": {},
   "outputs": [
    {
     "data": {
      "text/plain": [
       "{'Turkey'}"
      ]
     },
     "execution_count": 62,
     "metadata": {},
     "output_type": "execute_result"
    }
   ],
   "source": [
    "set1.intersection(set2)"
   ]
  },
  {
   "cell_type": "code",
   "execution_count": 63,
   "id": "e72140bb-f0bd-4052-9020-e016bc031cd3",
   "metadata": {},
   "outputs": [
    {
     "data": {
      "text/plain": [
       "{'England',\n",
       " 'France',\n",
       " 'Germany',\n",
       " 'India',\n",
       " 'Japan',\n",
       " 'Korea',\n",
       " 'Spain',\n",
       " 'Thailand',\n",
       " 'Turkey'}"
      ]
     },
     "execution_count": 63,
     "metadata": {},
     "output_type": "execute_result"
    }
   ],
   "source": [
    "# union also can be used as\n",
    "set1 | set2"
   ]
  },
  {
   "cell_type": "code",
   "execution_count": 64,
   "id": "6c160bf8-05d0-42f2-ae6c-62c710777f14",
   "metadata": {},
   "outputs": [
    {
     "data": {
      "text/plain": [
       "{'Turkey'}"
      ]
     },
     "execution_count": 64,
     "metadata": {},
     "output_type": "execute_result"
    }
   ],
   "source": [
    "# intersection also can be used as\n",
    "set1 & set2"
   ]
  },
  {
   "cell_type": "code",
   "execution_count": 65,
   "id": "30abd5e3-848c-4305-945c-7eaa08ba0442",
   "metadata": {},
   "outputs": [
    {
     "data": {
      "text/plain": [
       "{'England', 'France', 'Germany', 'Spain'}"
      ]
     },
     "execution_count": 65,
     "metadata": {},
     "output_type": "execute_result"
    }
   ],
   "source": [
    "# difference\n",
    "set1.difference(set2)"
   ]
  },
  {
   "cell_type": "code",
   "execution_count": 66,
   "id": "ffdd7b4d-0411-4574-9dd0-c2c4eb384eb2",
   "metadata": {},
   "outputs": [
    {
     "data": {
      "text/plain": [
       "{'England',\n",
       " 'France',\n",
       " 'Germany',\n",
       " 'India',\n",
       " 'Japan',\n",
       " 'Korea',\n",
       " 'Spain',\n",
       " 'Thailand'}"
      ]
     },
     "execution_count": 66,
     "metadata": {},
     "output_type": "execute_result"
    }
   ],
   "source": [
    "# symmetric difference\n",
    "set1.symmetric_difference(set2)"
   ]
  },
  {
   "cell_type": "code",
   "execution_count": 67,
   "id": "e2e7ace4-95f7-4858-8426-4c3e889d37a5",
   "metadata": {},
   "outputs": [
    {
     "data": {
      "text/plain": [
       "False"
      ]
     },
     "execution_count": 67,
     "metadata": {},
     "output_type": "execute_result"
    }
   ],
   "source": [
    "# subset\n",
    "set1.issubset(set2)"
   ]
  },
  {
   "cell_type": "code",
   "execution_count": 68,
   "id": "b8ed4c20-76ef-45f9-b25d-8e907b746c73",
   "metadata": {},
   "outputs": [
    {
     "name": "stdout",
     "output_type": "stream",
     "text": [
      "France\n",
      "Turkey\n",
      "England\n",
      "Germany\n",
      "Spain\n"
     ]
    }
   ],
   "source": [
    "# accessing set elements\n",
    "for i in set1:\n",
    "    print(i)"
   ]
  },
  {
   "cell_type": "code",
   "execution_count": 69,
   "id": "29eca88b-6380-4653-9f13-4a0a3cdec569",
   "metadata": {},
   "outputs": [],
   "source": [
    "# dictionary\n",
    "# its key: value pair\n",
    "\n",
    "capitals = {\n",
    "    'Nepal' : 'Kathmandu',\n",
    "    'India' : 'New Delhi',\n",
    "    'Japan' : 'Tokyo'\n",
    "}"
   ]
  },
  {
   "cell_type": "code",
   "execution_count": 70,
   "id": "7c7532cf-b202-4583-bffd-aee0f7f32892",
   "metadata": {},
   "outputs": [
    {
     "data": {
      "text/plain": [
       "{'Nepal': 'Kathmandu', 'India': 'New Delhi', 'Japan': 'Tokyo'}"
      ]
     },
     "execution_count": 70,
     "metadata": {},
     "output_type": "execute_result"
    }
   ],
   "source": [
    "capitals"
   ]
  },
  {
   "cell_type": "code",
   "execution_count": 71,
   "id": "da1ac935-cbfd-4dfe-8735-8ba4281ffe2f",
   "metadata": {},
   "outputs": [
    {
     "data": {
      "text/plain": [
       "dict"
      ]
     },
     "execution_count": 71,
     "metadata": {},
     "output_type": "execute_result"
    }
   ],
   "source": [
    "type(capitals)"
   ]
  },
  {
   "cell_type": "code",
   "execution_count": 72,
   "id": "fa3f8130-2088-4ca8-a0e8-5224a5b162c2",
   "metadata": {},
   "outputs": [
    {
     "data": {
      "text/plain": [
       "'Kathmandu'"
      ]
     },
     "execution_count": 72,
     "metadata": {},
     "output_type": "execute_result"
    }
   ],
   "source": [
    "# accessing using key\n",
    "capitals['Nepal']"
   ]
  },
  {
   "cell_type": "code",
   "execution_count": 73,
   "id": "7c4dced8-8773-45fb-adc7-5479e0ed1f6b",
   "metadata": {},
   "outputs": [],
   "source": [
    "# Adding new items to the dictionary\n",
    "capitals['Korea'] = 'Seoul'"
   ]
  },
  {
   "cell_type": "code",
   "execution_count": 74,
   "id": "d63ec929-1749-4d7c-b283-6890010f0a8e",
   "metadata": {},
   "outputs": [
    {
     "data": {
      "text/plain": [
       "{'Nepal': 'Kathmandu',\n",
       " 'India': 'New Delhi',\n",
       " 'Japan': 'Tokyo',\n",
       " 'Korea': 'Seoul'}"
      ]
     },
     "execution_count": 74,
     "metadata": {},
     "output_type": "execute_result"
    }
   ],
   "source": [
    "capitals"
   ]
  },
  {
   "cell_type": "code",
   "execution_count": 75,
   "id": "ea808bdd-d498-4a53-89bd-b227291ea1d0",
   "metadata": {},
   "outputs": [],
   "source": [
    "# deleting\n",
    "del capitals['India']"
   ]
  },
  {
   "cell_type": "code",
   "execution_count": 76,
   "id": "f2852672-aa9c-4e3f-87a1-88f149fa34bf",
   "metadata": {},
   "outputs": [
    {
     "data": {
      "text/plain": [
       "{'Nepal': 'Kathmandu', 'Japan': 'Tokyo', 'Korea': 'Seoul'}"
      ]
     },
     "execution_count": 76,
     "metadata": {},
     "output_type": "execute_result"
    }
   ],
   "source": [
    "capitals"
   ]
  },
  {
   "cell_type": "code",
   "execution_count": 77,
   "id": "5d1949ac-f393-4177-b77d-33046b2818f8",
   "metadata": {},
   "outputs": [
    {
     "name": "stdout",
     "output_type": "stream",
     "text": [
      "Nepal\n",
      "Japan\n",
      "Korea\n"
     ]
    }
   ],
   "source": [
    "# iterating\n",
    "for data in capitals:\n",
    "    print(data)"
   ]
  },
  {
   "cell_type": "code",
   "execution_count": 78,
   "id": "8db84f33-4438-431c-a598-e2dfd3ca95e9",
   "metadata": {},
   "outputs": [
    {
     "name": "stdout",
     "output_type": "stream",
     "text": [
      "Nepal -> Kathmandu\n",
      "Japan -> Tokyo\n",
      "Korea -> Seoul\n"
     ]
    }
   ],
   "source": [
    "for data in capitals:\n",
    "    print(data, \"->\", capitals[data]) "
   ]
  },
  {
   "cell_type": "code",
   "execution_count": 79,
   "id": "b745045c-bd99-4419-a830-5138d453a6d4",
   "metadata": {},
   "outputs": [
    {
     "data": {
      "text/plain": [
       "dict_values(['Kathmandu', 'Tokyo', 'Seoul'])"
      ]
     },
     "execution_count": 79,
     "metadata": {},
     "output_type": "execute_result"
    }
   ],
   "source": [
    "capitals.values()"
   ]
  },
  {
   "cell_type": "code",
   "execution_count": 80,
   "id": "c8a29ab5-5b26-4555-bfd7-480c88f9c9a8",
   "metadata": {},
   "outputs": [
    {
     "data": {
      "text/plain": [
       "dict_keys(['Nepal', 'Japan', 'Korea'])"
      ]
     },
     "execution_count": 80,
     "metadata": {},
     "output_type": "execute_result"
    }
   ],
   "source": [
    "capitals.keys()"
   ]
  },
  {
   "cell_type": "code",
   "execution_count": 81,
   "id": "a273cb75-f077-4e73-a7cd-5a605a4d440a",
   "metadata": {},
   "outputs": [],
   "source": [
    "# Task - creat a dictionary with mulitple data\n",
    "# name: Ram, Shyam, Hari\n",
    "# Age: 22, 21, 25\n",
    "\n",
    "persons: {\n",
    "    'Name' : ['Ram', 'Shyam', 'Hari'],\n",
    "    'Age' : [22, 21, 25]\n",
    "}"
   ]
  },
  {
   "cell_type": "code",
   "execution_count": 82,
   "id": "0b41421e-7d3a-46dd-8e1b-6ffa4b631642",
   "metadata": {},
   "outputs": [],
   "source": [
    "# Task\n",
    "fruits = {\n",
    "    'apple' : 3,\n",
    "    'banana' : 5, \n",
    "    'orange': 2\n",
    "}"
   ]
  },
  {
   "cell_type": "code",
   "execution_count": 83,
   "id": "7e9f3d06-5d92-491c-ada3-3f51ec74bb1d",
   "metadata": {},
   "outputs": [],
   "source": [
    "fruits['grape'] = 4"
   ]
  },
  {
   "cell_type": "code",
   "execution_count": 84,
   "id": "f93cd46a-bc9d-4317-b6a9-485348c9d4a3",
   "metadata": {},
   "outputs": [
    {
     "data": {
      "text/plain": [
       "{'apple': 3, 'banana': 5, 'orange': 2, 'grape': 4}"
      ]
     },
     "execution_count": 84,
     "metadata": {},
     "output_type": "execute_result"
    }
   ],
   "source": [
    "fruits"
   ]
  },
  {
   "cell_type": "code",
   "execution_count": 85,
   "id": "09e648bb-a660-4a23-85e1-9090b9f84d37",
   "metadata": {},
   "outputs": [],
   "source": [
    "fruits['banana'] = 6"
   ]
  },
  {
   "cell_type": "code",
   "execution_count": 86,
   "id": "98e31378-85cf-4e36-bc87-3e7b8378ee11",
   "metadata": {},
   "outputs": [
    {
     "data": {
      "text/plain": [
       "{'apple': 3, 'banana': 6, 'orange': 2, 'grape': 4}"
      ]
     },
     "execution_count": 86,
     "metadata": {},
     "output_type": "execute_result"
    }
   ],
   "source": [
    "fruits"
   ]
  },
  {
   "cell_type": "code",
   "execution_count": 87,
   "id": "535f4809-ed44-4522-a59a-be5a65b8ca9e",
   "metadata": {},
   "outputs": [],
   "source": [
    "del fruits['orange']"
   ]
  },
  {
   "cell_type": "code",
   "execution_count": 88,
   "id": "03cdbb18-41a9-46aa-a2da-d2bc4d30ad75",
   "metadata": {},
   "outputs": [
    {
     "data": {
      "text/plain": [
       "{'apple': 3, 'banana': 6, 'grape': 4}"
      ]
     },
     "execution_count": 88,
     "metadata": {},
     "output_type": "execute_result"
    }
   ],
   "source": [
    "fruits"
   ]
  },
  {
   "cell_type": "markdown",
   "id": "6c451c7b-d33d-4393-8724-5cab6fc61788",
   "metadata": {},
   "source": [
    "## Functions"
   ]
  },
  {
   "cell_type": "code",
   "execution_count": 89,
   "id": "af73547e-bb14-4b43-891c-aa28294d5bf2",
   "metadata": {},
   "outputs": [],
   "source": [
    "# # function statement:\n",
    "# def function_name(arguments):\n",
    "#     # code to execute\n",
    "\n"
   ]
  },
  {
   "cell_type": "code",
   "execution_count": 90,
   "id": "759e1f52-9904-4c10-9fa9-1879ffc2aaa1",
   "metadata": {},
   "outputs": [],
   "source": [
    "# Task\n",
    "# Create a function circle that calculate the area\n",
    "def circle(radius):\n",
    "    print('Area of circle with radius', radius, 'is', 3.14 * radius * radius, '.')"
   ]
  },
  {
   "cell_type": "code",
   "execution_count": 91,
   "id": "e348678b-7b1c-4099-9839-c82b8b3c856d",
   "metadata": {},
   "outputs": [
    {
     "name": "stdout",
     "output_type": "stream",
     "text": [
      "Area of circle with radius 5 is 78.5 .\n"
     ]
    }
   ],
   "source": [
    "circle(5)"
   ]
  },
  {
   "cell_type": "code",
   "execution_count": 92,
   "id": "698d098f-97bc-4182-9148-f1c9ed4d6e4c",
   "metadata": {},
   "outputs": [],
   "source": [
    "# task to create a function toa dd two numbers\n",
    "def two_sum(num1, num2):\n",
    "    print(f'Sum of {num1} and {num2} is {num1 + num2}.')"
   ]
  },
  {
   "cell_type": "code",
   "execution_count": 93,
   "id": "9c75f989-46e0-4d4a-ad12-5f811b075552",
   "metadata": {},
   "outputs": [
    {
     "name": "stdout",
     "output_type": "stream",
     "text": [
      "Sum of 5 and 2 is 7.\n"
     ]
    }
   ],
   "source": [
    "two_sum(5, 2)"
   ]
  },
  {
   "cell_type": "code",
   "execution_count": 94,
   "id": "d5262888-2879-4f11-affc-72b0a4ecf847",
   "metadata": {},
   "outputs": [],
   "source": [
    "# *args and **kwargs\n",
    "def add_(*args):\n",
    "    print(sum(args))"
   ]
  },
  {
   "cell_type": "code",
   "execution_count": 95,
   "id": "e76aa9ba-f860-4bd9-b384-93f466f587ca",
   "metadata": {},
   "outputs": [
    {
     "name": "stdout",
     "output_type": "stream",
     "text": [
      "45\n"
     ]
    }
   ],
   "source": [
    "add_(1, 2, 3, 4, 5, 6, 7, 8, 9)"
   ]
  },
  {
   "cell_type": "code",
   "execution_count": 96,
   "id": "0d410afb-6ffc-4546-a337-e52af9fbe3f6",
   "metadata": {},
   "outputs": [
    {
     "name": "stdout",
     "output_type": "stream",
     "text": [
      "29\n"
     ]
    }
   ],
   "source": [
    "add_(3, 4, 2, 5, 6, 1, 8)"
   ]
  },
  {
   "cell_type": "code",
   "execution_count": 97,
   "id": "caea0ff6-2f6f-4ee2-a423-276136a442eb",
   "metadata": {},
   "outputs": [],
   "source": [
    "# **kwargs - reference - keyword argument\n",
    "def add_(**kwargs):\n",
    "    print(kwargs)"
   ]
  },
  {
   "cell_type": "code",
   "execution_count": 98,
   "id": "6d86530a-a1d1-4097-85f4-f07d09235100",
   "metadata": {},
   "outputs": [
    {
     "name": "stdout",
     "output_type": "stream",
     "text": [
      "{'a': 1, 'b': 3}\n"
     ]
    }
   ],
   "source": [
    "add_(a = 1, b = 3)"
   ]
  },
  {
   "cell_type": "code",
   "execution_count": 99,
   "id": "710f58f4-a6b1-4e46-917f-1555e50e8406",
   "metadata": {},
   "outputs": [],
   "source": [
    "# keyword arugment\n",
    "def max_(a, b):\n",
    "    if a > b:\n",
    "        print(a)\n",
    "    else: print(b)\n"
   ]
  },
  {
   "cell_type": "code",
   "execution_count": 100,
   "id": "3aa1ded5-5f36-4824-9c05-d041efc65fa9",
   "metadata": {},
   "outputs": [
    {
     "name": "stdout",
     "output_type": "stream",
     "text": [
      "10\n"
     ]
    }
   ],
   "source": [
    "max_(b = 10, a = 7)"
   ]
  },
  {
   "cell_type": "code",
   "execution_count": 101,
   "id": "07461724-4153-4416-b95f-e0a87a9452a5",
   "metadata": {},
   "outputs": [],
   "source": [
    "# task - creat a python function that takes multiple argument and count the no. of arguments that are > 5\n",
    "\n",
    "def counting(*args):\n",
    "    count = 0\n",
    "    listing = []\n",
    "    for arg in args:\n",
    "        if arg > 5:\n",
    "            listing.append(arg)\n",
    "            count += 1\n",
    "    print(count)\n",
    "    print(listing)"
   ]
  },
  {
   "cell_type": "code",
   "execution_count": 102,
   "id": "ecc7b84d-2c2f-4b95-8c70-1c5e1f014ddf",
   "metadata": {},
   "outputs": [
    {
     "name": "stdout",
     "output_type": "stream",
     "text": [
      "4\n",
      "[6, 7, 8, 9]\n"
     ]
    }
   ],
   "source": [
    "counting(1, 2, 3, 4, 5, 6, 7, 8, 9)"
   ]
  },
  {
   "cell_type": "code",
   "execution_count": 103,
   "id": "768fd6ec-5c9f-439e-b886-29fea857e273",
   "metadata": {},
   "outputs": [],
   "source": [
    "# variable scope\n",
    "# global -> uses 'global' keyword\n",
    "# local\n",
    "# non local -> in the condition of nested function, if inner function defines the variable with 'nonlocal' keyword, outer function can access it."
   ]
  },
  {
   "cell_type": "code",
   "execution_count": 104,
   "id": "bf021bbc-18cd-4032-b061-f04a3d9df98b",
   "metadata": {},
   "outputs": [],
   "source": [
    "# Recursive function\n",
    "def factorial(num):\n",
    "    if num == 1:\n",
    "        return 1\n",
    "    else:\n",
    "        return num * factorial(num - 1)\n",
    "result = factorial(5)"
   ]
  },
  {
   "cell_type": "code",
   "execution_count": 105,
   "id": "82e27395-a127-408b-b1ab-624e3f111256",
   "metadata": {},
   "outputs": [
    {
     "data": {
      "text/plain": [
       "120"
      ]
     },
     "execution_count": 105,
     "metadata": {},
     "output_type": "execute_result"
    }
   ],
   "source": [
    "result"
   ]
  },
  {
   "cell_type": "code",
   "execution_count": 106,
   "id": "fde45214-9ef5-401c-bf86-d8fbc284eab2",
   "metadata": {},
   "outputs": [
    {
     "data": {
      "text/plain": [
       "3.141592653589793"
      ]
     },
     "execution_count": 106,
     "metadata": {},
     "output_type": "execute_result"
    }
   ],
   "source": [
    "# importing module\n",
    "\n",
    "from math import pi\n",
    "pi"
   ]
  },
  {
   "cell_type": "code",
   "execution_count": null,
   "id": "a71fc646-d5e1-4a54-9ba7-42b2cbe5fb46",
   "metadata": {},
   "outputs": [],
   "source": []
  },
  {
   "cell_type": "code",
   "execution_count": 107,
   "id": "f44b113d-985e-44d8-8c8c-747249d43355",
   "metadata": {},
   "outputs": [
    {
     "name": "stdout",
     "output_type": "stream",
     "text": [
      "This is main function.\n"
     ]
    }
   ],
   "source": [
    "# main fuction in python\n",
    "def main():\n",
    "    print ('This is main function.')\n",
    "    \n",
    "if __name__ == '__main__':\n",
    "    main()"
   ]
  },
  {
   "cell_type": "markdown",
   "id": "e5801d21-7053-4efa-8fcd-f79f20c3e58e",
   "metadata": {},
   "source": [
    "## File handling"
   ]
  },
  {
   "cell_type": "code",
   "execution_count": 108,
   "id": "806e7573-d9bc-48a6-bfa1-e539025f31b4",
   "metadata": {},
   "outputs": [
    {
     "name": "stdout",
     "output_type": "stream",
     "text": [
      "File exists.\n"
     ]
    }
   ],
   "source": [
    "# to check if file exists or not\n",
    "import os\n",
    "if os.path.exists('python.txt'):\n",
    "    print('File exists.')\n",
    "else:\n",
    "    print('No file available.')\n",
    "          "
   ]
  },
  {
   "cell_type": "code",
   "execution_count": 109,
   "id": "990ae56f-778b-4225-8bae-04fa3c4fc974",
   "metadata": {},
   "outputs": [
    {
     "data": {
      "text/plain": [
       "'e:\\\\Practice\\\\Python\\\\CatchingPython'"
      ]
     },
     "execution_count": 109,
     "metadata": {},
     "output_type": "execute_result"
    }
   ],
   "source": [
    "os.getcwd()"
   ]
  },
  {
   "cell_type": "code",
   "execution_count": 110,
   "id": "6f3a1983-19e1-4fd7-af86-d43392bf3a17",
   "metadata": {},
   "outputs": [
    {
     "name": "stdout",
     "output_type": "stream",
     "text": [
      "This is the testing file for file handling.This isn't that much fun. Doing some tasks in here.\n"
     ]
    }
   ],
   "source": [
    "with open('python.txt', 'r') as file:\n",
    "    content = file.read()\n",
    "    print(content)"
   ]
  },
  {
   "cell_type": "code",
   "execution_count": 111,
   "id": "8b752498-c074-4ced-a55a-8ffc1a4269bd",
   "metadata": {},
   "outputs": [],
   "source": [
    "file = open('python.txt', 'r')"
   ]
  },
  {
   "cell_type": "code",
   "execution_count": 112,
   "id": "1adee55c-5875-4d9c-a3f1-3a30a54400e9",
   "metadata": {},
   "outputs": [
    {
     "data": {
      "text/plain": [
       "\"This is the testing file for file handling.This isn't that much fun. Doing some tasks in here.\""
      ]
     },
     "execution_count": 112,
     "metadata": {},
     "output_type": "execute_result"
    }
   ],
   "source": [
    "file.read()"
   ]
  },
  {
   "cell_type": "code",
   "execution_count": 113,
   "id": "157b004c-f78d-4f4e-bb39-78b16b30718b",
   "metadata": {},
   "outputs": [],
   "source": [
    "# file opening modes\n",
    "# r -> read only if file exists\n",
    "# w -> write (if file does not exists, creates new file)\n",
    "# x -> create an new file for writing, if already exists, it fails\n",
    "# a -> append, open file for appending, if does not exists creaes new file\n",
    "# b -> binary mode\n",
    "# + -> r+, w+\n"
   ]
  },
  {
   "cell_type": "code",
   "execution_count": 114,
   "id": "f24b2298-dc3c-416b-85f9-838dfb339cb6",
   "metadata": {},
   "outputs": [],
   "source": [
    "with open('python.txt', 'w') as file:\n",
    "    file.write('This is the testing file for file handling.')"
   ]
  },
  {
   "cell_type": "code",
   "execution_count": 115,
   "id": "d7ce3f7e-d60c-4ee3-9936-345f686209ba",
   "metadata": {},
   "outputs": [],
   "source": [
    "with open('python.txt', 'a') as file:\n",
    "    file.write(\"This isn't that much fun.\")"
   ]
  },
  {
   "cell_type": "code",
   "execution_count": 116,
   "id": "21383f7d-d917-4c0b-969d-f2399c5f3d4e",
   "metadata": {},
   "outputs": [],
   "source": [
    "# file closing\n",
    "file.close()"
   ]
  },
  {
   "cell_type": "code",
   "execution_count": 117,
   "id": "8d74cabe-b344-4627-87d7-a36a594e0a39",
   "metadata": {},
   "outputs": [],
   "source": [
    "# task\n",
    "# open a new file, if does not exists, create a new file and write 'This is a notebook' then append 'task1- learn python'\n",
    "\n",
    "if os.path.exists('python.txt'):\n",
    "    with open('python.txt', 'r') as file:\n",
    "        content = file.read()\n",
    "else:\n",
    "    with open('python.txt', 'w') as file:\n",
    "        file.write('This is a notebook.')\n",
    "        \n",
    "with open('python.txt', 'a') as file: \n",
    "        file.write(' Doing some tasks in here.')"
   ]
  },
  {
   "cell_type": "markdown",
   "id": "0ba4fb4f-49aa-4940-abe9-bb5c378bb4d7",
   "metadata": {},
   "source": [
    "### Exception Handling"
   ]
  },
  {
   "cell_type": "code",
   "execution_count": 118,
   "id": "1796f276-c065-49ac-84e8-1dc00ba5590b",
   "metadata": {},
   "outputs": [
    {
     "name": "stdout",
     "output_type": "stream",
     "text": [
      "0.5217391304347826\n"
     ]
    }
   ],
   "source": [
    " # division program\n",
    "try:\n",
    "    num1 = int(input('Enter first number: '))\n",
    "    num2 = int(input('Enter second number: '))\n",
    "    print(num1/num2)\n",
    "except ZeroDivisionError:\n",
    "    print('Second number is zero.')\n",
    "except ValueError:\n",
    "    print('Invalid number! Please enter a valid number')"
   ]
  },
  {
   "cell_type": "code",
   "execution_count": 119,
   "id": "3e913414-1d01-4547-89cb-9bb921add0ac",
   "metadata": {},
   "outputs": [
    {
     "name": "stdout",
     "output_type": "stream",
     "text": [
      "You don't have that file dude.\n"
     ]
    }
   ],
   "source": [
    "# Write a python program that opens a file and handles a 'FileNotFoundError' exception if the file does not exist.\n",
    "try:\n",
    "    with open('anaconda.txt', 'r') as file:\n",
    "        content = file.read()\n",
    "        print(content)\n",
    "except FileNotFoundError:\n",
    "    print(\"You don't have that file dude.\")"
   ]
  },
  {
   "cell_type": "code",
   "execution_count": null,
   "id": "ea7f38af-740e-491f-82da-08df8e247a13",
   "metadata": {},
   "outputs": [],
   "source": []
  }
 ],
 "metadata": {
  "kernelspec": {
   "display_name": "venv",
   "language": "python",
   "name": "python3"
  },
  "language_info": {
   "codemirror_mode": {
    "name": "ipython",
    "version": 3
   },
   "file_extension": ".py",
   "mimetype": "text/x-python",
   "name": "python",
   "nbconvert_exporter": "python",
   "pygments_lexer": "ipython3",
   "version": "3.13.1"
  }
 },
 "nbformat": 4,
 "nbformat_minor": 5
}
