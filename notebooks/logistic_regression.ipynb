{
 "cells": [
  {
   "cell_type": "code",
   "execution_count": null,
   "metadata": {},
   "outputs": [],
   "source": [
    "# Projects which can be done using Logistic Regression\n",
    "# 1. Customer Churn Prediction\n",
    "# 2. Email Spam Detection\n",
    "# 3. Heart Disease Prediction\n",
    "# 4. Loan Approval Prediction\n",
    "# 5. Titanic Survival Prediction\n",
    "# 6. Diabetes Prediction\n",
    "# 7. Brest Cancer Prediction"
   ]
  }
 ],
 "metadata": {
  "kernelspec": {
   "display_name": "Python 3 (ipykernel)",
   "language": "python",
   "name": "python3"
  }
 },
 "nbformat": 4,
 "nbformat_minor": 2
}
