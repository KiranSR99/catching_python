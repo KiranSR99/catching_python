{
 "cells": [
  {
   "cell_type": "code",
   "execution_count": 1,
   "id": "37d1f8dd-2779-4190-988a-959f381e9599",
   "metadata": {},
   "outputs": [
    {
     "data": {
      "text/plain": [
       "<__main__.MyClass at 0x159df4d8440>"
      ]
     },
     "execution_count": 1,
     "metadata": {},
     "output_type": "execute_result"
    }
   ],
   "source": [
    "# class\n",
    "# defining class\n",
    "class MyClass:\n",
    "    pass\n",
    "\n",
    "# create a object of a class\n",
    "myclass = MyClass()\n",
    "myclass"
   ]
  },
  {
   "cell_type": "code",
   "execution_count": 2,
   "id": "55995360-f31a-4061-9393-752a240b657d",
   "metadata": {},
   "outputs": [
    {
     "name": "stdout",
     "output_type": "stream",
     "text": [
      "John of class 11 is present.\n"
     ]
    }
   ],
   "source": [
    "class Student:\n",
    "    class_id = '11'  # Class-level attribute\n",
    "    \n",
    "    def attendance(self, name, status):\n",
    "        self.name = name  # Set instance attribute\n",
    "        self.status = status\n",
    "        print(f'{self.name} of class {self.class_id} is {self.status}.')\n",
    "\n",
    "# Creating an object of the class Student\n",
    "student1 = Student()\n",
    "\n",
    "# Calling the attendance method\n",
    "student1.attendance(\"John\", \"present\")\n"
   ]
  },
  {
   "cell_type": "code",
   "execution_count": 3,
   "id": "ea5db73d",
   "metadata": {},
   "outputs": [],
   "source": [
    "class Rectangle:\n",
    "    def area_of_rectangle(self, length, breadth):\n",
    "        self.length = length\n",
    "        self.breadth = breadth\n",
    "        area = self.length * self.breadth\n",
    "        print(f'Area of rectangle with length {self.length} and breadth {self.breadth} is {area}.')\n"
   ]
  },
  {
   "cell_type": "code",
   "execution_count": 4,
   "id": "95fdf6c9-40c9-4592-b8f4-3208bbed8e9b",
   "metadata": {},
   "outputs": [
    {
     "name": "stdout",
     "output_type": "stream",
     "text": [
      "Area of rectangle with length 10 and breadth 8 is 80.\n"
     ]
    }
   ],
   "source": [
    "rect = Rectangle()\n",
    "rect.area_of_rectangle(10, 8)"
   ]
  },
  {
   "cell_type": "markdown",
   "id": "ab4e1c3e-3668-4c00-9cce-859c2b197485",
   "metadata": {},
   "source": [
    "### Inheritance in class"
   ]
  },
  {
   "cell_type": "code",
   "execution_count": 5,
   "id": "9953533a-0edb-4cbc-87b2-6cc848fa23c4",
   "metadata": {},
   "outputs": [],
   "source": [
    "class Flower():\n",
    "    name = ''\n",
    "    def smell(self):\n",
    "        print('I smell wonderful.')\n",
    "\n",
    "class Rose(Flower):\n",
    "    def get_name(self):\n",
    "        print(f'Flower name is {self.name}.')\n",
    "\n",
    "    def smell(self):\n",
    "        print(f'{self.name} smells very nice.')\n",
    "\n",
    "red_rose = Rose()"
   ]
  },
  {
   "cell_type": "code",
   "execution_count": 6,
   "id": "c81062bf-cce3-47b9-a002-4e2ada44970a",
   "metadata": {},
   "outputs": [],
   "source": [
    "red_rose.name = 'Red Rose'"
   ]
  },
  {
   "cell_type": "code",
   "execution_count": 7,
   "id": "09877c3f-244f-4cbd-9e56-da7b53643192",
   "metadata": {},
   "outputs": [
    {
     "name": "stdout",
     "output_type": "stream",
     "text": [
      "Red Rose smells very nice.\n"
     ]
    }
   ],
   "source": [
    "red_rose.smell()"
   ]
  },
  {
   "cell_type": "code",
   "execution_count": 8,
   "id": "5dd9d586-9538-4b18-ae65-1b2ae1db48ea",
   "metadata": {},
   "outputs": [
    {
     "name": "stdout",
     "output_type": "stream",
     "text": [
      "Flower name is Red Rose.\n"
     ]
    }
   ],
   "source": [
    "red_rose.get_name()"
   ]
  },
  {
   "cell_type": "code",
   "execution_count": 9,
   "id": "25c77975-095b-40ef-b611-20e4615f20e7",
   "metadata": {},
   "outputs": [
    {
     "name": "stdout",
     "output_type": "stream",
     "text": [
      "Hello from the Parent class!\n",
      "Hello from the Child class!\n"
     ]
    }
   ],
   "source": [
    "# concept of super()\n",
    "class Parent:\n",
    "    def greet(self):\n",
    "        print(\"Hello from the Parent class!\")\n",
    "\n",
    "class Child(Parent):\n",
    "    def greet(self):\n",
    "        super().greet()  # Call the parent class's greet method\n",
    "        print(\"Hello from the Child class!\")\n",
    "\n",
    "# Create an instance of the Child class\n",
    "child = Child()\n",
    "child.greet()\n"
   ]
  },
  {
   "cell_type": "markdown",
   "id": "fadd3066-aa89-4f2b-bf81-386c0dc15cfa",
   "metadata": {},
   "source": [
    "### List Comprehensions"
   ]
  },
  {
   "cell_type": "code",
   "execution_count": 10,
   "id": "e8ca1903-2c63-4795-b5dd-08ea9d576d92",
   "metadata": {},
   "outputs": [],
   "source": [
    "# conside method to create a list\n",
    "# syntax: [expression for item in iterable]\n",
    "\n",
    "# Example: Create a list of square nubmers from range 1 to 5\n",
    "sq_num = [item**2 for item in range(1,6)]"
   ]
  },
  {
   "cell_type": "code",
   "execution_count": 11,
   "id": "add0fb62-4d32-41d0-bfc0-c27e17d1de98",
   "metadata": {},
   "outputs": [
    {
     "data": {
      "text/plain": [
       "[1, 4, 9, 16, 25]"
      ]
     },
     "execution_count": 11,
     "metadata": {},
     "output_type": "execute_result"
    }
   ],
   "source": [
    "sq_num"
   ]
  },
  {
   "cell_type": "code",
   "execution_count": 12,
   "id": "2d05c698-9856-4ac0-805a-4c9bd74f05d0",
   "metadata": {},
   "outputs": [],
   "source": [
    "# list with conditionals\n",
    "# only get the even squares for range (1,9)\n",
    "# [expression for i in iterable if statement]\n",
    "\n",
    "list2 =[i**2 for i in range(1,9) if i**2 % 2 == 0]\n"
   ]
  },
  {
   "cell_type": "code",
   "execution_count": 13,
   "id": "a8eb0a94-6219-4ce0-810e-9012d8a08dd5",
   "metadata": {},
   "outputs": [
    {
     "data": {
      "text/plain": [
       "[4, 16, 36, 64]"
      ]
     },
     "execution_count": 13,
     "metadata": {},
     "output_type": "execute_result"
    }
   ],
   "source": [
    "list2"
   ]
  },
  {
   "cell_type": "code",
   "execution_count": 14,
   "id": "d107c8ee-e6e7-404a-ac11-7d2095aba018",
   "metadata": {},
   "outputs": [],
   "source": [
    "# converting list items to uppercase\n",
    "names = ['ram', 'sita', 'hari', 'krishna', 'radha']\n",
    "uppercase_name = [name.upper() for name in names]"
   ]
  },
  {
   "cell_type": "code",
   "execution_count": 15,
   "id": "88a7b714-621e-4b42-84a2-383a56f64ec9",
   "metadata": {},
   "outputs": [
    {
     "data": {
      "text/plain": [
       "['RAM', 'SITA', 'HARI', 'KRISHNA', 'RADHA']"
      ]
     },
     "execution_count": 15,
     "metadata": {},
     "output_type": "execute_result"
    }
   ],
   "source": [
    "uppercase_name"
   ]
  },
  {
   "cell_type": "code",
   "execution_count": 16,
   "id": "c0eef7cd-3385-453b-bd6a-efd7a2cd6516",
   "metadata": {},
   "outputs": [
    {
     "data": {
      "text/plain": [
       "{1: 1, 2: 4, 3: 9, 4: 16, 5: 25}"
      ]
     },
     "execution_count": 16,
     "metadata": {},
     "output_type": "execute_result"
    }
   ],
   "source": [
    "# creating a dictionary of square numbers from 1-5\n",
    "d1 = {i:i**2 for i in range(1,6)}\n",
    "d1"
   ]
  },
  {
   "cell_type": "markdown",
   "id": "cfce0ef0-d748-4fa6-a9ed-f7496e856fd2",
   "metadata": {},
   "source": [
    "### Lamda Function"
   ]
  },
  {
   "cell_type": "code",
   "execution_count": 17,
   "id": "d62ca18b-8714-417b-9ec3-4fdba8b33f65",
   "metadata": {},
   "outputs": [],
   "source": [
    "# syntax => lambda : statement\n",
    "\n",
    "testing_lambda = lambda : print('Hello, Is this lamda function working?')"
   ]
  },
  {
   "cell_type": "code",
   "execution_count": 18,
   "id": "9ac22179-0344-40f3-bbd2-998bd81b710b",
   "metadata": {},
   "outputs": [
    {
     "name": "stdout",
     "output_type": "stream",
     "text": [
      "Hello, Is this lamda function working?\n"
     ]
    }
   ],
   "source": [
    "testing_lambda()"
   ]
  },
  {
   "cell_type": "code",
   "execution_count": 19,
   "id": "99fb3a15-7ff3-4ec4-83a3-ba9212680e01",
   "metadata": {},
   "outputs": [],
   "source": [
    "# lambda function with argument\n",
    "arg_lambda = lambda num: num**3"
   ]
  },
  {
   "cell_type": "code",
   "execution_count": 20,
   "id": "affb53fb-d08c-4f6f-b3e1-532d59a071d0",
   "metadata": {},
   "outputs": [
    {
     "data": {
      "text/plain": [
       "27"
      ]
     },
     "execution_count": 20,
     "metadata": {},
     "output_type": "execute_result"
    }
   ],
   "source": [
    "arg_lambda(3)"
   ]
  },
  {
   "cell_type": "markdown",
   "id": "a4677da6-c31f-4f52-b66a-7e85883e505c",
   "metadata": {},
   "source": [
    "### Filter function"
   ]
  },
  {
   "cell_type": "code",
   "execution_count": 21,
   "id": "12774f89-189e-4373-b341-bd04c96275eb",
   "metadata": {},
   "outputs": [],
   "source": [
    "def is_even(num):\n",
    "    return num % 2 == 0\n",
    "number = [2, 3, 4, 6, 8, 12, 45, 23, 67, 77, 88, 44, 56]\n",
    "even_nums = filter(is_even, number)"
   ]
  },
  {
   "cell_type": "code",
   "execution_count": 22,
   "id": "c0deb60f-9168-42c4-840d-5f21db619f40",
   "metadata": {},
   "outputs": [
    {
     "data": {
      "text/plain": [
       "[2, 4, 6, 8, 12, 88, 44, 56]"
      ]
     },
     "execution_count": 22,
     "metadata": {},
     "output_type": "execute_result"
    }
   ],
   "source": [
    "list(even_nums)"
   ]
  },
  {
   "cell_type": "code",
   "execution_count": 23,
   "id": "b2593837-8898-47b6-b2a7-e8ed513299a4",
   "metadata": {},
   "outputs": [],
   "source": [
    "# for above function using lambda with filter\n",
    "even_results = list(filter(lambda num: num % 2 == 0, number))"
   ]
  },
  {
   "cell_type": "code",
   "execution_count": 24,
   "id": "583dd65e-6c10-4a62-99be-98aaf5a63c38",
   "metadata": {},
   "outputs": [
    {
     "data": {
      "text/plain": [
       "[2, 4, 6, 8, 12, 88, 44, 56]"
      ]
     },
     "execution_count": 24,
     "metadata": {},
     "output_type": "execute_result"
    }
   ],
   "source": [
    "even_results"
   ]
  },
  {
   "cell_type": "markdown",
   "id": "0dd90d5e-2949-42da-9dc2-657249ef4d00",
   "metadata": {},
   "source": [
    "### Map function"
   ]
  },
  {
   "cell_type": "code",
   "execution_count": 25,
   "id": "ccf03fce-c884-4caa-87a0-be8c5fabd78b",
   "metadata": {},
   "outputs": [],
   "source": [
    "names = ['Ram', 'Sita', 'Hari', 'Krishna', 'Radha']\n",
    "def to_uppercase(name):\n",
    "    return name.upper()\n",
    "m1 = map(to_uppercase, names)"
   ]
  },
  {
   "cell_type": "code",
   "execution_count": 26,
   "id": "6e3b0a95-9537-4e29-b952-ef26f7d6e58d",
   "metadata": {},
   "outputs": [
    {
     "data": {
      "text/plain": [
       "['RAM', 'SITA', 'HARI', 'KRISHNA', 'RADHA']"
      ]
     },
     "execution_count": 26,
     "metadata": {},
     "output_type": "execute_result"
    }
   ],
   "source": [
    "list(m1)"
   ]
  },
  {
   "cell_type": "code",
   "execution_count": 27,
   "id": "2a561bab-0ea5-4294-8247-ebe0dee83d8c",
   "metadata": {},
   "outputs": [],
   "source": [
    "# now with lambda and list direct use\n",
    "m1 = list(map(lambda name: name.upper(), names))"
   ]
  },
  {
   "cell_type": "code",
   "execution_count": 28,
   "id": "d90d63f2-342f-4ca4-91fe-51645e426f69",
   "metadata": {},
   "outputs": [
    {
     "data": {
      "text/plain": [
       "['RAM', 'SITA', 'HARI', 'KRISHNA', 'RADHA']"
      ]
     },
     "execution_count": 28,
     "metadata": {},
     "output_type": "execute_result"
    }
   ],
   "source": [
    "m1"
   ]
  }
 ],
 "metadata": {
  "kernelspec": {
   "display_name": "venv",
   "language": "python",
   "name": "python3"
  },
  "language_info": {
   "codemirror_mode": {
    "name": "ipython",
    "version": 3
   },
   "file_extension": ".py",
   "mimetype": "text/x-python",
   "name": "python",
   "nbconvert_exporter": "python",
   "pygments_lexer": "ipython3",
   "version": "3.13.1"
  }
 },
 "nbformat": 4,
 "nbformat_minor": 5
}
