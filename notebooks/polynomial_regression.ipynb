{
 "cells": [
  {
   "cell_type": "code",
   "execution_count": 1,
   "metadata": {},
   "outputs": [],
   "source": [
    "import numpy as np\n",
    "import matplotlib.pyplot as plt\n",
    "import pandas as pd\n",
    "import seaborn as sns\n",
    "from sklearn.model_selection import train_test_split\n",
    "from sklearn.metrics import mean_squared_error, r2_score, mean_absolute_error\n",
    "from sklearn.linear_model import LinearRegression\n",
    "from sklearn.preprocessing import PolynomialFeatures"
   ]
  },
  {
   "cell_type": "code",
   "execution_count": 2,
   "metadata": {},
   "outputs": [],
   "source": [
    "# importing the dataset\n",
    "df = pd.read_csv('../data/Advertising.csv')"
   ]
  },
  {
   "cell_type": "code",
   "execution_count": 3,
   "metadata": {},
   "outputs": [
    {
     "data": {
      "text/html": [
       "<div>\n",
       "<style scoped>\n",
       "    .dataframe tbody tr th:only-of-type {\n",
       "        vertical-align: middle;\n",
       "    }\n",
       "\n",
       "    .dataframe tbody tr th {\n",
       "        vertical-align: top;\n",
       "    }\n",
       "\n",
       "    .dataframe thead th {\n",
       "        text-align: right;\n",
       "    }\n",
       "</style>\n",
       "<table border=\"1\" class=\"dataframe\">\n",
       "  <thead>\n",
       "    <tr style=\"text-align: right;\">\n",
       "      <th></th>\n",
       "      <th>Unnamed: 0</th>\n",
       "      <th>TV</th>\n",
       "      <th>Radio</th>\n",
       "      <th>Newspaper</th>\n",
       "      <th>Sales</th>\n",
       "    </tr>\n",
       "  </thead>\n",
       "  <tbody>\n",
       "    <tr>\n",
       "      <th>0</th>\n",
       "      <td>1</td>\n",
       "      <td>230.1</td>\n",
       "      <td>37.8</td>\n",
       "      <td>69.2</td>\n",
       "      <td>22.1</td>\n",
       "    </tr>\n",
       "    <tr>\n",
       "      <th>1</th>\n",
       "      <td>2</td>\n",
       "      <td>44.5</td>\n",
       "      <td>39.3</td>\n",
       "      <td>45.1</td>\n",
       "      <td>10.4</td>\n",
       "    </tr>\n",
       "    <tr>\n",
       "      <th>2</th>\n",
       "      <td>3</td>\n",
       "      <td>17.2</td>\n",
       "      <td>45.9</td>\n",
       "      <td>69.3</td>\n",
       "      <td>9.3</td>\n",
       "    </tr>\n",
       "    <tr>\n",
       "      <th>3</th>\n",
       "      <td>4</td>\n",
       "      <td>151.5</td>\n",
       "      <td>41.3</td>\n",
       "      <td>58.5</td>\n",
       "      <td>18.5</td>\n",
       "    </tr>\n",
       "    <tr>\n",
       "      <th>4</th>\n",
       "      <td>5</td>\n",
       "      <td>180.8</td>\n",
       "      <td>10.8</td>\n",
       "      <td>58.4</td>\n",
       "      <td>12.9</td>\n",
       "    </tr>\n",
       "  </tbody>\n",
       "</table>\n",
       "</div>"
      ],
      "text/plain": [
       "   Unnamed: 0     TV  Radio  Newspaper  Sales\n",
       "0           1  230.1   37.8       69.2   22.1\n",
       "1           2   44.5   39.3       45.1   10.4\n",
       "2           3   17.2   45.9       69.3    9.3\n",
       "3           4  151.5   41.3       58.5   18.5\n",
       "4           5  180.8   10.8       58.4   12.9"
      ]
     },
     "execution_count": 3,
     "metadata": {},
     "output_type": "execute_result"
    }
   ],
   "source": [
    "df.head()"
   ]
  },
  {
   "cell_type": "code",
   "execution_count": 4,
   "metadata": {},
   "outputs": [
    {
     "data": {
      "text/html": [
       "<div>\n",
       "<style scoped>\n",
       "    .dataframe tbody tr th:only-of-type {\n",
       "        vertical-align: middle;\n",
       "    }\n",
       "\n",
       "    .dataframe tbody tr th {\n",
       "        vertical-align: top;\n",
       "    }\n",
       "\n",
       "    .dataframe thead th {\n",
       "        text-align: right;\n",
       "    }\n",
       "</style>\n",
       "<table border=\"1\" class=\"dataframe\">\n",
       "  <thead>\n",
       "    <tr style=\"text-align: right;\">\n",
       "      <th></th>\n",
       "      <th>Unnamed: 0</th>\n",
       "      <th>TV</th>\n",
       "      <th>Radio</th>\n",
       "      <th>Newspaper</th>\n",
       "      <th>Sales</th>\n",
       "    </tr>\n",
       "  </thead>\n",
       "  <tbody>\n",
       "    <tr>\n",
       "      <th>count</th>\n",
       "      <td>200.000000</td>\n",
       "      <td>200.000000</td>\n",
       "      <td>200.000000</td>\n",
       "      <td>200.000000</td>\n",
       "      <td>200.000000</td>\n",
       "    </tr>\n",
       "    <tr>\n",
       "      <th>mean</th>\n",
       "      <td>100.500000</td>\n",
       "      <td>147.042500</td>\n",
       "      <td>23.264000</td>\n",
       "      <td>30.554000</td>\n",
       "      <td>14.022500</td>\n",
       "    </tr>\n",
       "    <tr>\n",
       "      <th>std</th>\n",
       "      <td>57.879185</td>\n",
       "      <td>85.854236</td>\n",
       "      <td>14.846809</td>\n",
       "      <td>21.778621</td>\n",
       "      <td>5.217457</td>\n",
       "    </tr>\n",
       "    <tr>\n",
       "      <th>min</th>\n",
       "      <td>1.000000</td>\n",
       "      <td>0.700000</td>\n",
       "      <td>0.000000</td>\n",
       "      <td>0.300000</td>\n",
       "      <td>1.600000</td>\n",
       "    </tr>\n",
       "    <tr>\n",
       "      <th>25%</th>\n",
       "      <td>50.750000</td>\n",
       "      <td>74.375000</td>\n",
       "      <td>9.975000</td>\n",
       "      <td>12.750000</td>\n",
       "      <td>10.375000</td>\n",
       "    </tr>\n",
       "    <tr>\n",
       "      <th>50%</th>\n",
       "      <td>100.500000</td>\n",
       "      <td>149.750000</td>\n",
       "      <td>22.900000</td>\n",
       "      <td>25.750000</td>\n",
       "      <td>12.900000</td>\n",
       "    </tr>\n",
       "    <tr>\n",
       "      <th>75%</th>\n",
       "      <td>150.250000</td>\n",
       "      <td>218.825000</td>\n",
       "      <td>36.525000</td>\n",
       "      <td>45.100000</td>\n",
       "      <td>17.400000</td>\n",
       "    </tr>\n",
       "    <tr>\n",
       "      <th>max</th>\n",
       "      <td>200.000000</td>\n",
       "      <td>296.400000</td>\n",
       "      <td>49.600000</td>\n",
       "      <td>114.000000</td>\n",
       "      <td>27.000000</td>\n",
       "    </tr>\n",
       "  </tbody>\n",
       "</table>\n",
       "</div>"
      ],
      "text/plain": [
       "       Unnamed: 0          TV       Radio   Newspaper       Sales\n",
       "count  200.000000  200.000000  200.000000  200.000000  200.000000\n",
       "mean   100.500000  147.042500   23.264000   30.554000   14.022500\n",
       "std     57.879185   85.854236   14.846809   21.778621    5.217457\n",
       "min      1.000000    0.700000    0.000000    0.300000    1.600000\n",
       "25%     50.750000   74.375000    9.975000   12.750000   10.375000\n",
       "50%    100.500000  149.750000   22.900000   25.750000   12.900000\n",
       "75%    150.250000  218.825000   36.525000   45.100000   17.400000\n",
       "max    200.000000  296.400000   49.600000  114.000000   27.000000"
      ]
     },
     "execution_count": 4,
     "metadata": {},
     "output_type": "execute_result"
    }
   ],
   "source": [
    "df.describe()"
   ]
  },
  {
   "cell_type": "code",
   "execution_count": 5,
   "metadata": {},
   "outputs": [],
   "source": [
    "df.drop(columns = ['Unnamed: 0'], inplace = True)"
   ]
  },
  {
   "cell_type": "code",
   "execution_count": 6,
   "metadata": {},
   "outputs": [
    {
     "data": {
      "text/html": [
       "<div>\n",
       "<style scoped>\n",
       "    .dataframe tbody tr th:only-of-type {\n",
       "        vertical-align: middle;\n",
       "    }\n",
       "\n",
       "    .dataframe tbody tr th {\n",
       "        vertical-align: top;\n",
       "    }\n",
       "\n",
       "    .dataframe thead th {\n",
       "        text-align: right;\n",
       "    }\n",
       "</style>\n",
       "<table border=\"1\" class=\"dataframe\">\n",
       "  <thead>\n",
       "    <tr style=\"text-align: right;\">\n",
       "      <th></th>\n",
       "      <th>TV</th>\n",
       "      <th>Radio</th>\n",
       "      <th>Newspaper</th>\n",
       "      <th>Sales</th>\n",
       "    </tr>\n",
       "  </thead>\n",
       "  <tbody>\n",
       "    <tr>\n",
       "      <th>0</th>\n",
       "      <td>230.1</td>\n",
       "      <td>37.8</td>\n",
       "      <td>69.2</td>\n",
       "      <td>22.1</td>\n",
       "    </tr>\n",
       "    <tr>\n",
       "      <th>1</th>\n",
       "      <td>44.5</td>\n",
       "      <td>39.3</td>\n",
       "      <td>45.1</td>\n",
       "      <td>10.4</td>\n",
       "    </tr>\n",
       "    <tr>\n",
       "      <th>2</th>\n",
       "      <td>17.2</td>\n",
       "      <td>45.9</td>\n",
       "      <td>69.3</td>\n",
       "      <td>9.3</td>\n",
       "    </tr>\n",
       "    <tr>\n",
       "      <th>3</th>\n",
       "      <td>151.5</td>\n",
       "      <td>41.3</td>\n",
       "      <td>58.5</td>\n",
       "      <td>18.5</td>\n",
       "    </tr>\n",
       "    <tr>\n",
       "      <th>4</th>\n",
       "      <td>180.8</td>\n",
       "      <td>10.8</td>\n",
       "      <td>58.4</td>\n",
       "      <td>12.9</td>\n",
       "    </tr>\n",
       "    <tr>\n",
       "      <th>...</th>\n",
       "      <td>...</td>\n",
       "      <td>...</td>\n",
       "      <td>...</td>\n",
       "      <td>...</td>\n",
       "    </tr>\n",
       "    <tr>\n",
       "      <th>195</th>\n",
       "      <td>38.2</td>\n",
       "      <td>3.7</td>\n",
       "      <td>13.8</td>\n",
       "      <td>7.6</td>\n",
       "    </tr>\n",
       "    <tr>\n",
       "      <th>196</th>\n",
       "      <td>94.2</td>\n",
       "      <td>4.9</td>\n",
       "      <td>8.1</td>\n",
       "      <td>9.7</td>\n",
       "    </tr>\n",
       "    <tr>\n",
       "      <th>197</th>\n",
       "      <td>177.0</td>\n",
       "      <td>9.3</td>\n",
       "      <td>6.4</td>\n",
       "      <td>12.8</td>\n",
       "    </tr>\n",
       "    <tr>\n",
       "      <th>198</th>\n",
       "      <td>283.6</td>\n",
       "      <td>42.0</td>\n",
       "      <td>66.2</td>\n",
       "      <td>25.5</td>\n",
       "    </tr>\n",
       "    <tr>\n",
       "      <th>199</th>\n",
       "      <td>232.1</td>\n",
       "      <td>8.6</td>\n",
       "      <td>8.7</td>\n",
       "      <td>13.4</td>\n",
       "    </tr>\n",
       "  </tbody>\n",
       "</table>\n",
       "<p>200 rows × 4 columns</p>\n",
       "</div>"
      ],
      "text/plain": [
       "        TV  Radio  Newspaper  Sales\n",
       "0    230.1   37.8       69.2   22.1\n",
       "1     44.5   39.3       45.1   10.4\n",
       "2     17.2   45.9       69.3    9.3\n",
       "3    151.5   41.3       58.5   18.5\n",
       "4    180.8   10.8       58.4   12.9\n",
       "..     ...    ...        ...    ...\n",
       "195   38.2    3.7       13.8    7.6\n",
       "196   94.2    4.9        8.1    9.7\n",
       "197  177.0    9.3        6.4   12.8\n",
       "198  283.6   42.0       66.2   25.5\n",
       "199  232.1    8.6        8.7   13.4\n",
       "\n",
       "[200 rows x 4 columns]"
      ]
     },
     "execution_count": 6,
     "metadata": {},
     "output_type": "execute_result"
    }
   ],
   "source": [
    "df"
   ]
  },
  {
   "cell_type": "code",
   "execution_count": 7,
   "metadata": {},
   "outputs": [],
   "source": [
    "cols = df.columns.to_list()"
   ]
  },
  {
   "cell_type": "code",
   "execution_count": 8,
   "metadata": {},
   "outputs": [
    {
     "data": {
      "text/plain": [
       "['TV', 'Radio', 'Newspaper', 'Sales']"
      ]
     },
     "execution_count": 8,
     "metadata": {},
     "output_type": "execute_result"
    }
   ],
   "source": [
    "cols"
   ]
  },
  {
   "cell_type": "code",
   "execution_count": 9,
   "metadata": {},
   "outputs": [
    {
     "data": {
      "image/png": "[encoded data removed]",
      "text/plain": [
       "<Figure size 1500x400 with 2 Axes>"
      ]
     },
     "metadata": {},
     "output_type": "display_data"
    },
    {
     "data": {
      "image/png": "[encoded data removed]",
      "text/plain": [
       "<Figure size 1500x400 with 2 Axes>"
      ]
     },
     "metadata": {},
     "output_type": "display_data"
    },
    {
     "data": {
      "image/png": "[encoded data removed]",
      "text/plain": [
       "<Figure size 1500x400 with 2 Axes>"
      ]
     },
     "metadata": {},
     "output_type": "display_data"
    },
    {
     "data": {
      "image/png": "[encoded data removed]",
      "text/plain": [
       "<Figure size 1500x400 with 2 Axes>"
      ]
     },
     "metadata": {},
     "output_type": "display_data"
    }
   ],
   "source": [
    "# univariate analysis\n",
    "\n",
    "for col in cols:\n",
    "    plt.figure(figsize= (15, 4))\n",
    "    plt.subplot(1, 2, 1)\n",
    "    df[col].hist()\n",
    "    plt.subplot(1, 2, 2)\n",
    "    sns.boxplot(x = df[col])\n",
    "    plt.show()"
   ]
  },
  {
   "cell_type": "code",
   "execution_count": 10,
   "metadata": {},
   "outputs": [
    {
     "data": {
      "application/vnd.plotly.v1+json": {
       "config": {
        "plotlyServerURL": "https://plot.ly"
       },
       "data": [
        {
         "bingroup": "x",
         "hovertemplate": "TV=%{x}<br>count=%{y}<extra></extra>",
         "legendgroup": "",
         "marker": {
          "color": "#636efa",
          "pattern": {
           "shape": ""
          }
         },
         "name": "",
         "orientation": "v",
         "showlegend": false,
         "type": "histogram",
         "x": {
          "bdata": "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",
          "dtype": "f8"
         },
         "xaxis": "x",
         "yaxis": "y"
        },
        {
         "hovertemplate": "TV=%{x}<extra></extra>",
         "legendgroup": "",
         "marker": {
          "color": "#636efa"
         },
         "name": "",
         "notched": true,
         "showlegend": false,
         "type": "box",
         "x": {
          "bdata": "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",
          "dtype": "f8"
         },
         "xaxis": "x2",
         "yaxis": "y2"
        }
       ],
       "layout": {
        "barmode": "relative",
        "height": 400,
        "legend": {
         "tracegroupgap": 0
        },
        "template": {
         "data": {
          "bar": [
           {
            "error_x": {
             "color": "#2a3f5f"
            },
            "error_y": {
             "color": "#2a3f5f"
            },
            "marker": {
             "line": {
              "color": "#E5ECF6",
              "width": 0.5
             },
             "pattern": {
              "fillmode": "overlay",
              "size": 10,
              "solidity": 0.2
             }
            },
            "type": "bar"
           }
          ],
          "barpolar": [
           {
            "marker": {
             "line": {
              "color": "#E5ECF6",
              "width": 0.5
             },
             "pattern": {
              "fillmode": "overlay",
              "size": 10,
              "solidity": 0.2
             }
            },
            "type": "barpolar"
           }
          ],
          "carpet": [
           {
            "aaxis": {
             "endlinecolor": "#2a3f5f",
             "gridcolor": "white",
             "linecolor": "white",
             "minorgridcolor": "white",
             "startlinecolor": "#2a3f5f"
            },
            "baxis": {
             "endlinecolor": "#2a3f5f",
             "gridcolor": "white",
             "linecolor": "white",
             "minorgridcolor": "white",
             "startlinecolor": "#2a3f5f"
            },
            "type": "carpet"
           }
          ],
          "choropleth": [
           {
            "colorbar": {
             "outlinewidth": 0,
             "ticks": ""
            },
            "type": "choropleth"
           }
          ],
          "contour": [
           {
            "colorbar": {
             "outlinewidth": 0,
             "ticks": ""
            },
            "colorscale": [
             [
              0,
              "#0d0887"
             ],
             [
              0.1111111111111111,
              "#46039f"
             ],
             [
              0.2222222222222222,
              "#7201a8"
             ],
             [
              0.3333333333333333,
              "#9c179e"
             ],
             [
              0.4444444444444444,
              "#bd3786"
             ],
             [
              0.5555555555555556,
              "#d8576b"
             ],
             [
              0.6666666666666666,
              "#ed7953"
             ],
             [
              0.7777777777777778,
              "#fb9f3a"
             ],
             [
              0.8888888888888888,
              "#fdca26"
             ],
             [
              1,
              "#f0f921"
             ]
            ],
            "type": "contour"
           }
          ],
          "contourcarpet": [
           {
            "colorbar": {
             "outlinewidth": 0,
             "ticks": ""
            },
            "type": "contourcarpet"
           }
          ],
          "heatmap": [
           {
            "colorbar": {
             "outlinewidth": 0,
             "ticks": ""
            },
            "colorscale": [
             [
              0,
              "#0d0887"
             ],
             [
              0.1111111111111111,
              "#46039f"
             ],
             [
              0.2222222222222222,
              "#7201a8"
             ],
             [
              0.3333333333333333,
              "#9c179e"
             ],
             [
              0.4444444444444444,
              "#bd3786"
             ],
             [
              0.5555555555555556,
              "#d8576b"
             ],
             [
              0.6666666666666666,
              "#ed7953"
             ],
             [
              0.7777777777777778,
              "#fb9f3a"
             ],
             [
              0.8888888888888888,
              "#fdca26"
             ],
             [
              1,
              "#f0f921"
             ]
            ],
            "type": "heatmap"
           }
          ],
          "histogram": [
           {
            "marker": {
             "pattern": {
              "fillmode": "overlay",
              "size": 10,
              "solidity": 0.2
             }
            },
            "type": "histogram"
           }
          ],
          "histogram2d": [
           {
            "colorbar": {
             "outlinewidth": 0,
             "ticks": ""
            },
            "colorscale": [
             [
              0,
              "#0d0887"
             ],
             [
              0.1111111111111111,
              "#46039f"
             ],
             [
              0.2222222222222222,
              "#7201a8"
             ],
             [
              0.3333333333333333,
              "#9c179e"
             ],
             [
              0.4444444444444444,
              "#bd3786"
             ],
             [
              0.5555555555555556,
              "#d8576b"
             ],
             [
              0.6666666666666666,
              "#ed7953"
             ],
             [
              0.7777777777777778,
              "#fb9f3a"
             ],
             [
              0.8888888888888888,
              "#fdca26"
             ],
             [
              1,
              "#f0f921"
             ]
            ],
            "type": "histogram2d"
           }
          ],
          "histogram2dcontour": [
           {
            "colorbar": {
             "outlinewidth": 0,
             "ticks": ""
            },
            "colorscale": [
             [
              0,
              "#0d0887"
             ],
             [
              0.1111111111111111,
              "#46039f"
             ],
             [
              0.2222222222222222,
              "#7201a8"
             ],
             [
              0.3333333333333333,
              "#9c179e"
             ],
             [
              0.4444444444444444,
              "#bd3786"
             ],
             [
              0.5555555555555556,
              "#d8576b"
             ],
             [
              0.6666666666666666,
              "#ed7953"
             ],
             [
              0.7777777777777778,
              "#fb9f3a"
             ],
             [
              0.8888888888888888,
              "#fdca26"
             ],
             [
              1,
              "#f0f921"
             ]
            ],
            "type": "histogram2dcontour"
           }
          ],
          "mesh3d": [
           {
            "colorbar": {
             "outlinewidth": 0,
             "ticks": ""
            },
            "type": "mesh3d"
           }
          ],
          "parcoords": [
           {
            "line": {
             "colorbar": {
              "outlinewidth": 0,
              "ticks": ""
             }
            },
            "type": "parcoords"
           }
          ],
          "pie": [
           {
            "automargin": true,
            "type": "pie"
           }
          ],
          "scatter": [
           {
            "fillpattern": {
             "fillmode": "overlay",
             "size": 10,
             "solidity": 0.2
            },
            "type": "scatter"
           }
          ],
          "scatter3d": [
           {
            "line": {
             "colorbar": {
              "outlinewidth": 0,
              "ticks": ""
             }
            },
            "marker": {
             "colorbar": {
              "outlinewidth": 0,
              "ticks": ""
             }
            },
            "type": "scatter3d"
           }
          ],
          "scattercarpet": [
           {
            "marker": {
             "colorbar": {
              "outlinewidth": 0,
              "ticks": ""
             }
            },
            "type": "scattercarpet"
           }
          ],
          "scattergeo": [
           {
            "marker": {
             "colorbar": {
              "outlinewidth": 0,
              "ticks": ""
             }
            },
            "type": "scattergeo"
           }
          ],
          "scattergl": [
           {
            "marker": {
             "colorbar": {
              "outlinewidth": 0,
              "ticks": ""
             }
            },
            "type": "scattergl"
           }
          ],
          "scattermap": [
           {
            "marker": {
             "colorbar": {
              "outlinewidth": 0,
              "ticks": ""
             }
            },
            "type": "scattermap"
           }
          ],
          "scattermapbox": [
           {
            "marker": {
             "colorbar": {
              "outlinewidth": 0,
              "ticks": ""
             }
            },
            "type": "scattermapbox"
           }
          ],
          "scatterpolar": [
           {
            "marker": {
             "colorbar": {
              "outlinewidth": 0,
              "ticks": ""
             }
            },
            "type": "scatterpolar"
           }
          ],
          "scatterpolargl": [
           {
            "marker": {
             "colorbar": {
              "outlinewidth": 0,
              "ticks": ""
             }
            },
            "type": "scatterpolargl"
           }
          ],
          "scatterternary": [
           {
            "marker": {
             "colorbar": {
              "outlinewidth": 0,
              "ticks": ""
             }
            },
            "type": "scatterternary"
           }
          ],
          "surface": [
           {
            "colorbar": {
             "outlinewidth": 0,
             "ticks": ""
            },
            "colorscale": [
             [
              0,
              "#0d0887"
             ],
             [
              0.1111111111111111,
              "#46039f"
             ],
             [
              0.2222222222222222,
              "#7201a8"
             ],
             [
              0.3333333333333333,
              "#9c179e"
             ],
             [
              0.4444444444444444,
              "#bd3786"
             ],
             [
              0.5555555555555556,
              "#d8576b"
             ],
             [
              0.6666666666666666,
              "#ed7953"
             ],
             [
              0.7777777777777778,
              "#fb9f3a"
             ],
             [
              0.8888888888888888,
              "#fdca26"
             ],
             [
              1,
              "#f0f921"
             ]
            ],
            "type": "surface"
           }
          ],
          "table": [
           {
            "cells": {
             "fill": {
              "color": "#EBF0F8"
             },
             "line": {
              "color": "white"
             }
            },
            "header": {
             "fill": {
              "color": "#C8D4E3"
             },
             "line": {
              "color": "white"
             }
            },
            "type": "table"
           }
          ]
         },
         "layout": {
          "annotationdefaults": {
           "arrowcolor": "#2a3f5f",
           "arrowhead": 0,
           "arrowwidth": 1
          },
          "autotypenumbers": "strict",
          "coloraxis": {
           "colorbar": {
            "outlinewidth": 0,
            "ticks": ""
           }
          },
          "colorscale": {
           "diverging": [
            [
             0,
             "#8e0152"
            ],
            [
             0.1,
             "#c51b7d"
            ],
            [
             0.2,
             "#de77ae"
            ],
            [
             0.3,
             "#f1b6da"
            ],
            [
             0.4,
             "#fde0ef"
            ],
            [
             0.5,
             "#f7f7f7"
            ],
            [
             0.6,
             "#e6f5d0"
            ],
            [
             0.7,
             "#b8e186"
            ],
            [
             0.8,
             "#7fbc41"
            ],
            [
             0.9,
             "#4d9221"
            ],
            [
             1,
             "#276419"
            ]
           ],
           "sequential": [
            [
             0,
             "#0d0887"
            ],
            [
             0.1111111111111111,
             "#46039f"
            ],
            [
             0.2222222222222222,
             "#7201a8"
            ],
            [
             0.3333333333333333,
             "#9c179e"
            ],
            [
             0.4444444444444444,
             "#bd3786"
            ],
            [
             0.5555555555555556,
             "#d8576b"
            ],
            [
             0.6666666666666666,
             "#ed7953"
            ],
            [
             0.7777777777777778,
             "#fb9f3a"
            ],
            [
             0.8888888888888888,
             "#fdca26"
            ],
            [
             1,
             "#f0f921"
            ]
           ],
           "sequentialminus": [
            [
             0,
             "#0d0887"
            ],
            [
             0.1111111111111111,
             "#46039f"
            ],
            [
             0.2222222222222222,
             "#7201a8"
            ],
            [
             0.3333333333333333,
             "#9c179e"
            ],
            [
             0.4444444444444444,
             "#bd3786"
            ],
            [
             0.5555555555555556,
             "#d8576b"
            ],
            [
             0.6666666666666666,
             "#ed7953"
            ],
            [
             0.7777777777777778,
             "#fb9f3a"
            ],
            [
             0.8888888888888888,
             "#fdca26"
            ],
            [
             1,
             "#f0f921"
            ]
           ]
          },
          "colorway": [
           "#636efa",
           "#EF553B",
           "#00cc96",
           "#ab63fa",
           "#FFA15A",
           "#19d3f3",
           "#FF6692",
           "#B6E880",
           "#FF97FF",
           "#FECB52"
          ],
          "font": {
           "color": "#2a3f5f"
          },
          "geo": {
           "bgcolor": "white",
           "lakecolor": "white",
           "landcolor": "#E5ECF6",
           "showlakes": true,
           "showland": true,
           "subunitcolor": "white"
          },
          "hoverlabel": {
           "align": "left"
          },
          "hovermode": "closest",
          "mapbox": {
           "style": "light"
          },
          "paper_bgcolor": "white",
          "plot_bgcolor": "#E5ECF6",
          "polar": {
           "angularaxis": {
            "gridcolor": "white",
            "linecolor": "white",
            "ticks": ""
           },
           "bgcolor": "#E5ECF6",
           "radialaxis": {
            "gridcolor": "white",
            "linecolor": "white",
            "ticks": ""
           }
          },
          "scene": {
           "xaxis": {
            "backgroundcolor": "#E5ECF6",
            "gridcolor": "white",
            "gridwidth": 2,
            "linecolor": "white",
            "showbackground": true,
            "ticks": "",
            "zerolinecolor": "white"
           },
           "yaxis": {
            "backgroundcolor": "#E5ECF6",
            "gridcolor": "white",
            "gridwidth": 2,
            "linecolor": "white",
            "showbackground": true,
            "ticks": "",
            "zerolinecolor": "white"
           },
           "zaxis": {
            "backgroundcolor": "#E5ECF6",
            "gridcolor": "white",
            "gridwidth": 2,
            "linecolor": "white",
            "showbackground": true,
            "ticks": "",
            "zerolinecolor": "white"
           }
          },
          "shapedefaults": {
           "line": {
            "color": "#2a3f5f"
           }
          },
          "ternary": {
           "aaxis": {
            "gridcolor": "white",
            "linecolor": "white",
            "ticks": ""
           },
           "baxis": {
            "gridcolor": "white",
            "linecolor": "white",
            "ticks": ""
           },
           "bgcolor": "#E5ECF6",
           "caxis": {
            "gridcolor": "white",
            "linecolor": "white",
            "ticks": ""
           }
          },
          "title": {
           "x": 0.05
          },
          "xaxis": {
           "automargin": true,
           "gridcolor": "white",
           "linecolor": "white",
           "ticks": "",
           "title": {
            "standoff": 15
           },
           "zerolinecolor": "white",
           "zerolinewidth": 2
          },
          "yaxis": {
           "automargin": true,
           "gridcolor": "white",
           "linecolor": "white",
           "ticks": "",
           "title": {
            "standoff": 15
           },
           "zerolinecolor": "white",
           "zerolinewidth": 2
          }
         }
        },
        "title": {
         "text": "Histogram of TV"
        },
        "width": 600,
        "xaxis": {
         "anchor": "y",
         "domain": [
          0,
          1
         ],
         "title": {
          "text": "TV"
         }
        },
        "xaxis2": {
         "anchor": "y2",
         "domain": [
          0,
          1
         ],
         "matches": "x",
         "showgrid": true,
         "showticklabels": false
        },
        "yaxis": {
         "anchor": "x",
         "domain": [
          0,
          0.8316
         ],
         "title": {
          "text": "count"
         }
        },
        "yaxis2": {
         "anchor": "x2",
         "domain": [
          0.8416,
          1
         ],
         "matches": "y2",
         "showgrid": false,
         "showline": false,
         "showticklabels": false,
         "ticks": ""
        }
       }
      }
     },
     "metadata": {},
     "output_type": "display_data"
    },
    {
     "data": {
      "application/vnd.plotly.v1+json": {
       "config": {
        "plotlyServerURL": "https://plot.ly"
       },
       "data": [
        {
         "bingroup": "x",
         "hovertemplate": "Radio=%{x}<br>count=%{y}<extra></extra>",
         "legendgroup": "",
         "marker": {
          "color": "#636efa",
          "pattern": {
           "shape": ""
          }
         },
         "name": "",
         "orientation": "v",
         "showlegend": false,
         "type": "histogram",
         "x": {
          "bdata": "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",
          "dtype": "f8"
         },
         "xaxis": "x",
         "yaxis": "y"
        },
        {
         "hovertemplate": "Radio=%{x}<extra></extra>",
         "legendgroup": "",
         "marker": {
          "color": "#636efa"
         },
         "name": "",
         "notched": true,
         "showlegend": false,
         "type": "box",
         "x": {
          "bdata": "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",
          "dtype": "f8"
         },
         "xaxis": "x2",
         "yaxis": "y2"
        }
       ],
       "layout": {
        "barmode": "relative",
        "height": 400,
        "legend": {
         "tracegroupgap": 0
        },
        "template": {
         "data": {
          "bar": [
           {
            "error_x": {
             "color": "#2a3f5f"
            },
            "error_y": {
             "color": "#2a3f5f"
            },
            "marker": {
             "line": {
              "color": "#E5ECF6",
              "width": 0.5
             },
             "pattern": {
              "fillmode": "overlay",
              "size": 10,
              "solidity": 0.2
             }
            },
            "type": "bar"
           }
          ],
          "barpolar": [
           {
            "marker": {
             "line": {
              "color": "#E5ECF6",
              "width": 0.5
             },
             "pattern": {
              "fillmode": "overlay",
              "size": 10,
              "solidity": 0.2
             }
            },
            "type": "barpolar"
           }
          ],
          "carpet": [
           {
            "aaxis": {
             "endlinecolor": "#2a3f5f",
             "gridcolor": "white",
             "linecolor": "white",
             "minorgridcolor": "white",
             "startlinecolor": "#2a3f5f"
            },
            "baxis": {
             "endlinecolor": "#2a3f5f",
             "gridcolor": "white",
             "linecolor": "white",
             "minorgridcolor": "white",
             "startlinecolor": "#2a3f5f"
            },
            "type": "carpet"
           }
          ],
          "choropleth": [
           {
            "colorbar": {
             "outlinewidth": 0,
             "ticks": ""
            },
            "type": "choropleth"
           }
          ],
          "contour": [
           {
            "colorbar": {
             "outlinewidth": 0,
             "ticks": ""
            },
            "colorscale": [
             [
              0,
              "#0d0887"
             ],
             [
              0.1111111111111111,
              "#46039f"
             ],
             [
              0.2222222222222222,
              "#7201a8"
             ],
             [
              0.3333333333333333,
              "#9c179e"
             ],
             [
              0.4444444444444444,
              "#bd3786"
             ],
             [
              0.5555555555555556,
              "#d8576b"
             ],
             [
              0.6666666666666666,
              "#ed7953"
             ],
             [
              0.7777777777777778,
              "#fb9f3a"
             ],
             [
              0.8888888888888888,
              "#fdca26"
             ],
             [
              1,
              "#f0f921"
             ]
            ],
            "type": "contour"
           }
          ],
          "contourcarpet": [
           {
            "colorbar": {
             "outlinewidth": 0,
             "ticks": ""
            },
            "type": "contourcarpet"
           }
          ],
          "heatmap": [
           {
            "colorbar": {
             "outlinewidth": 0,
             "ticks": ""
            },
            "colorscale": [
             [
              0,
              "#0d0887"
             ],
             [
              0.1111111111111111,
              "#46039f"
             ],
             [
              0.2222222222222222,
              "#7201a8"
             ],
             [
              0.3333333333333333,
              "#9c179e"
             ],
             [
              0.4444444444444444,
              "#bd3786"
             ],
             [
              0.5555555555555556,
              "#d8576b"
             ],
             [
              0.6666666666666666,
              "#ed7953"
             ],
             [
              0.7777777777777778,
              "#fb9f3a"
             ],
             [
              0.8888888888888888,
              "#fdca26"
             ],
             [
              1,
              "#f0f921"
             ]
            ],
            "type": "heatmap"
           }
          ],
          "histogram": [
           {
            "marker": {
             "pattern": {
              "fillmode": "overlay",
              "size": 10,
              "solidity": 0.2
             }
            },
            "type": "histogram"
           }
          ],
          "histogram2d": [
           {
            "colorbar": {
             "outlinewidth": 0,
             "ticks": ""
            },
            "colorscale": [
             [
              0,
              "#0d0887"
             ],
             [
              0.1111111111111111,
              "#46039f"
             ],
             [
              0.2222222222222222,
              "#7201a8"
             ],
             [
              0.3333333333333333,
              "#9c179e"
             ],
             [
              0.4444444444444444,
              "#bd3786"
             ],
             [
              0.5555555555555556,
              "#d8576b"
             ],
             [
              0.6666666666666666,
              "#ed7953"
             ],
             [
              0.7777777777777778,
              "#fb9f3a"
             ],
             [
              0.8888888888888888,
              "#fdca26"
             ],
             [
              1,
              "#f0f921"
             ]
            ],
            "type": "histogram2d"
           }
          ],
          "histogram2dcontour": [
           {
            "colorbar": {
             "outlinewidth": 0,
             "ticks": ""
            },
            "colorscale": [
             [
              0,
              "#0d0887"
             ],
             [
              0.1111111111111111,
              "#46039f"
             ],
             [
              0.2222222222222222,
              "#7201a8"
             ],
             [
              0.3333333333333333,
              "#9c179e"
             ],
             [
              0.4444444444444444,
              "#bd3786"
             ],
             [
              0.5555555555555556,
              "#d8576b"
             ],
             [
              0.6666666666666666,
              "#ed7953"
             ],
             [
              0.7777777777777778,
              "#fb9f3a"
             ],
             [
              0.8888888888888888,
              "#fdca26"
             ],
             [
              1,
              "#f0f921"
             ]
            ],
            "type": "histogram2dcontour"
           }
          ],
          "mesh3d": [
           {
            "colorbar": {
             "outlinewidth": 0,
             "ticks": ""
            },
            "type": "mesh3d"
           }
          ],
          "parcoords": [
           {
            "line": {
             "colorbar": {
              "outlinewidth": 0,
              "ticks": ""
             }
            },
            "type": "parcoords"
           }
          ],
          "pie": [
           {
            "automargin": true,
            "type": "pie"
           }
          ],
          "scatter": [
           {
            "fillpattern": {
             "fillmode": "overlay",
             "size": 10,
             "solidity": 0.2
            },
            "type": "scatter"
           }
          ],
          "scatter3d": [
           {
            "line": {
             "colorbar": {
              "outlinewidth": 0,
              "ticks": ""
             }
            },
            "marker": {
             "colorbar": {
              "outlinewidth": 0,
              "ticks": ""
             }
            },
            "type": "scatter3d"
           }
          ],
          "scattercarpet": [
           {
            "marker": {
             "colorbar": {
              "outlinewidth": 0,
              "ticks": ""
             }
            },
            "type": "scattercarpet"
           }
          ],
          "scattergeo": [
           {
            "marker": {
             "colorbar": {
              "outlinewidth": 0,
              "ticks": ""
             }
            },
            "type": "scattergeo"
           }
          ],
          "scattergl": [
           {
            "marker": {
             "colorbar": {
              "outlinewidth": 0,
              "ticks": ""
             }
            },
            "type": "scattergl"
           }
          ],
          "scattermap": [
           {
            "marker": {
             "colorbar": {
              "outlinewidth": 0,
              "ticks": ""
             }
            },
            "type": "scattermap"
           }
          ],
          "scattermapbox": [
           {
            "marker": {
             "colorbar": {
              "outlinewidth": 0,
              "ticks": ""
             }
            },
            "type": "scattermapbox"
           }
          ],
          "scatterpolar": [
           {
            "marker": {
             "colorbar": {
              "outlinewidth": 0,
              "ticks": ""
             }
            },
            "type": "scatterpolar"
           }
          ],
          "scatterpolargl": [
           {
            "marker": {
             "colorbar": {
              "outlinewidth": 0,
              "ticks": ""
             }
            },
            "type": "scatterpolargl"
           }
          ],
          "scatterternary": [
           {
            "marker": {
             "colorbar": {
              "outlinewidth": 0,
              "ticks": ""
             }
            },
            "type": "scatterternary"
           }
          ],
          "surface": [
           {
            "colorbar": {
             "outlinewidth": 0,
             "ticks": ""
            },
            "colorscale": [
             [
              0,
              "#0d0887"
             ],
             [
              0.1111111111111111,
              "#46039f"
             ],
             [
              0.2222222222222222,
              "#7201a8"
             ],
             [
              0.3333333333333333,
              "#9c179e"
             ],
             [
              0.4444444444444444,
              "#bd3786"
             ],
             [
              0.5555555555555556,
              "#d8576b"
             ],
             [
              0.6666666666666666,
              "#ed7953"
             ],
             [
              0.7777777777777778,
              "#fb9f3a"
             ],
             [
              0.8888888888888888,
              "#fdca26"
             ],
             [
              1,
              "#f0f921"
             ]
            ],
            "type": "surface"
           }
          ],
          "table": [
           {
            "cells": {
             "fill": {
              "color": "#EBF0F8"
             },
             "line": {
              "color": "white"
             }
            },
            "header": {
             "fill": {
              "color": "#C8D4E3"
             },
             "line": {
              "color": "white"
             }
            },
            "type": "table"
           }
          ]
         },
         "layout": {
          "annotationdefaults": {
           "arrowcolor": "#2a3f5f",
           "arrowhead": 0,
           "arrowwidth": 1
          },
          "autotypenumbers": "strict",
          "coloraxis": {
           "colorbar": {
            "outlinewidth": 0,
            "ticks": ""
           }
          },
          "colorscale": {
           "diverging": [
            [
             0,
             "#8e0152"
            ],
            [
             0.1,
             "#c51b7d"
            ],
            [
             0.2,
             "#de77ae"
            ],
            [
             0.3,
             "#f1b6da"
            ],
            [
             0.4,
             "#fde0ef"
            ],
            [
             0.5,
             "#f7f7f7"
            ],
            [
             0.6,
             "#e6f5d0"
            ],
            [
             0.7,
             "#b8e186"
            ],
            [
             0.8,
             "#7fbc41"
            ],
            [
             0.9,
             "#4d9221"
            ],
            [
             1,
             "#276419"
            ]
           ],
           "sequential": [
            [
             0,
             "#0d0887"
            ],
            [
             0.1111111111111111,
             "#46039f"
            ],
            [
             0.2222222222222222,
             "#7201a8"
            ],
            [
             0.3333333333333333,
             "#9c179e"
            ],
            [
             0.4444444444444444,
             "#bd3786"
            ],
            [
             0.5555555555555556,
             "#d8576b"
            ],
            [
             0.6666666666666666,
             "#ed7953"
            ],
            [
             0.7777777777777778,
             "#fb9f3a"
            ],
            [
             0.8888888888888888,
             "#fdca26"
            ],
            [
             1,
             "#f0f921"
            ]
           ],
           "sequentialminus": [
            [
             0,
             "#0d0887"
            ],
            [
             0.1111111111111111,
             "#46039f"
            ],
            [
             0.2222222222222222,
             "#7201a8"
            ],
            [
             0.3333333333333333,
             "#9c179e"
            ],
            [
             0.4444444444444444,
             "#bd3786"
            ],
            [
             0.5555555555555556,
             "#d8576b"
            ],
            [
             0.6666666666666666,
             "#ed7953"
            ],
            [
             0.7777777777777778,
             "#fb9f3a"
            ],
            [
             0.8888888888888888,
             "#fdca26"
            ],
            [
             1,
             "#f0f921"
            ]
           ]
          },
          "colorway": [
           "#636efa",
           "#EF553B",
           "#00cc96",
           "#ab63fa",
           "#FFA15A",
           "#19d3f3",
           "#FF6692",
           "#B6E880",
           "#FF97FF",
           "#FECB52"
          ],
          "font": {
           "color": "#2a3f5f"
          },
          "geo": {
           "bgcolor": "white",
           "lakecolor": "white",
           "landcolor": "#E5ECF6",
           "showlakes": true,
           "showland": true,
           "subunitcolor": "white"
          },
          "hoverlabel": {
           "align": "left"
          },
          "hovermode": "closest",
          "mapbox": {
           "style": "light"
          },
          "paper_bgcolor": "white",
          "plot_bgcolor": "#E5ECF6",
          "polar": {
           "angularaxis": {
            "gridcolor": "white",
            "linecolor": "white",
            "ticks": ""
           },
           "bgcolor": "#E5ECF6",
           "radialaxis": {
            "gridcolor": "white",
            "linecolor": "white",
            "ticks": ""
           }
          },
          "scene": {
           "xaxis": {
            "backgroundcolor": "#E5ECF6",
            "gridcolor": "white",
            "gridwidth": 2,
            "linecolor": "white",
            "showbackground": true,
            "ticks": "",
            "zerolinecolor": "white"
           },
           "yaxis": {
            "backgroundcolor": "#E5ECF6",
            "gridcolor": "white",
            "gridwidth": 2,
            "linecolor": "white",
            "showbackground": true,
            "ticks": "",
            "zerolinecolor": "white"
           },
           "zaxis": {
            "backgroundcolor": "#E5ECF6",
            "gridcolor": "white",
            "gridwidth": 2,
            "linecolor": "white",
            "showbackground": true,
            "ticks": "",
            "zerolinecolor": "white"
           }
          },
          "shapedefaults": {
           "line": {
            "color": "#2a3f5f"
           }
          },
          "ternary": {
           "aaxis": {
            "gridcolor": "white",
            "linecolor": "white",
            "ticks": ""
           },
           "baxis": {
            "gridcolor": "white",
            "linecolor": "white",
            "ticks": ""
           },
           "bgcolor": "#E5ECF6",
           "caxis": {
            "gridcolor": "white",
            "linecolor": "white",
            "ticks": ""
           }
          },
          "title": {
           "x": 0.05
          },
          "xaxis": {
           "automargin": true,
           "gridcolor": "white",
           "linecolor": "white",
           "ticks": "",
           "title": {
            "standoff": 15
           },
           "zerolinecolor": "white",
           "zerolinewidth": 2
          },
          "yaxis": {
           "automargin": true,
           "gridcolor": "white",
           "linecolor": "white",
           "ticks": "",
           "title": {
            "standoff": 15
           },
           "zerolinecolor": "white",
           "zerolinewidth": 2
          }
         }
        },
        "title": {
         "text": "Histogram of Radio"
        },
        "width": 600,
        "xaxis": {
         "anchor": "y",
         "domain": [
          0,
          1
         ],
         "title": {
          "text": "Radio"
         }
        },
        "xaxis2": {
         "anchor": "y2",
         "domain": [
          0,
          1
         ],
         "matches": "x",
         "showgrid": true,
         "showticklabels": false
        },
        "yaxis": {
         "anchor": "x",
         "domain": [
          0,
          0.8316
         ],
         "title": {
          "text": "count"
         }
        },
        "yaxis2": {
         "anchor": "x2",
         "domain": [
          0.8416,
          1
         ],
         "matches": "y2",
         "showgrid": false,
         "showline": false,
         "showticklabels": false,
         "ticks": ""
        }
       }
      }
     },
     "metadata": {},
     "output_type": "display_data"
    },
    {
     "data": {
      "application/vnd.plotly.v1+json": {
       "config": {
        "plotlyServerURL": "https://plot.ly"
       },
       "data": [
        {
         "bingroup": "x",
         "hovertemplate": "Newspaper=%{x}<br>count=%{y}<extra></extra>",
         "legendgroup": "",
         "marker": {
          "color": "#636efa",
          "pattern": {
           "shape": ""
          }
         },
         "name": "",
         "orientation": "v",
         "showlegend": false,
         "type": "histogram",
         "x": {
          "bdata": "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",
          "dtype": "f8"
         },
         "xaxis": "x",
         "yaxis": "y"
        },
        {
         "hovertemplate": "Newspaper=%{x}<extra></extra>",
         "legendgroup": "",
         "marker": {
          "color": "#636efa"
         },
         "name": "",
         "notched": true,
         "showlegend": false,
         "type": "box",
         "x": {
          "bdata": "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",
          "dtype": "f8"
         },
         "xaxis": "x2",
         "yaxis": "y2"
        }
       ],
       "layout": {
        "barmode": "relative",
        "height": 400,
        "legend": {
         "tracegroupgap": 0
        },
        "template": {
         "data": {
          "bar": [
           {
            "error_x": {
             "color": "#2a3f5f"
            },
            "error_y": {
             "color": "#2a3f5f"
            },
            "marker": {
             "line": {
              "color": "#E5ECF6",
              "width": 0.5
             },
             "pattern": {
              "fillmode": "overlay",
              "size": 10,
              "solidity": 0.2
             }
            },
            "type": "bar"
           }
          ],
          "barpolar": [
           {
            "marker": {
             "line": {
              "color": "#E5ECF6",
              "width": 0.5
             },
             "pattern": {
              "fillmode": "overlay",
              "size": 10,
              "solidity": 0.2
             }
            },
            "type": "barpolar"
           }
          ],
          "carpet": [
           {
            "aaxis": {
             "endlinecolor": "#2a3f5f",
             "gridcolor": "white",
             "linecolor": "white",
             "minorgridcolor": "white",
             "startlinecolor": "#2a3f5f"
            },
            "baxis": {
             "endlinecolor": "#2a3f5f",
             "gridcolor": "white",
             "linecolor": "white",
             "minorgridcolor": "white",
             "startlinecolor": "#2a3f5f"
            },
            "type": "carpet"
           }
          ],
          "choropleth": [
           {
            "colorbar": {
             "outlinewidth": 0,
             "ticks": ""
            },
            "type": "choropleth"
           }
          ],
          "contour": [
           {
            "colorbar": {
             "outlinewidth": 0,
             "ticks": ""
            },
            "colorscale": [
             [
              0,
              "#0d0887"
             ],
             [
              0.1111111111111111,
              "#46039f"
             ],
             [
              0.2222222222222222,
              "#7201a8"
             ],
             [
              0.3333333333333333,
              "#9c179e"
             ],
             [
              0.4444444444444444,
              "#bd3786"
             ],
             [
              0.5555555555555556,
              "#d8576b"
             ],
             [
              0.6666666666666666,
              "#ed7953"
             ],
             [
              0.7777777777777778,
              "#fb9f3a"
             ],
             [
              0.8888888888888888,
              "#fdca26"
             ],
             [
              1,
              "#f0f921"
             ]
            ],
            "type": "contour"
           }
          ],
          "contourcarpet": [
           {
            "colorbar": {
             "outlinewidth": 0,
             "ticks": ""
            },
            "type": "contourcarpet"
           }
          ],
          "heatmap": [
           {
            "colorbar": {
             "outlinewidth": 0,
             "ticks": ""
            },
            "colorscale": [
             [
              0,
              "#0d0887"
             ],
             [
              0.1111111111111111,
              "#46039f"
             ],
             [
              0.2222222222222222,
              "#7201a8"
             ],
             [
              0.3333333333333333,
              "#9c179e"
             ],
             [
              0.4444444444444444,
              "#bd3786"
             ],
             [
              0.5555555555555556,
              "#d8576b"
             ],
             [
              0.6666666666666666,
              "#ed7953"
             ],
             [
              0.7777777777777778,
              "#fb9f3a"
             ],
             [
              0.8888888888888888,
              "#fdca26"
             ],
             [
              1,
              "#f0f921"
             ]
            ],
            "type": "heatmap"
           }
          ],
          "histogram": [
           {
            "marker": {
             "pattern": {
              "fillmode": "overlay",
              "size": 10,
              "solidity": 0.2
             }
            },
            "type": "histogram"
           }
          ],
          "histogram2d": [
           {
            "colorbar": {
             "outlinewidth": 0,
             "ticks": ""
            },
            "colorscale": [
             [
              0,
              "#0d0887"
             ],
             [
              0.1111111111111111,
              "#46039f"
             ],
             [
              0.2222222222222222,
              "#7201a8"
             ],
             [
              0.3333333333333333,
              "#9c179e"
             ],
             [
              0.4444444444444444,
              "#bd3786"
             ],
             [
              0.5555555555555556,
              "#d8576b"
             ],
             [
              0.6666666666666666,
              "#ed7953"
             ],
             [
              0.7777777777777778,
              "#fb9f3a"
             ],
             [
              0.8888888888888888,
              "#fdca26"
             ],
             [
              1,
              "#f0f921"
             ]
            ],
            "type": "histogram2d"
           }
          ],
          "histogram2dcontour": [
           {
            "colorbar": {
             "outlinewidth": 0,
             "ticks": ""
            },
            "colorscale": [
             [
              0,
              "#0d0887"
             ],
             [
              0.1111111111111111,
              "#46039f"
             ],
             [
              0.2222222222222222,
              "#7201a8"
             ],
             [
              0.3333333333333333,
              "#9c179e"
             ],
             [
              0.4444444444444444,
              "#bd3786"
             ],
             [
              0.5555555555555556,
              "#d8576b"
             ],
             [
              0.6666666666666666,
              "#ed7953"
             ],
             [
              0.7777777777777778,
              "#fb9f3a"
             ],
             [
              0.8888888888888888,
              "#fdca26"
             ],
             [
              1,
              "#f0f921"
             ]
            ],
            "type": "histogram2dcontour"
           }
          ],
          "mesh3d": [
           {
            "colorbar": {
             "outlinewidth": 0,
             "ticks": ""
            },
            "type": "mesh3d"
           }
          ],
          "parcoords": [
           {
            "line": {
             "colorbar": {
              "outlinewidth": 0,
              "ticks": ""
             }
            },
            "type": "parcoords"
           }
          ],
          "pie": [
           {
            "automargin": true,
            "type": "pie"
           }
          ],
          "scatter": [
           {
            "fillpattern": {
             "fillmode": "overlay",
             "size": 10,
             "solidity": 0.2
            },
            "type": "scatter"
           }
          ],
          "scatter3d": [
           {
            "line": {
             "colorbar": {
              "outlinewidth": 0,
              "ticks": ""
             }
            },
            "marker": {
             "colorbar": {
              "outlinewidth": 0,
              "ticks": ""
             }
            },
            "type": "scatter3d"
           }
          ],
          "scattercarpet": [
           {
            "marker": {
             "colorbar": {
              "outlinewidth": 0,
              "ticks": ""
             }
            },
            "type": "scattercarpet"
           }
          ],
          "scattergeo": [
           {
            "marker": {
             "colorbar": {
              "outlinewidth": 0,
              "ticks": ""
             }
            },
            "type": "scattergeo"
           }
          ],
          "scattergl": [
           {
            "marker": {
             "colorbar": {
              "outlinewidth": 0,
              "ticks": ""
             }
            },
            "type": "scattergl"
           }
          ],
          "scattermap": [
           {
            "marker": {
             "colorbar": {
              "outlinewidth": 0,
              "ticks": ""
             }
            },
            "type": "scattermap"
           }
          ],
          "scattermapbox": [
           {
            "marker": {
             "colorbar": {
              "outlinewidth": 0,
              "ticks": ""
             }
            },
            "type": "scattermapbox"
           }
          ],
          "scatterpolar": [
           {
            "marker": {
             "colorbar": {
              "outlinewidth": 0,
              "ticks": ""
             }
            },
            "type": "scatterpolar"
           }
          ],
          "scatterpolargl": [
           {
            "marker": {
             "colorbar": {
              "outlinewidth": 0,
              "ticks": ""
             }
            },
            "type": "scatterpolargl"
           }
          ],
          "scatterternary": [
           {
            "marker": {
             "colorbar": {
              "outlinewidth": 0,
              "ticks": ""
             }
            },
            "type": "scatterternary"
           }
          ],
          "surface": [
           {
            "colorbar": {
             "outlinewidth": 0,
             "ticks": ""
            },
            "colorscale": [
             [
              0,
              "#0d0887"
             ],
             [
              0.1111111111111111,
              "#46039f"
             ],
             [
              0.2222222222222222,
              "#7201a8"
             ],
             [
              0.3333333333333333,
              "#9c179e"
             ],
             [
              0.4444444444444444,
              "#bd3786"
             ],
             [
              0.5555555555555556,
              "#d8576b"
             ],
             [
              0.6666666666666666,
              "#ed7953"
             ],
             [
              0.7777777777777778,
              "#fb9f3a"
             ],
             [
              0.8888888888888888,
              "#fdca26"
             ],
             [
              1,
              "#f0f921"
             ]
            ],
            "type": "surface"
           }
          ],
          "table": [
           {
            "cells": {
             "fill": {
              "color": "#EBF0F8"
             },
             "line": {
              "color": "white"
             }
            },
            "header": {
             "fill": {
              "color": "#C8D4E3"
             },
             "line": {
              "color": "white"
             }
            },
            "type": "table"
           }
          ]
         },
         "layout": {
          "annotationdefaults": {
           "arrowcolor": "#2a3f5f",
           "arrowhead": 0,
           "arrowwidth": 1
          },
          "autotypenumbers": "strict",
          "coloraxis": {
           "colorbar": {
            "outlinewidth": 0,
            "ticks": ""
           }
          },
          "colorscale": {
           "diverging": [
            [
             0,
             "#8e0152"
            ],
            [
             0.1,
             "#c51b7d"
            ],
            [
             0.2,
             "#de77ae"
            ],
            [
             0.3,
             "#f1b6da"
            ],
            [
             0.4,
             "#fde0ef"
            ],
            [
             0.5,
             "#f7f7f7"
            ],
            [
             0.6,
             "#e6f5d0"
            ],
            [
             0.7,
             "#b8e186"
            ],
            [
             0.8,
             "#7fbc41"
            ],
            [
             0.9,
             "#4d9221"
            ],
            [
             1,
             "#276419"
            ]
           ],
           "sequential": [
            [
             0,
             "#0d0887"
            ],
            [
             0.1111111111111111,
             "#46039f"
            ],
            [
             0.2222222222222222,
             "#7201a8"
            ],
            [
             0.3333333333333333,
             "#9c179e"
            ],
            [
             0.4444444444444444,
             "#bd3786"
            ],
            [
             0.5555555555555556,
             "#d8576b"
            ],
            [
             0.6666666666666666,
             "#ed7953"
            ],
            [
             0.7777777777777778,
             "#fb9f3a"
            ],
            [
             0.8888888888888888,
             "#fdca26"
            ],
            [
             1,
             "#f0f921"
            ]
           ],
           "sequentialminus": [
            [
             0,
             "#0d0887"
            ],
            [
             0.1111111111111111,
             "#46039f"
            ],
            [
             0.2222222222222222,
             "#7201a8"
            ],
            [
             0.3333333333333333,
             "#9c179e"
            ],
            [
             0.4444444444444444,
             "#bd3786"
            ],
            [
             0.5555555555555556,
             "#d8576b"
            ],
            [
             0.6666666666666666,
             "#ed7953"
            ],
            [
             0.7777777777777778,
             "#fb9f3a"
            ],
            [
             0.8888888888888888,
             "#fdca26"
            ],
            [
             1,
             "#f0f921"
            ]
           ]
          },
          "colorway": [
           "#636efa",
           "#EF553B",
           "#00cc96",
           "#ab63fa",
           "#FFA15A",
           "#19d3f3",
           "#FF6692",
           "#B6E880",
           "#FF97FF",
           "#FECB52"
          ],
          "font": {
           "color": "#2a3f5f"
          },
          "geo": {
           "bgcolor": "white",
           "lakecolor": "white",
           "landcolor": "#E5ECF6",
           "showlakes": true,
           "showland": true,
           "subunitcolor": "white"
          },
          "hoverlabel": {
           "align": "left"
          },
          "hovermode": "closest",
          "mapbox": {
           "style": "light"
          },
          "paper_bgcolor": "white",
          "plot_bgcolor": "#E5ECF6",
          "polar": {
           "angularaxis": {
            "gridcolor": "white",
            "linecolor": "white",
            "ticks": ""
           },
           "bgcolor": "#E5ECF6",
           "radialaxis": {
            "gridcolor": "white",
            "linecolor": "white",
            "ticks": ""
           }
          },
          "scene": {
           "xaxis": {
            "backgroundcolor": "#E5ECF6",
            "gridcolor": "white",
            "gridwidth": 2,
            "linecolor": "white",
            "showbackground": true,
            "ticks": "",
            "zerolinecolor": "white"
           },
           "yaxis": {
            "backgroundcolor": "#E5ECF6",
            "gridcolor": "white",
            "gridwidth": 2,
            "linecolor": "white",
            "showbackground": true,
            "ticks": "",
            "zerolinecolor": "white"
           },
           "zaxis": {
            "backgroundcolor": "#E5ECF6",
            "gridcolor": "white",
            "gridwidth": 2,
            "linecolor": "white",
            "showbackground": true,
            "ticks": "",
            "zerolinecolor": "white"
           }
          },
          "shapedefaults": {
           "line": {
            "color": "#2a3f5f"
           }
          },
          "ternary": {
           "aaxis": {
            "gridcolor": "white",
            "linecolor": "white",
            "ticks": ""
           },
           "baxis": {
            "gridcolor": "white",
            "linecolor": "white",
            "ticks": ""
           },
           "bgcolor": "#E5ECF6",
           "caxis": {
            "gridcolor": "white",
            "linecolor": "white",
            "ticks": ""
           }
          },
          "title": {
           "x": 0.05
          },
          "xaxis": {
           "automargin": true,
           "gridcolor": "white",
           "linecolor": "white",
           "ticks": "",
           "title": {
            "standoff": 15
           },
           "zerolinecolor": "white",
           "zerolinewidth": 2
          },
          "yaxis": {
           "automargin": true,
           "gridcolor": "white",
           "linecolor": "white",
           "ticks": "",
           "title": {
            "standoff": 15
           },
           "zerolinecolor": "white",
           "zerolinewidth": 2
          }
         }
        },
        "title": {
         "text": "Histogram of Newspaper"
        },
        "width": 600,
        "xaxis": {
         "anchor": "y",
         "domain": [
          0,
          1
         ],
         "title": {
          "text": "Newspaper"
         }
        },
        "xaxis2": {
         "anchor": "y2",
         "domain": [
          0,
          1
         ],
         "matches": "x",
         "showgrid": true,
         "showticklabels": false
        },
        "yaxis": {
         "anchor": "x",
         "domain": [
          0,
          0.8316
         ],
         "title": {
          "text": "count"
         }
        },
        "yaxis2": {
         "anchor": "x2",
         "domain": [
          0.8416,
          1
         ],
         "matches": "y2",
         "showgrid": false,
         "showline": false,
         "showticklabels": false,
         "ticks": ""
        }
       }
      }
     },
     "metadata": {},
     "output_type": "display_data"
    },
    {
     "data": {
      "application/vnd.plotly.v1+json": {
       "config": {
        "plotlyServerURL": "https://plot.ly"
       },
       "data": [
        {
         "bingroup": "x",
         "hovertemplate": "Sales=%{x}<br>count=%{y}<extra></extra>",
         "legendgroup": "",
         "marker": {
          "color": "#636efa",
          "pattern": {
           "shape": ""
          }
         },
         "name": "",
         "orientation": "v",
         "showlegend": false,
         "type": "histogram",
         "x": {
          "bdata": "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",
          "dtype": "f8"
         },
         "xaxis": "x",
         "yaxis": "y"
        },
        {
         "hovertemplate": "Sales=%{x}<extra></extra>",
         "legendgroup": "",
         "marker": {
          "color": "#636efa"
         },
         "name": "",
         "notched": true,
         "showlegend": false,
         "type": "box",
         "x": {
          "bdata": "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",
          "dtype": "f8"
         },
         "xaxis": "x2",
         "yaxis": "y2"
        }
       ],
       "layout": {
        "barmode": "relative",
        "height": 400,
        "legend": {
         "tracegroupgap": 0
        },
        "template": {
         "data": {
          "bar": [
           {
            "error_x": {
             "color": "#2a3f5f"
            },
            "error_y": {
             "color": "#2a3f5f"
            },
            "marker": {
             "line": {
              "color": "#E5ECF6",
              "width": 0.5
             },
             "pattern": {
              "fillmode": "overlay",
              "size": 10,
              "solidity": 0.2
             }
            },
            "type": "bar"
           }
          ],
          "barpolar": [
           {
            "marker": {
             "line": {
              "color": "#E5ECF6",
              "width": 0.5
             },
             "pattern": {
              "fillmode": "overlay",
              "size": 10,
              "solidity": 0.2
             }
            },
            "type": "barpolar"
           }
          ],
          "carpet": [
           {
            "aaxis": {
             "endlinecolor": "#2a3f5f",
             "gridcolor": "white",
             "linecolor": "white",
             "minorgridcolor": "white",
             "startlinecolor": "#2a3f5f"
            },
            "baxis": {
             "endlinecolor": "#2a3f5f",
             "gridcolor": "white",
             "linecolor": "white",
             "minorgridcolor": "white",
             "startlinecolor": "#2a3f5f"
            },
            "type": "carpet"
           }
          ],
          "choropleth": [
           {
            "colorbar": {
             "outlinewidth": 0,
             "ticks": ""
            },
            "type": "choropleth"
           }
          ],
          "contour": [
           {
            "colorbar": {
             "outlinewidth": 0,
             "ticks": ""
            },
            "colorscale": [
             [
              0,
              "#0d0887"
             ],
             [
              0.1111111111111111,
              "#46039f"
             ],
             [
              0.2222222222222222,
              "#7201a8"
             ],
             [
              0.3333333333333333,
              "#9c179e"
             ],
             [
              0.4444444444444444,
              "#bd3786"
             ],
             [
              0.5555555555555556,
              "#d8576b"
             ],
             [
              0.6666666666666666,
              "#ed7953"
             ],
             [
              0.7777777777777778,
              "#fb9f3a"
             ],
             [
              0.8888888888888888,
              "#fdca26"
             ],
             [
              1,
              "#f0f921"
             ]
            ],
            "type": "contour"
           }
          ],
          "contourcarpet": [
           {
            "colorbar": {
             "outlinewidth": 0,
             "ticks": ""
            },
            "type": "contourcarpet"
           }
          ],
          "heatmap": [
           {
            "colorbar": {
             "outlinewidth": 0,
             "ticks": ""
            },
            "colorscale": [
             [
              0,
              "#0d0887"
             ],
             [
              0.1111111111111111,
              "#46039f"
             ],
             [
              0.2222222222222222,
              "#7201a8"
             ],
             [
              0.3333333333333333,
              "#9c179e"
             ],
             [
              0.4444444444444444,
              "#bd3786"
             ],
             [
              0.5555555555555556,
              "#d8576b"
             ],
             [
              0.6666666666666666,
              "#ed7953"
             ],
             [
              0.7777777777777778,
              "#fb9f3a"
             ],
             [
              0.8888888888888888,
              "#fdca26"
             ],
             [
              1,
              "#f0f921"
             ]
            ],
            "type": "heatmap"
           }
          ],
          "histogram": [
           {
            "marker": {
             "pattern": {
              "fillmode": "overlay",
              "size": 10,
              "solidity": 0.2
             }
            },
            "type": "histogram"
           }
          ],
          "histogram2d": [
           {
            "colorbar": {
             "outlinewidth": 0,
             "ticks": ""
            },
            "colorscale": [
             [
              0,
              "#0d0887"
             ],
             [
              0.1111111111111111,
              "#46039f"
             ],
             [
              0.2222222222222222,
              "#7201a8"
             ],
             [
              0.3333333333333333,
              "#9c179e"
             ],
             [
              0.4444444444444444,
              "#bd3786"
             ],
             [
              0.5555555555555556,
              "#d8576b"
             ],
             [
              0.6666666666666666,
              "#ed7953"
             ],
             [
              0.7777777777777778,
              "#fb9f3a"
             ],
             [
              0.8888888888888888,
              "#fdca26"
             ],
             [
              1,
              "#f0f921"
             ]
            ],
            "type": "histogram2d"
           }
          ],
          "histogram2dcontour": [
           {
            "colorbar": {
             "outlinewidth": 0,
             "ticks": ""
            },
            "colorscale": [
             [
              0,
              "#0d0887"
             ],
             [
              0.1111111111111111,
              "#46039f"
             ],
             [
              0.2222222222222222,
              "#7201a8"
             ],
             [
              0.3333333333333333,
              "#9c179e"
             ],
             [
              0.4444444444444444,
              "#bd3786"
             ],
             [
              0.5555555555555556,
              "#d8576b"
             ],
             [
              0.6666666666666666,
              "#ed7953"
             ],
             [
              0.7777777777777778,
              "#fb9f3a"
             ],
             [
              0.8888888888888888,
              "#fdca26"
             ],
             [
              1,
              "#f0f921"
             ]
            ],
            "type": "histogram2dcontour"
           }
          ],
          "mesh3d": [
           {
            "colorbar": {
             "outlinewidth": 0,
             "ticks": ""
            },
            "type": "mesh3d"
           }
          ],
          "parcoords": [
           {
            "line": {
             "colorbar": {
              "outlinewidth": 0,
              "ticks": ""
             }
            },
            "type": "parcoords"
           }
          ],
          "pie": [
           {
            "automargin": true,
            "type": "pie"
           }
          ],
          "scatter": [
           {
            "fillpattern": {
             "fillmode": "overlay",
             "size": 10,
             "solidity": 0.2
            },
            "type": "scatter"
           }
          ],
          "scatter3d": [
           {
            "line": {
             "colorbar": {
              "outlinewidth": 0,
              "ticks": ""
             }
            },
            "marker": {
             "colorbar": {
              "outlinewidth": 0,
              "ticks": ""
             }
            },
            "type": "scatter3d"
           }
          ],
          "scattercarpet": [
           {
            "marker": {
             "colorbar": {
              "outlinewidth": 0,
              "ticks": ""
             }
            },
            "type": "scattercarpet"
           }
          ],
          "scattergeo": [
           {
            "marker": {
             "colorbar": {
              "outlinewidth": 0,
              "ticks": ""
             }
            },
            "type": "scattergeo"
           }
          ],
          "scattergl": [
           {
            "marker": {
             "colorbar": {
              "outlinewidth": 0,
              "ticks": ""
             }
            },
            "type": "scattergl"
           }
          ],
          "scattermap": [
           {
            "marker": {
             "colorbar": {
              "outlinewidth": 0,
              "ticks": ""
             }
            },
            "type": "scattermap"
           }
          ],
          "scattermapbox": [
           {
            "marker": {
             "colorbar": {
              "outlinewidth": 0,
              "ticks": ""
             }
            },
            "type": "scattermapbox"
           }
          ],
          "scatterpolar": [
           {
            "marker": {
             "colorbar": {
              "outlinewidth": 0,
              "ticks": ""
             }
            },
            "type": "scatterpolar"
           }
          ],
          "scatterpolargl": [
           {
            "marker": {
             "colorbar": {
              "outlinewidth": 0,
              "ticks": ""
             }
            },
            "type": "scatterpolargl"
           }
          ],
          "scatterternary": [
           {
            "marker": {
             "colorbar": {
              "outlinewidth": 0,
              "ticks": ""
             }
            },
            "type": "scatterternary"
           }
          ],
          "surface": [
           {
            "colorbar": {
             "outlinewidth": 0,
             "ticks": ""
            },
            "colorscale": [
             [
              0,
              "#0d0887"
             ],
             [
              0.1111111111111111,
              "#46039f"
             ],
             [
              0.2222222222222222,
              "#7201a8"
             ],
             [
              0.3333333333333333,
              "#9c179e"
             ],
             [
              0.4444444444444444,
              "#bd3786"
             ],
             [
              0.5555555555555556,
              "#d8576b"
             ],
             [
              0.6666666666666666,
              "#ed7953"
             ],
             [
              0.7777777777777778,
              "#fb9f3a"
             ],
             [
              0.8888888888888888,
              "#fdca26"
             ],
             [
              1,
              "#f0f921"
             ]
            ],
            "type": "surface"
           }
          ],
          "table": [
           {
            "cells": {
             "fill": {
              "color": "#EBF0F8"
             },
             "line": {
              "color": "white"
             }
            },
            "header": {
             "fill": {
              "color": "#C8D4E3"
             },
             "line": {
              "color": "white"
             }
            },
            "type": "table"
           }
          ]
         },
         "layout": {
          "annotationdefaults": {
           "arrowcolor": "#2a3f5f",
           "arrowhead": 0,
           "arrowwidth": 1
          },
          "autotypenumbers": "strict",
          "coloraxis": {
           "colorbar": {
            "outlinewidth": 0,
            "ticks": ""
           }
          },
          "colorscale": {
           "diverging": [
            [
             0,
             "#8e0152"
            ],
            [
             0.1,
             "#c51b7d"
            ],
            [
             0.2,
             "#de77ae"
            ],
            [
             0.3,
             "#f1b6da"
            ],
            [
             0.4,
             "#fde0ef"
            ],
            [
             0.5,
             "#f7f7f7"
            ],
            [
             0.6,
             "#e6f5d0"
            ],
            [
             0.7,
             "#b8e186"
            ],
            [
             0.8,
             "#7fbc41"
            ],
            [
             0.9,
             "#4d9221"
            ],
            [
             1,
             "#276419"
            ]
           ],
           "sequential": [
            [
             0,
             "#0d0887"
            ],
            [
             0.1111111111111111,
             "#46039f"
            ],
            [
             0.2222222222222222,
             "#7201a8"
            ],
            [
             0.3333333333333333,
             "#9c179e"
            ],
            [
             0.4444444444444444,
             "#bd3786"
            ],
            [
             0.5555555555555556,
             "#d8576b"
            ],
            [
             0.6666666666666666,
             "#ed7953"
            ],
            [
             0.7777777777777778,
             "#fb9f3a"
            ],
            [
             0.8888888888888888,
             "#fdca26"
            ],
            [
             1,
             "#f0f921"
            ]
           ],
           "sequentialminus": [
            [
             0,
             "#0d0887"
            ],
            [
             0.1111111111111111,
             "#46039f"
            ],
            [
             0.2222222222222222,
             "#7201a8"
            ],
            [
             0.3333333333333333,
             "#9c179e"
            ],
            [
             0.4444444444444444,
             "#bd3786"
            ],
            [
             0.5555555555555556,
             "#d8576b"
            ],
            [
             0.6666666666666666,
             "#ed7953"
            ],
            [
             0.7777777777777778,
             "#fb9f3a"
            ],
            [
             0.8888888888888888,
             "#fdca26"
            ],
            [
             1,
             "#f0f921"
            ]
           ]
          },
          "colorway": [
           "#636efa",
           "#EF553B",
           "#00cc96",
           "#ab63fa",
           "#FFA15A",
           "#19d3f3",
           "#FF6692",
           "#B6E880",
           "#FF97FF",
           "#FECB52"
          ],
          "font": {
           "color": "#2a3f5f"
          },
          "geo": {
           "bgcolor": "white",
           "lakecolor": "white",
           "landcolor": "#E5ECF6",
           "showlakes": true,
           "showland": true,
           "subunitcolor": "white"
          },
          "hoverlabel": {
           "align": "left"
          },
          "hovermode": "closest",
          "mapbox": {
           "style": "light"
          },
          "paper_bgcolor": "white",
          "plot_bgcolor": "#E5ECF6",
          "polar": {
           "angularaxis": {
            "gridcolor": "white",
            "linecolor": "white",
            "ticks": ""
           },
           "bgcolor": "#E5ECF6",
           "radialaxis": {
            "gridcolor": "white",
            "linecolor": "white",
            "ticks": ""
           }
          },
          "scene": {
           "xaxis": {
            "backgroundcolor": "#E5ECF6",
            "gridcolor": "white",
            "gridwidth": 2,
            "linecolor": "white",
            "showbackground": true,
            "ticks": "",
            "zerolinecolor": "white"
           },
           "yaxis": {
            "backgroundcolor": "#E5ECF6",
            "gridcolor": "white",
            "gridwidth": 2,
            "linecolor": "white",
            "showbackground": true,
            "ticks": "",
            "zerolinecolor": "white"
           },
           "zaxis": {
            "backgroundcolor": "#E5ECF6",
            "gridcolor": "white",
            "gridwidth": 2,
            "linecolor": "white",
            "showbackground": true,
            "ticks": "",
            "zerolinecolor": "white"
           }
          },
          "shapedefaults": {
           "line": {
            "color": "#2a3f5f"
           }
          },
          "ternary": {
           "aaxis": {
            "gridcolor": "white",
            "linecolor": "white",
            "ticks": ""
           },
           "baxis": {
            "gridcolor": "white",
            "linecolor": "white",
            "ticks": ""
           },
           "bgcolor": "#E5ECF6",
           "caxis": {
            "gridcolor": "white",
            "linecolor": "white",
            "ticks": ""
           }
          },
          "title": {
           "x": 0.05
          },
          "xaxis": {
           "automargin": true,
           "gridcolor": "white",
           "linecolor": "white",
           "ticks": "",
           "title": {
            "standoff": 15
           },
           "zerolinecolor": "white",
           "zerolinewidth": 2
          },
          "yaxis": {
           "automargin": true,
           "gridcolor": "white",
           "linecolor": "white",
           "ticks": "",
           "title": {
            "standoff": 15
           },
           "zerolinecolor": "white",
           "zerolinewidth": 2
          }
         }
        },
        "title": {
         "text": "Histogram of Sales"
        },
        "width": 600,
        "xaxis": {
         "anchor": "y",
         "domain": [
          0,
          1
         ],
         "title": {
          "text": "Sales"
         }
        },
        "xaxis2": {
         "anchor": "y2",
         "domain": [
          0,
          1
         ],
         "matches": "x",
         "showgrid": true,
         "showticklabels": false
        },
        "yaxis": {
         "anchor": "x",
         "domain": [
          0,
          0.8316
         ],
         "title": {
          "text": "count"
         }
        },
        "yaxis2": {
         "anchor": "x2",
         "domain": [
          0.8416,
          1
         ],
         "matches": "y2",
         "showgrid": false,
         "showline": false,
         "showticklabels": false,
         "ticks": ""
        }
       }
      }
     },
     "metadata": {},
     "output_type": "display_data"
    }
   ],
   "source": [
    "import plotly.express as px\n",
    "\n",
    "for col in cols:\n",
    "    hist_fig = px.histogram(df, x = col, title = f'Histogram of {col}', marginal = 'box')\n",
    "    hist_fig.update_layout(height = 400, width = 600)\n",
    "    hist_fig.show()"
   ]
  },
  {
   "cell_type": "code",
   "execution_count": 11,
   "metadata": {},
   "outputs": [],
   "source": [
    "# define features and target\n",
    "X = df[['TV', 'Radio', 'Newspaper']]\n",
    "y = df['Sales']"
   ]
  },
  {
   "cell_type": "code",
   "execution_count": 12,
   "metadata": {},
   "outputs": [],
   "source": [
    "# split data into train and test\n",
    "X_train, X_test, y_train, y_test = train_test_split(X, y, test_size = 0.2, random_state = 42)"
   ]
  },
  {
   "cell_type": "code",
   "execution_count": 13,
   "metadata": {},
   "outputs": [],
   "source": [
    "# Evaluate the model using Linear Regression\n",
    "linear_model = LinearRegression()\n",
    "linear_model.fit(X_train, y_train)\n",
    "y_pred_linear = linear_model.predict(X_test)"
   ]
  },
  {
   "cell_type": "code",
   "execution_count": 14,
   "metadata": {},
   "outputs": [
    {
     "name": "stdout",
     "output_type": "stream",
     "text": [
      "Mean Squared Error: 3.174097353976104\n",
      "R2 Score: 0.899438024100912\n"
     ]
    }
   ],
   "source": [
    "# evaluate the model using metrics like R2, MSE, MAE\n",
    "\n",
    "mse_linear = mean_squared_error(y_test, y_pred_linear)\n",
    "r2_linear = r2_score(y_test, y_pred_linear)\n",
    "\n",
    "print(f'Mean Squared Error: {mse_linear}')\n",
    "print(f'R2 Score: {r2_linear}')"
   ]
  },
  {
   "cell_type": "code",
   "execution_count": 15,
   "metadata": {},
   "outputs": [],
   "source": [
    "# Evaluate the model using Polynomial Regression\n",
    "\n",
    "# define the degree of polynomial\n",
    "degree = 3"
   ]
  },
  {
   "cell_type": "code",
   "execution_count": 16,
   "metadata": {},
   "outputs": [],
   "source": [
    "# transform features into polynomial features\n",
    "poly = PolynomialFeatures(degree = degree)\n",
    "X_poly_train = poly.fit_transform(X_train) # transform the training data\n",
    "X_poly_test = poly.transform(X_test) # transform the testing data into polynomial equation of degree = 3"
   ]
  },
  {
   "cell_type": "code",
   "execution_count": 17,
   "metadata": {},
   "outputs": [
    {
     "data": {
      "text/html": [
       "<style>#sk-container-id-1 {\n",
       "  /* Definition of color scheme common for light and dark mode */\n",
       "  --sklearn-color-text: #000;\n",
       "  --sklearn-color-text-muted: #666;\n",
       "  --sklearn-color-line: gray;\n",
       "  /* Definition of color scheme for unfitted estimators */\n",
       "  --sklearn-color-unfitted-level-0: #fff5e6;\n",
       "  --sklearn-color-unfitted-level-1: #f6e4d2;\n",
       "  --sklearn-color-unfitted-level-2: #ffe0b3;\n",
       "  --sklearn-color-unfitted-level-3: chocolate;\n",
       "  /* Definition of color scheme for fitted estimators */\n",
       "  --sklearn-color-fitted-level-0: #f0f8ff;\n",
       "  --sklearn-color-fitted-level-1: #d4ebff;\n",
       "  --sklearn-color-fitted-level-2: #b3dbfd;\n",
       "  --sklearn-color-fitted-level-3: cornflowerblue;\n",
       "\n",
       "  /* Specific color for light theme */\n",
       "  --sklearn-color-text-on-default-background: var(--sg-text-color, var(--theme-code-foreground, var(--jp-content-font-color1, black)));\n",
       "  --sklearn-color-background: var(--sg-background-color, var(--theme-background, var(--jp-layout-color0, white)));\n",
       "  --sklearn-color-border-box: var(--sg-text-color, var(--theme-code-foreground, var(--jp-content-font-color1, black)));\n",
       "  --sklearn-color-icon: #696969;\n",
       "\n",
       "  @media (prefers-color-scheme: dark) {\n",
       "    /* Redefinition of color scheme for dark theme */\n",
       "    --sklearn-color-text-on-default-background: var(--sg-text-color, var(--theme-code-foreground, var(--jp-content-font-color1, white)));\n",
       "    --sklearn-color-background: var(--sg-background-color, var(--theme-background, var(--jp-layout-color0, #111)));\n",
       "    --sklearn-color-border-box: var(--sg-text-color, var(--theme-code-foreground, var(--jp-content-font-color1, white)));\n",
       "    --sklearn-color-icon: #878787;\n",
       "  }\n",
       "}\n",
       "\n",
       "#sk-container-id-1 {\n",
       "  color: var(--sklearn-color-text);\n",
       "}\n",
       "\n",
       "#sk-container-id-1 pre {\n",
       "  padding: 0;\n",
       "}\n",
       "\n",
       "#sk-container-id-1 input.sk-hidden--visually {\n",
       "  border: 0;\n",
       "  clip: rect(1px 1px 1px 1px);\n",
       "  clip: rect(1px, 1px, 1px, 1px);\n",
       "  height: 1px;\n",
       "  margin: -1px;\n",
       "  overflow: hidden;\n",
       "  padding: 0;\n",
       "  position: absolute;\n",
       "  width: 1px;\n",
       "}\n",
       "\n",
       "#sk-container-id-1 div.sk-dashed-wrapped {\n",
       "  border: 1px dashed var(--sklearn-color-line);\n",
       "  margin: 0 0.4em 0.5em 0.4em;\n",
       "  box-sizing: border-box;\n",
       "  padding-bottom: 0.4em;\n",
       "  background-color: var(--sklearn-color-background);\n",
       "}\n",
       "\n",
       "#sk-container-id-1 div.sk-container {\n",
       "  /* jupyter's `normalize.less` sets `[hidden] { display: none; }`\n",
       "     but bootstrap.min.css set `[hidden] { display: none !important; }`\n",
       "     so we also need the `!important` here to be able to override the\n",
       "     default hidden behavior on the sphinx rendered scikit-learn.org.\n",
       "     See: https://github.com/scikit-learn/scikit-learn/issues/21755 */\n",
       "  display: inline-block !important;\n",
       "  position: relative;\n",
       "}\n",
       "\n",
       "#sk-container-id-1 div.sk-text-repr-fallback {\n",
       "  display: none;\n",
       "}\n",
       "\n",
       "div.sk-parallel-item,\n",
       "div.sk-serial,\n",
       "div.sk-item {\n",
       "  /* draw centered vertical line to link estimators */\n",
       "  background-image: linear-gradient(var(--sklearn-color-text-on-default-background), var(--sklearn-color-text-on-default-background));\n",
       "  background-size: 2px 100%;\n",
       "  background-repeat: no-repeat;\n",
       "  background-position: center center;\n",
       "}\n",
       "\n",
       "/* Parallel-specific style estimator block */\n",
       "\n",
       "#sk-container-id-1 div.sk-parallel-item::after {\n",
       "  content: \"\";\n",
       "  width: 100%;\n",
       "  border-bottom: 2px solid var(--sklearn-color-text-on-default-background);\n",
       "  flex-grow: 1;\n",
       "}\n",
       "\n",
       "#sk-container-id-1 div.sk-parallel {\n",
       "  display: flex;\n",
       "  align-items: stretch;\n",
       "  justify-content: center;\n",
       "  background-color: var(--sklearn-color-background);\n",
       "  position: relative;\n",
       "}\n",
       "\n",
       "#sk-container-id-1 div.sk-parallel-item {\n",
       "  display: flex;\n",
       "  flex-direction: column;\n",
       "}\n",
       "\n",
       "#sk-container-id-1 div.sk-parallel-item:first-child::after {\n",
       "  align-self: flex-end;\n",
       "  width: 50%;\n",
       "}\n",
       "\n",
       "#sk-container-id-1 div.sk-parallel-item:last-child::after {\n",
       "  align-self: flex-start;\n",
       "  width: 50%;\n",
       "}\n",
       "\n",
       "#sk-container-id-1 div.sk-parallel-item:only-child::after {\n",
       "  width: 0;\n",
       "}\n",
       "\n",
       "/* Serial-specific style estimator block */\n",
       "\n",
       "#sk-container-id-1 div.sk-serial {\n",
       "  display: flex;\n",
       "  flex-direction: column;\n",
       "  align-items: center;\n",
       "  background-color: var(--sklearn-color-background);\n",
       "  padding-right: 1em;\n",
       "  padding-left: 1em;\n",
       "}\n",
       "\n",
       "\n",
       "/* Toggleable style: style used for estimator/Pipeline/ColumnTransformer box that is\n",
       "clickable and can be expanded/collapsed.\n",
       "- Pipeline and ColumnTransformer use this feature and define the default style\n",
       "- Estimators will overwrite some part of the style using the `sk-estimator` class\n",
       "*/\n",
       "\n",
       "/* Pipeline and ColumnTransformer style (default) */\n",
       "\n",
       "#sk-container-id-1 div.sk-toggleable {\n",
       "  /* Default theme specific background. It is overwritten whether we have a\n",
       "  specific estimator or a Pipeline/ColumnTransformer */\n",
       "  background-color: var(--sklearn-color-background);\n",
       "}\n",
       "\n",
       "/* Toggleable label */\n",
       "#sk-container-id-1 label.sk-toggleable__label {\n",
       "  cursor: pointer;\n",
       "  display: flex;\n",
       "  width: 100%;\n",
       "  margin-bottom: 0;\n",
       "  padding: 0.5em;\n",
       "  box-sizing: border-box;\n",
       "  text-align: center;\n",
       "  align-items: start;\n",
       "  justify-content: space-between;\n",
       "  gap: 0.5em;\n",
       "}\n",
       "\n",
       "#sk-container-id-1 label.sk-toggleable__label .caption {\n",
       "  font-size: 0.6rem;\n",
       "  font-weight: lighter;\n",
       "  color: var(--sklearn-color-text-muted);\n",
       "}\n",
       "\n",
       "#sk-container-id-1 label.sk-toggleable__label-arrow:before {\n",
       "  /* Arrow on the left of the label */\n",
       "  content: \"▸\";\n",
       "  float: left;\n",
       "  margin-right: 0.25em;\n",
       "  color: var(--sklearn-color-icon);\n",
       "}\n",
       "\n",
       "#sk-container-id-1 label.sk-toggleable__label-arrow:hover:before {\n",
       "  color: var(--sklearn-color-text);\n",
       "}\n",
       "\n",
       "/* Toggleable content - dropdown */\n",
       "\n",
       "#sk-container-id-1 div.sk-toggleable__content {\n",
       "  max-height: 0;\n",
       "  max-width: 0;\n",
       "  overflow: hidden;\n",
       "  text-align: left;\n",
       "  /* unfitted */\n",
       "  background-color: var(--sklearn-color-unfitted-level-0);\n",
       "}\n",
       "\n",
       "#sk-container-id-1 div.sk-toggleable__content.fitted {\n",
       "  /* fitted */\n",
       "  background-color: var(--sklearn-color-fitted-level-0);\n",
       "}\n",
       "\n",
       "#sk-container-id-1 div.sk-toggleable__content pre {\n",
       "  margin: 0.2em;\n",
       "  border-radius: 0.25em;\n",
       "  color: var(--sklearn-color-text);\n",
       "  /* unfitted */\n",
       "  background-color: var(--sklearn-color-unfitted-level-0);\n",
       "}\n",
       "\n",
       "#sk-container-id-1 div.sk-toggleable__content.fitted pre {\n",
       "  /* unfitted */\n",
       "  background-color: var(--sklearn-color-fitted-level-0);\n",
       "}\n",
       "\n",
       "#sk-container-id-1 input.sk-toggleable__control:checked~div.sk-toggleable__content {\n",
       "  /* Expand drop-down */\n",
       "  max-height: 200px;\n",
       "  max-width: 100%;\n",
       "  overflow: auto;\n",
       "}\n",
       "\n",
       "#sk-container-id-1 input.sk-toggleable__control:checked~label.sk-toggleable__label-arrow:before {\n",
       "  content: \"▾\";\n",
       "}\n",
       "\n",
       "/* Pipeline/ColumnTransformer-specific style */\n",
       "\n",
       "#sk-container-id-1 div.sk-label input.sk-toggleable__control:checked~label.sk-toggleable__label {\n",
       "  color: var(--sklearn-color-text);\n",
       "  background-color: var(--sklearn-color-unfitted-level-2);\n",
       "}\n",
       "\n",
       "#sk-container-id-1 div.sk-label.fitted input.sk-toggleable__control:checked~label.sk-toggleable__label {\n",
       "  background-color: var(--sklearn-color-fitted-level-2);\n",
       "}\n",
       "\n",
       "/* Estimator-specific style */\n",
       "\n",
       "/* Colorize estimator box */\n",
       "#sk-container-id-1 div.sk-estimator input.sk-toggleable__control:checked~label.sk-toggleable__label {\n",
       "  /* unfitted */\n",
       "  background-color: var(--sklearn-color-unfitted-level-2);\n",
       "}\n",
       "\n",
       "#sk-container-id-1 div.sk-estimator.fitted input.sk-toggleable__control:checked~label.sk-toggleable__label {\n",
       "  /* fitted */\n",
       "  background-color: var(--sklearn-color-fitted-level-2);\n",
       "}\n",
       "\n",
       "#sk-container-id-1 div.sk-label label.sk-toggleable__label,\n",
       "#sk-container-id-1 div.sk-label label {\n",
       "  /* The background is the default theme color */\n",
       "  color: var(--sklearn-color-text-on-default-background);\n",
       "}\n",
       "\n",
       "/* On hover, darken the color of the background */\n",
       "#sk-container-id-1 div.sk-label:hover label.sk-toggleable__label {\n",
       "  color: var(--sklearn-color-text);\n",
       "  background-color: var(--sklearn-color-unfitted-level-2);\n",
       "}\n",
       "\n",
       "/* Label box, darken color on hover, fitted */\n",
       "#sk-container-id-1 div.sk-label.fitted:hover label.sk-toggleable__label.fitted {\n",
       "  color: var(--sklearn-color-text);\n",
       "  background-color: var(--sklearn-color-fitted-level-2);\n",
       "}\n",
       "\n",
       "/* Estimator label */\n",
       "\n",
       "#sk-container-id-1 div.sk-label label {\n",
       "  font-family: monospace;\n",
       "  font-weight: bold;\n",
       "  display: inline-block;\n",
       "  line-height: 1.2em;\n",
       "}\n",
       "\n",
       "#sk-container-id-1 div.sk-label-container {\n",
       "  text-align: center;\n",
       "}\n",
       "\n",
       "/* Estimator-specific */\n",
       "#sk-container-id-1 div.sk-estimator {\n",
       "  font-family: monospace;\n",
       "  border: 1px dotted var(--sklearn-color-border-box);\n",
       "  border-radius: 0.25em;\n",
       "  box-sizing: border-box;\n",
       "  margin-bottom: 0.5em;\n",
       "  /* unfitted */\n",
       "  background-color: var(--sklearn-color-unfitted-level-0);\n",
       "}\n",
       "\n",
       "#sk-container-id-1 div.sk-estimator.fitted {\n",
       "  /* fitted */\n",
       "  background-color: var(--sklearn-color-fitted-level-0);\n",
       "}\n",
       "\n",
       "/* on hover */\n",
       "#sk-container-id-1 div.sk-estimator:hover {\n",
       "  /* unfitted */\n",
       "  background-color: var(--sklearn-color-unfitted-level-2);\n",
       "}\n",
       "\n",
       "#sk-container-id-1 div.sk-estimator.fitted:hover {\n",
       "  /* fitted */\n",
       "  background-color: var(--sklearn-color-fitted-level-2);\n",
       "}\n",
       "\n",
       "/* Specification for estimator info (e.g. \"i\" and \"?\") */\n",
       "\n",
       "/* Common style for \"i\" and \"?\" */\n",
       "\n",
       ".sk-estimator-doc-link,\n",
       "a:link.sk-estimator-doc-link,\n",
       "a:visited.sk-estimator-doc-link {\n",
       "  float: right;\n",
       "  font-size: smaller;\n",
       "  line-height: 1em;\n",
       "  font-family: monospace;\n",
       "  background-color: var(--sklearn-color-background);\n",
       "  border-radius: 1em;\n",
       "  height: 1em;\n",
       "  width: 1em;\n",
       "  text-decoration: none !important;\n",
       "  margin-left: 0.5em;\n",
       "  text-align: center;\n",
       "  /* unfitted */\n",
       "  border: var(--sklearn-color-unfitted-level-1) 1pt solid;\n",
       "  color: var(--sklearn-color-unfitted-level-1);\n",
       "}\n",
       "\n",
       ".sk-estimator-doc-link.fitted,\n",
       "a:link.sk-estimator-doc-link.fitted,\n",
       "a:visited.sk-estimator-doc-link.fitted {\n",
       "  /* fitted */\n",
       "  border: var(--sklearn-color-fitted-level-1) 1pt solid;\n",
       "  color: var(--sklearn-color-fitted-level-1);\n",
       "}\n",
       "\n",
       "/* On hover */\n",
       "div.sk-estimator:hover .sk-estimator-doc-link:hover,\n",
       ".sk-estimator-doc-link:hover,\n",
       "div.sk-label-container:hover .sk-estimator-doc-link:hover,\n",
       ".sk-estimator-doc-link:hover {\n",
       "  /* unfitted */\n",
       "  background-color: var(--sklearn-color-unfitted-level-3);\n",
       "  color: var(--sklearn-color-background);\n",
       "  text-decoration: none;\n",
       "}\n",
       "\n",
       "div.sk-estimator.fitted:hover .sk-estimator-doc-link.fitted:hover,\n",
       ".sk-estimator-doc-link.fitted:hover,\n",
       "div.sk-label-container:hover .sk-estimator-doc-link.fitted:hover,\n",
       ".sk-estimator-doc-link.fitted:hover {\n",
       "  /* fitted */\n",
       "  background-color: var(--sklearn-color-fitted-level-3);\n",
       "  color: var(--sklearn-color-background);\n",
       "  text-decoration: none;\n",
       "}\n",
       "\n",
       "/* Span, style for the box shown on hovering the info icon */\n",
       ".sk-estimator-doc-link span {\n",
       "  display: none;\n",
       "  z-index: 9999;\n",
       "  position: relative;\n",
       "  font-weight: normal;\n",
       "  right: .2ex;\n",
       "  padding: .5ex;\n",
       "  margin: .5ex;\n",
       "  width: min-content;\n",
       "  min-width: 20ex;\n",
       "  max-width: 50ex;\n",
       "  color: var(--sklearn-color-text);\n",
       "  box-shadow: 2pt 2pt 4pt #999;\n",
       "  /* unfitted */\n",
       "  background: var(--sklearn-color-unfitted-level-0);\n",
       "  border: .5pt solid var(--sklearn-color-unfitted-level-3);\n",
       "}\n",
       "\n",
       ".sk-estimator-doc-link.fitted span {\n",
       "  /* fitted */\n",
       "  background: var(--sklearn-color-fitted-level-0);\n",
       "  border: var(--sklearn-color-fitted-level-3);\n",
       "}\n",
       "\n",
       ".sk-estimator-doc-link:hover span {\n",
       "  display: block;\n",
       "}\n",
       "\n",
       "/* \"?\"-specific style due to the `<a>` HTML tag */\n",
       "\n",
       "#sk-container-id-1 a.estimator_doc_link {\n",
       "  float: right;\n",
       "  font-size: 1rem;\n",
       "  line-height: 1em;\n",
       "  font-family: monospace;\n",
       "  background-color: var(--sklearn-color-background);\n",
       "  border-radius: 1rem;\n",
       "  height: 1rem;\n",
       "  width: 1rem;\n",
       "  text-decoration: none;\n",
       "  /* unfitted */\n",
       "  color: var(--sklearn-color-unfitted-level-1);\n",
       "  border: var(--sklearn-color-unfitted-level-1) 1pt solid;\n",
       "}\n",
       "\n",
       "#sk-container-id-1 a.estimator_doc_link.fitted {\n",
       "  /* fitted */\n",
       "  border: var(--sklearn-color-fitted-level-1) 1pt solid;\n",
       "  color: var(--sklearn-color-fitted-level-1);\n",
       "}\n",
       "\n",
       "/* On hover */\n",
       "#sk-container-id-1 a.estimator_doc_link:hover {\n",
       "  /* unfitted */\n",
       "  background-color: var(--sklearn-color-unfitted-level-3);\n",
       "  color: var(--sklearn-color-background);\n",
       "  text-decoration: none;\n",
       "}\n",
       "\n",
       "#sk-container-id-1 a.estimator_doc_link.fitted:hover {\n",
       "  /* fitted */\n",
       "  background-color: var(--sklearn-color-fitted-level-3);\n",
       "}\n",
       "</style><div id=\"sk-container-id-1\" class=\"sk-top-container\"><div class=\"sk-text-repr-fallback\"><pre>LinearRegression()</pre><b>In a Jupyter environment, please rerun this cell to show the HTML representation or trust the notebook. <br />On GitHub, the HTML representation is unable to render, please try loading this page with nbviewer.org.</b></div><div class=\"sk-container\" hidden><div class=\"sk-item\"><div class=\"sk-estimator fitted sk-toggleable\"><input class=\"sk-toggleable__control sk-hidden--visually\" id=\"sk-estimator-id-1\" type=\"checkbox\" checked><label for=\"sk-estimator-id-1\" class=\"sk-toggleable__label fitted sk-toggleable__label-arrow\"><div><div>LinearRegression</div></div><div><a class=\"sk-estimator-doc-link fitted\" rel=\"noreferrer\" target=\"_blank\" href=\"https://scikit-learn.org/1.6/modules/generated/sklearn.linear_model.LinearRegression.html\">?<span>Documentation for LinearRegression</span></a><span class=\"sk-estimator-doc-link fitted\">i<span>Fitted</span></span></div></label><div class=\"sk-toggleable__content fitted\"><pre>LinearRegression()</pre></div> </div></div></div></div>"
      ],
      "text/plain": [
       "LinearRegression()"
      ]
     },
     "execution_count": 17,
     "metadata": {},
     "output_type": "execute_result"
    }
   ],
   "source": [
    "# build the polynomial regression model\n",
    "poly_model = LinearRegression()\n",
    "poly_model.fit(X_poly_train, y_train)"
   ]
  },
  {
   "cell_type": "code",
   "execution_count": 18,
   "metadata": {},
   "outputs": [
    {
     "data": {
      "text/plain": [
       "array([17.11248517, 22.22545794, 21.48013597,  7.29194307, 24.25090325,\n",
       "       13.12825544, 22.53973754,  8.60518861, 11.62323942, 15.52703964,\n",
       "        7.67875377,  8.54547414, 12.15521933,  5.17285299, 10.50193485,\n",
       "       12.095227  ,  6.40526398, 16.36097536, 11.22732048, 18.76103561,\n",
       "       19.60776214, 11.62897333,  9.493112  , 21.78376471,  9.25708004,\n",
       "        7.977186  , 22.1031492 , 12.81249392, 10.66311519,  5.21580322,\n",
       "       11.21971089, 10.71494125, 22.71964779,  8.46157422, 16.18971107,\n",
       "       20.84235212, 10.92054069, 20.73439222, 12.13257855,  6.43508762])"
      ]
     },
     "execution_count": 18,
     "metadata": {},
     "output_type": "execute_result"
    }
   ],
   "source": [
    "# predict on the test data using polynomial model\n",
    "y_pred_poly = poly_model.predict(X_poly_test)\n",
    "y_pred_poly"
   ]
  },
  {
   "cell_type": "code",
   "execution_count": 19,
   "metadata": {},
   "outputs": [
    {
     "name": "stdout",
     "output_type": "stream",
     "text": [
      "Mean Squared Error: 0.2945684090827446\n",
      "R2 Score: 0.9906674629189604\n"
     ]
    }
   ],
   "source": [
    "# evaluate the model using metrics like R2, MSE, MAE\n",
    "mse_poly = mean_squared_error(y_test, y_pred_poly)\n",
    "r2_poly = r2_score(y_test, y_pred_poly)\n",
    "\n",
    "print(f'Mean Squared Error: {mse_poly}')\n",
    "print(f'R2 Score: {r2_poly}')"
   ]
  },
  {
   "cell_type": "code",
   "execution_count": 20,
   "metadata": {},
   "outputs": [
    {
     "data": {
      "text/plain": [
       "<matplotlib.legend.Legend at 0x256913a5950>"
      ]
     },
     "execution_count": 20,
     "metadata": {},
     "output_type": "execute_result"
    },
    {
     "data": {
      "image/png": "[encoded data removed]",
      "text/plain": [
       "<Figure size 1000x500 with 2 Axes>"
      ]
     },
     "metadata": {},
     "output_type": "display_data"
    }
   ],
   "source": [
    "# Compare actual vs predicted values for both models\n",
    "\n",
    "plt.figure(figsize= (10, 5))\n",
    "\n",
    "# Linear Regression\n",
    "plt.subplot(1, 2, 1)\n",
    "plt.scatter(y_test, y_pred_linear, color = 'green', label = 'Actual vs Predicted', alpha=0.6)\n",
    "plt.plot ([y_test.min(), y_test.max()], [y_test.min(), y_test.max()], color = 'red', linestyle = '--')\n",
    "plt.xlabel('Actual Sales')\n",
    "plt.ylabel('Predicted Sales')\n",
    "plt.title('Linear Regression')\n",
    "plt.legend()\n",
    "\n",
    "# Polynomial Regression\n",
    "plt.subplot(1, 2, 2)\n",
    "plt.scatter(y_test, y_pred_poly, color = 'blue', label = 'Actual vs Predicted', alpha=0.6)\n",
    "plt.plot ([y_test.min(), y_test.max()], [y_test.min(), y_test.max()], color = 'red', linestyle = '--')\n",
    "plt.xlabel('Actual Sales')\n",
    "plt.ylabel('Predicted Sales')\n",
    "plt.title('Polynomial Regression')\n",
    "plt.legend()\n",
    "\n"
   ]
  },
  {
   "cell_type": "code",
   "execution_count": 21,
   "metadata": {},
   "outputs": [],
   "source": [
    "# To find the best degree of polynomial\n",
    "\n",
    "# create a polynomial regression with degree loop\n",
    "\n",
    "mse_list = []\n",
    "r2_list = []\n",
    "degrees = range(2, 6) # range of degrees from 2 to 5"
   ]
  },
  {
   "cell_type": "code",
   "execution_count": 22,
   "metadata": {},
   "outputs": [
    {
     "name": "stdout",
     "output_type": "stream",
     "text": [
      "Degree: 2, Mean Squared Error: 0.4129102285379215, R2 Score: 0.9869181490609598\n",
      "Degree: 3, Mean Squared Error: 0.2945684090827446, R2 Score: 0.9906674629189604\n",
      "Degree: 4, Mean Squared Error: 0.6179511096083203, R2 Score: 0.9804220294272314\n",
      "Degree: 5, Mean Squared Error: 76.50125194804102, R2 Score: -1.4237180516886174\n"
     ]
    }
   ],
   "source": [
    "for degree in degrees:\n",
    "    # transform features into polynomial features\n",
    "    poly = PolynomialFeatures(degree = degree)\n",
    "    X_poly_train = poly.fit_transform(X_train)\n",
    "    X_poly_test = poly.transform(X_test)\n",
    "\n",
    "    # build the polynomial regression model\n",
    "    poly_model = LinearRegression()\n",
    "    poly_model.fit(X_poly_train, y_train)\n",
    "\n",
    "    # predict on the test data using polynomial model\n",
    "    y_pred_poly = poly_model.predict(X_poly_test)\n",
    "\n",
    "    # evaluate the model using metrics like R2, MSE, MAE\n",
    "    mse = mean_squared_error(y_test, y_pred_poly)\n",
    "    r2 = r2_score(y_test, y_pred_poly)\n",
    "\n",
    "    # append the mse and r2 values to the list\n",
    "    mse_list.append(mse)\n",
    "    r2_list.append(r2)\n",
    "\n",
    "    # print the mse and r2 values\n",
    "    print(f'Degree: {degree}, Mean Squared Error: {mse}, R2 Score: {r2}')\n",
    "    "
   ]
  },
  {
   "cell_type": "code",
   "execution_count": 23,
   "metadata": {},
   "outputs": [
    {
     "data": {
      "image/png": "[encoded data removed]",
      "text/plain": [
       "<Figure size 1200x600 with 1 Axes>"
      ]
     },
     "metadata": {},
     "output_type": "display_data"
    }
   ],
   "source": [
    "# plot the mse and r2 values for different degrees\n",
    "\n",
    "plt.figure(figsize= (12, 6))\n",
    "plt.plot( [1] + list(degrees), [mse_linear] + mse_list, marker = 'o', color = 'blue', label = 'MSE')\n",
    "plt.plot( [1] + list(degrees), [r2_linear] + r2_list, marker = 'o', color = 'red', label = 'R2 Score')\n",
    "plt.xlabel('Degree of Polynomial')\n",
    "plt.ylabel('Metrics')\n",
    "plt.title('Polynomial Regression Metrics')\n",
    "plt.legend()\n",
    "plt.show()"
   ]
  },
  {
   "cell_type": "code",
   "execution_count": 24,
   "metadata": {},
   "outputs": [],
   "source": [
    "# predict on actual data\n",
    "\n",
    "poly = PolynomialFeatures(degree = 3)\n",
    "X_poly_train = poly.fit_transform(X_train)\n",
    "X_poly_test = poly.transform(X_test)\n",
    "\n",
    "# model\n",
    "poly_model = LinearRegression()\n",
    "poly_model.fit(X_poly_train, y_train)\n",
    "\n",
    "# actual value\n",
    "new_adv_data = pd.DataFrame([[150, 25, 14]], columns= X_train.columns)\n",
    "new_adv_data_poly = poly.transform(new_adv_data)\n",
    "\n",
    "# predict\n",
    "y_pred_poly = poly_model.predict(new_adv_data_poly)"
   ]
  },
  {
   "cell_type": "code",
   "execution_count": 25,
   "metadata": {},
   "outputs": [
    {
     "data": {
      "text/plain": [
       "array([15.25530706])"
      ]
     },
     "execution_count": 25,
     "metadata": {},
     "output_type": "execute_result"
    }
   ],
   "source": [
    "y_pred_poly"
   ]
  },
  {
   "cell_type": "code",
   "execution_count": null,
   "metadata": {},
   "outputs": [],
   "source": []
  }
 ],
 "metadata": {
  "kernelspec": {
   "display_name": "venv",
   "language": "python",
   "name": "python3"
  },
  "language_info": {
   "codemirror_mode": {
    "name": "ipython",
    "version": 3
   },
   "file_extension": ".py",
   "mimetype": "text/x-python",
   "name": "python",
   "nbconvert_exporter": "python",
   "pygments_lexer": "ipython3",
   "version": "3.13.1"
  }
 },
 "nbformat": 4,
 "nbformat_minor": 2
}
